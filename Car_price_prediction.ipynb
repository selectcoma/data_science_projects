{
 "cells": [
  {
   "cell_type": "markdown",
   "metadata": {},
   "source": [
    "# Automobile price prediction"
   ]
  },
  {
   "cell_type": "markdown",
   "metadata": {},
   "source": [
    "The service for the sale of cars with mileage \"Autoland\" is developing an application to attract new customers. It helps you quickly find out the market value of your car. We have historical data in our disposal: technical characteristics, features and prices of cars. We need to build a model to determine the cost."
   ]
  },
  {
   "cell_type": "code",
   "execution_count": 4,
   "metadata": {},
   "outputs": [],
   "source": [
    "import os\n",
    "import numpy as np\n",
    "import pandas as pd\n",
    "import datetime as dt\n",
    "\n",
    "\n",
    "from sklearn.preprocessing import OneHotEncoder\n",
    "from sklearn.preprocessing import StandardScaler\n",
    "from sklearn.model_selection import train_test_split\n",
    "from sklearn.model_selection import GridSearchCV, StratifiedKFold\n",
    "from sklearn.metrics import mean_squared_error\n",
    "from sklearn.preprocessing import OneHotEncoder\n",
    "from sklearn.preprocessing import StandardScaler, OrdinalEncoder\n",
    "from sklearn.metrics import make_scorer\n",
    "from sklearn.dummy import DummyRegressor\n",
    "\n",
    "\n",
    "from catboost import CatBoostRegressor\n",
    "from lightgbm import LGBMRegressor\n",
    "from sklearn.ensemble import RandomForestRegressor\n",
    "from xgboost import XGBRegressor\n",
    "\n",
    "import warnings\n",
    "import seaborn as sns\n",
    "import matplotlib.pyplot as plt\n",
    "\n",
    "sns.set()\n",
    "\n",
    "\n",
    "%config InlineBackend.figure_format = 'retina'\n",
    "\n",
    "warnings.filterwarnings(\"ignore\")"
   ]
  },
  {
   "cell_type": "code",
   "execution_count": 5,
   "metadata": {},
   "outputs": [],
   "source": [
    "cwd = os.getcwd()"
   ]
  },
  {
   "cell_type": "code",
   "execution_count": 6,
   "metadata": {},
   "outputs": [],
   "source": [
    "try:\n",
    "    df = pd.read_csv(cwd+'/autos.csv')\n",
    "except:\n",
    "    df = pd.read_csv('/datasets/autos.csv')"
   ]
  },
  {
   "cell_type": "markdown",
   "metadata": {},
   "source": [
    "# Overview"
   ]
  },
  {
   "cell_type": "code",
   "execution_count": 7,
   "metadata": {},
   "outputs": [
    {
     "data": {
      "text/plain": [
       "(354369, 16)"
      ]
     },
     "execution_count": 7,
     "metadata": {},
     "output_type": "execute_result"
    }
   ],
   "source": [
    "df.shape"
   ]
  },
  {
   "cell_type": "code",
   "execution_count": 8,
   "metadata": {},
   "outputs": [
    {
     "name": "stdout",
     "output_type": "stream",
     "text": [
      "<class 'pandas.core.frame.DataFrame'>\n",
      "RangeIndex: 354369 entries, 0 to 354368\n",
      "Data columns (total 16 columns):\n",
      "DateCrawled          354369 non-null object\n",
      "Price                354369 non-null int64\n",
      "VehicleType          316879 non-null object\n",
      "RegistrationYear     354369 non-null int64\n",
      "Gearbox              334536 non-null object\n",
      "Power                354369 non-null int64\n",
      "Model                334664 non-null object\n",
      "Kilometer            354369 non-null int64\n",
      "RegistrationMonth    354369 non-null int64\n",
      "FuelType             321474 non-null object\n",
      "Brand                354369 non-null object\n",
      "NotRepaired          283215 non-null object\n",
      "DateCreated          354369 non-null object\n",
      "NumberOfPictures     354369 non-null int64\n",
      "PostalCode           354369 non-null int64\n",
      "LastSeen             354369 non-null object\n",
      "dtypes: int64(7), object(9)\n",
      "memory usage: 43.3+ MB\n"
     ]
    }
   ],
   "source": [
    "df.info()"
   ]
  },
  {
   "cell_type": "markdown",
   "metadata": {},
   "source": [
    "Let's delete all useless columns"
   ]
  },
  {
   "cell_type": "code",
   "execution_count": 9,
   "metadata": {},
   "outputs": [],
   "source": [
    "unused_cols = ['DateCrawled', 'RegistrationMonth', 'DateCreated', 'PostalCode', 'LastSeen', 'NumberOfPictures']\n",
    "cat_cols = ['VehicleType', 'Gearbox', 'Model', 'FuelType', 'Brand', 'NotRepaired']\n",
    "num_cols = ['RegistrationYear', 'Power', 'Kilometer']"
   ]
  },
  {
   "cell_type": "code",
   "execution_count": 10,
   "metadata": {},
   "outputs": [],
   "source": [
    "df = df.drop(unused_cols, axis=1)"
   ]
  },
  {
   "cell_type": "markdown",
   "metadata": {},
   "source": [
    "## Check data relevance"
   ]
  },
  {
   "cell_type": "code",
   "execution_count": 11,
   "metadata": {},
   "outputs": [
    {
     "data": {
      "text/plain": [
       "count    354369.000000\n",
       "mean       4416.656776\n",
       "std        4514.158514\n",
       "min           0.000000\n",
       "25%        1050.000000\n",
       "50%        2700.000000\n",
       "75%        6400.000000\n",
       "max       20000.000000\n",
       "Name: Price, dtype: float64"
      ]
     },
     "execution_count": 11,
     "metadata": {},
     "output_type": "execute_result"
    }
   ],
   "source": [
    "df.Price.describe()"
   ]
  },
  {
   "cell_type": "code",
   "execution_count": 12,
   "metadata": {},
   "outputs": [
    {
     "data": {
      "text/plain": [
       "count    354369.000000\n",
       "mean       2004.234448\n",
       "std          90.227958\n",
       "min        1000.000000\n",
       "25%        1999.000000\n",
       "50%        2003.000000\n",
       "75%        2008.000000\n",
       "max        9999.000000\n",
       "Name: RegistrationYear, dtype: float64"
      ]
     },
     "execution_count": 12,
     "metadata": {},
     "output_type": "execute_result"
    }
   ],
   "source": [
    "df.RegistrationYear.describe()"
   ]
  },
  {
   "cell_type": "code",
   "execution_count": 13,
   "metadata": {},
   "outputs": [],
   "source": [
    "df = df[df['Price']>0]"
   ]
  },
  {
   "cell_type": "code",
   "execution_count": 14,
   "metadata": {},
   "outputs": [],
   "source": [
    "df = df[(df['RegistrationYear']< 2021) & (df['RegistrationYear']> 1940)]"
   ]
  },
  {
   "cell_type": "markdown",
   "metadata": {},
   "source": [
    "Let's check other features"
   ]
  },
  {
   "cell_type": "code",
   "execution_count": 15,
   "metadata": {},
   "outputs": [
    {
     "data": {
      "text/plain": [
       "array(['manual', 'auto', nan], dtype=object)"
      ]
     },
     "execution_count": 15,
     "metadata": {},
     "output_type": "execute_result"
    }
   ],
   "source": [
    "df.Gearbox.unique()"
   ]
  },
  {
   "cell_type": "code",
   "execution_count": 16,
   "metadata": {},
   "outputs": [
    {
     "data": {
      "text/plain": [
       "array([nan, 'coupe', 'suv', 'small', 'sedan', 'convertible', 'bus',\n",
       "       'wagon', 'other'], dtype=object)"
      ]
     },
     "execution_count": 16,
     "metadata": {},
     "output_type": "execute_result"
    }
   ],
   "source": [
    "df.VehicleType.unique()"
   ]
  },
  {
   "cell_type": "code",
   "execution_count": 17,
   "metadata": {},
   "outputs": [
    {
     "data": {
      "text/plain": [
       "array(['petrol', 'gasoline', nan, 'lpg', 'other', 'hybrid', 'cng',\n",
       "       'electric'], dtype=object)"
      ]
     },
     "execution_count": 17,
     "metadata": {},
     "output_type": "execute_result"
    }
   ],
   "source": [
    "df.FuelType.unique()"
   ]
  },
  {
   "cell_type": "code",
   "execution_count": 18,
   "metadata": {},
   "outputs": [
    {
     "data": {
      "text/plain": [
       "array(['volkswagen', 'audi', 'jeep', 'skoda', 'bmw', 'peugeot', 'ford',\n",
       "       'mazda', 'nissan', 'renault', 'mercedes_benz', 'opel', 'seat',\n",
       "       'citroen', 'honda', 'fiat', 'mini', 'smart', 'hyundai',\n",
       "       'sonstige_autos', 'alfa_romeo', 'subaru', 'volvo', 'mitsubishi',\n",
       "       'kia', 'suzuki', 'lancia', 'toyota', 'chevrolet', 'dacia',\n",
       "       'daihatsu', 'trabant', 'chrysler', 'jaguar', 'daewoo', 'porsche',\n",
       "       'rover', 'saab', 'land_rover', 'lada'], dtype=object)"
      ]
     },
     "execution_count": 18,
     "metadata": {},
     "output_type": "execute_result"
    }
   ],
   "source": [
    "df.Brand.unique()"
   ]
  },
  {
   "cell_type": "code",
   "execution_count": 19,
   "metadata": {},
   "outputs": [
    {
     "data": {
      "text/plain": [
       "array(['golf', nan, 'grand', 'fabia', '3er', '2_reihe', 'c_max',\n",
       "       '3_reihe', 'passat', 'navara', 'polo', 'twingo', 'a_klasse',\n",
       "       'scirocco', '5er', 'meriva', 'arosa', 'other', 'c4', 'civic',\n",
       "       'transporter', 'punto', 'e_klasse', 'clio', 'kadett', 'kangoo',\n",
       "       'one', 'fortwo', '1er', 'b_klasse', 'signum', 'astra', 'a8',\n",
       "       'jetta', 'fiesta', 'c_klasse', 'micra', 'vito', 'sprinter', '156',\n",
       "       'escort', 'forester', 'xc_reihe', 'scenic', 'a4', 'ka', 'a1',\n",
       "       'insignia', 'combo', 'focus', 'tt', 'corsa', 'a6', 'jazz', 'omega',\n",
       "       'slk', '7er', '80', '147', '100', 'z_reihe', 'sportage', 'sorento',\n",
       "       'v40', 'ibiza', 'mustang', 'eos', 'touran', 'getz', 'a3', 'almera',\n",
       "       'megane', 'lupo', 'r19', 'zafira', 'caddy', 'mondeo', 'cordoba',\n",
       "       'colt', 'impreza', 'vectra', 'berlingo', 'tiguan', 'i_reihe',\n",
       "       'espace', 'sharan', '6_reihe', 'panda', 'up', 'seicento', 'ceed',\n",
       "       '5_reihe', 'yeti', 'octavia', 'mii', 'rx_reihe', '6er', 'modus',\n",
       "       'fox', 'matiz', 'beetle', 'c1', 'rio', 'touareg', 'logan',\n",
       "       'spider', 'cuore', 's_max', 'a2', 'galaxy', 'c3', 'viano',\n",
       "       's_klasse', '1_reihe', 'avensis', 'roomster', 'sl', 'kaefer',\n",
       "       'santa', 'cooper', 'leon', '4_reihe', 'a5', '500', 'laguna',\n",
       "       'ptcruiser', 'clk', 'primera', 'x_reihe', 'exeo', '159', 'transit',\n",
       "       'juke', 'qashqai', 'carisma', 'accord', 'corolla', 'lanos',\n",
       "       'phaeton', 'verso', 'swift', 'rav', 'picanto', 'boxster', 'kalos',\n",
       "       'superb', 'stilo', 'alhambra', 'mx_reihe', 'roadster', 'ypsilon',\n",
       "       'cayenne', 'galant', 'justy', '90', 'sirion', 'crossfire', 'agila',\n",
       "       'duster', 'cr_reihe', 'v50', 'c_reihe', 'v_klasse', 'm_klasse',\n",
       "       'yaris', 'c5', 'aygo', 'cc', 'carnival', 'fusion', '911', 'bora',\n",
       "       'forfour', 'cl', 'tigra', '300c', 'spark', 'v70', 'kuga', 'x_type',\n",
       "       'ducato', 's_type', 'x_trail', 'toledo', 'altea', 'voyager',\n",
       "       'calibra', 'bravo', 'antara', 'tucson', 'citigo', 'jimny',\n",
       "       'wrangler', 'lybra', 'q7', 'lancer', 'captiva', 'c2', 'discovery',\n",
       "       'freelander', 'sandero', 'note', '900', 'cherokee', 'clubman',\n",
       "       'samara', 'defender', '601', 'cx_reihe', 'legacy', 'pajero',\n",
       "       'auris', 'niva', 's60', 'm_reihe', 'nubira', 'vivaro', 'g_klasse',\n",
       "       'lodgy', '850', 'range_rover', 'q3', 'serie_2', 'glk', 'charade',\n",
       "       'croma', 'outlander', 'doblo', 'musa', 'move', '9000', 'v60',\n",
       "       '145', 'aveo', '200', 'b_max', 'range_rover_sport', 'terios',\n",
       "       'rangerover', 'q5', 'range_rover_evoque', 'materia', 'delta', 'gl',\n",
       "       'kalina', 'amarok', 'elefantino', 'i3', 'kappa', 'serie_3',\n",
       "       'serie_1'], dtype=object)"
      ]
     },
     "execution_count": 19,
     "metadata": {},
     "output_type": "execute_result"
    }
   ],
   "source": [
    "df.Model.unique()"
   ]
  },
  {
   "cell_type": "markdown",
   "metadata": {},
   "source": [
    "Everything is ОК in categorical data"
   ]
  },
  {
   "cell_type": "code",
   "execution_count": 20,
   "metadata": {},
   "outputs": [
    {
     "data": {
      "text/plain": [
       "count    343352.000000\n",
       "mean        111.009399\n",
       "std         187.874492\n",
       "min           0.000000\n",
       "25%          69.000000\n",
       "50%         105.000000\n",
       "75%         143.000000\n",
       "max       20000.000000\n",
       "Name: Power, dtype: float64"
      ]
     },
     "execution_count": 20,
     "metadata": {},
     "output_type": "execute_result"
    }
   ],
   "source": [
    "df.Power.describe()"
   ]
  },
  {
   "cell_type": "code",
   "execution_count": 21,
   "metadata": {},
   "outputs": [
    {
     "data": {
      "text/html": [
       "<div>\n",
       "<style scoped>\n",
       "    .dataframe tbody tr th:only-of-type {\n",
       "        vertical-align: middle;\n",
       "    }\n",
       "\n",
       "    .dataframe tbody tr th {\n",
       "        vertical-align: top;\n",
       "    }\n",
       "\n",
       "    .dataframe thead th {\n",
       "        text-align: right;\n",
       "    }\n",
       "</style>\n",
       "<table border=\"1\" class=\"dataframe\">\n",
       "  <thead>\n",
       "    <tr style=\"text-align: right;\">\n",
       "      <th></th>\n",
       "      <th>Price</th>\n",
       "      <th>VehicleType</th>\n",
       "      <th>RegistrationYear</th>\n",
       "      <th>Gearbox</th>\n",
       "      <th>Power</th>\n",
       "      <th>Model</th>\n",
       "      <th>Kilometer</th>\n",
       "      <th>FuelType</th>\n",
       "      <th>Brand</th>\n",
       "      <th>NotRepaired</th>\n",
       "    </tr>\n",
       "  </thead>\n",
       "  <tbody>\n",
       "    <tr>\n",
       "      <td>211914</td>\n",
       "      <td>650</td>\n",
       "      <td>NaN</td>\n",
       "      <td>2000</td>\n",
       "      <td>manual</td>\n",
       "      <td>0</td>\n",
       "      <td>e_klasse</td>\n",
       "      <td>150000</td>\n",
       "      <td>petrol</td>\n",
       "      <td>mercedes_benz</td>\n",
       "      <td>no</td>\n",
       "    </tr>\n",
       "    <tr>\n",
       "      <td>162565</td>\n",
       "      <td>2500</td>\n",
       "      <td>small</td>\n",
       "      <td>1997</td>\n",
       "      <td>manual</td>\n",
       "      <td>0</td>\n",
       "      <td>a3</td>\n",
       "      <td>150000</td>\n",
       "      <td>NaN</td>\n",
       "      <td>audi</td>\n",
       "      <td>no</td>\n",
       "    </tr>\n",
       "    <tr>\n",
       "      <td>326490</td>\n",
       "      <td>500</td>\n",
       "      <td>NaN</td>\n",
       "      <td>2017</td>\n",
       "      <td>auto</td>\n",
       "      <td>0</td>\n",
       "      <td>NaN</td>\n",
       "      <td>150000</td>\n",
       "      <td>petrol</td>\n",
       "      <td>audi</td>\n",
       "      <td>no</td>\n",
       "    </tr>\n",
       "  </tbody>\n",
       "</table>\n",
       "</div>"
      ],
      "text/plain": [
       "        Price VehicleType  RegistrationYear Gearbox  Power     Model  \\\n",
       "211914    650         NaN              2000  manual      0  e_klasse   \n",
       "162565   2500       small              1997  manual      0        a3   \n",
       "326490    500         NaN              2017    auto      0       NaN   \n",
       "\n",
       "        Kilometer FuelType          Brand NotRepaired  \n",
       "211914     150000   petrol  mercedes_benz          no  \n",
       "162565     150000      NaN           audi          no  \n",
       "326490     150000   petrol           audi          no  "
      ]
     },
     "execution_count": 21,
     "metadata": {},
     "output_type": "execute_result"
    }
   ],
   "source": [
    "df[df['Power']==0].sample(3)"
   ]
  },
  {
   "cell_type": "code",
   "execution_count": 22,
   "metadata": {},
   "outputs": [
    {
     "data": {
      "text/html": [
       "<div>\n",
       "<style scoped>\n",
       "    .dataframe tbody tr th:only-of-type {\n",
       "        vertical-align: middle;\n",
       "    }\n",
       "\n",
       "    .dataframe tbody tr th {\n",
       "        vertical-align: top;\n",
       "    }\n",
       "\n",
       "    .dataframe thead th {\n",
       "        text-align: right;\n",
       "    }\n",
       "</style>\n",
       "<table border=\"1\" class=\"dataframe\">\n",
       "  <thead>\n",
       "    <tr style=\"text-align: right;\">\n",
       "      <th></th>\n",
       "      <th>Price</th>\n",
       "      <th>VehicleType</th>\n",
       "      <th>RegistrationYear</th>\n",
       "      <th>Gearbox</th>\n",
       "      <th>Power</th>\n",
       "      <th>Model</th>\n",
       "      <th>Kilometer</th>\n",
       "      <th>FuelType</th>\n",
       "      <th>Brand</th>\n",
       "      <th>NotRepaired</th>\n",
       "    </tr>\n",
       "  </thead>\n",
       "  <tbody>\n",
       "    <tr>\n",
       "      <td>219584</td>\n",
       "      <td>4300</td>\n",
       "      <td>coupe</td>\n",
       "      <td>1999</td>\n",
       "      <td>auto</td>\n",
       "      <td>20000</td>\n",
       "      <td>clk</td>\n",
       "      <td>150000</td>\n",
       "      <td>petrol</td>\n",
       "      <td>mercedes_benz</td>\n",
       "      <td>no</td>\n",
       "    </tr>\n",
       "    <tr>\n",
       "      <td>299180</td>\n",
       "      <td>1500</td>\n",
       "      <td>wagon</td>\n",
       "      <td>1997</td>\n",
       "      <td>manual</td>\n",
       "      <td>19312</td>\n",
       "      <td>5er</td>\n",
       "      <td>150000</td>\n",
       "      <td>NaN</td>\n",
       "      <td>bmw</td>\n",
       "      <td>no</td>\n",
       "    </tr>\n",
       "    <tr>\n",
       "      <td>114106</td>\n",
       "      <td>9999</td>\n",
       "      <td>sedan</td>\n",
       "      <td>2006</td>\n",
       "      <td>manual</td>\n",
       "      <td>19211</td>\n",
       "      <td>1er</td>\n",
       "      <td>125000</td>\n",
       "      <td>gasoline</td>\n",
       "      <td>bmw</td>\n",
       "      <td>NaN</td>\n",
       "    </tr>\n",
       "    <tr>\n",
       "      <td>132485</td>\n",
       "      <td>2100</td>\n",
       "      <td>wagon</td>\n",
       "      <td>2001</td>\n",
       "      <td>manual</td>\n",
       "      <td>19208</td>\n",
       "      <td>5er</td>\n",
       "      <td>150000</td>\n",
       "      <td>NaN</td>\n",
       "      <td>bmw</td>\n",
       "      <td>yes</td>\n",
       "    </tr>\n",
       "    <tr>\n",
       "      <td>63986</td>\n",
       "      <td>3250</td>\n",
       "      <td>sedan</td>\n",
       "      <td>2001</td>\n",
       "      <td>auto</td>\n",
       "      <td>17932</td>\n",
       "      <td>omega</td>\n",
       "      <td>150000</td>\n",
       "      <td>petrol</td>\n",
       "      <td>opel</td>\n",
       "      <td>NaN</td>\n",
       "    </tr>\n",
       "  </tbody>\n",
       "</table>\n",
       "</div>"
      ],
      "text/plain": [
       "        Price VehicleType  RegistrationYear Gearbox  Power  Model  Kilometer  \\\n",
       "219584   4300       coupe              1999    auto  20000    clk     150000   \n",
       "299180   1500       wagon              1997  manual  19312    5er     150000   \n",
       "114106   9999       sedan              2006  manual  19211    1er     125000   \n",
       "132485   2100       wagon              2001  manual  19208    5er     150000   \n",
       "63986    3250       sedan              2001    auto  17932  omega     150000   \n",
       "\n",
       "        FuelType          Brand NotRepaired  \n",
       "219584    petrol  mercedes_benz          no  \n",
       "299180       NaN            bmw          no  \n",
       "114106  gasoline            bmw         NaN  \n",
       "132485       NaN            bmw         yes  \n",
       "63986     petrol           opel         NaN  "
      ]
     },
     "execution_count": 22,
     "metadata": {},
     "output_type": "execute_result"
    }
   ],
   "source": [
    "df[df['Power']>500].sort_values('Power', ascending=False).head()"
   ]
  },
  {
   "cell_type": "code",
   "execution_count": 23,
   "metadata": {},
   "outputs": [
    {
     "data": {
      "text/html": [
       "<div>\n",
       "<style scoped>\n",
       "    .dataframe tbody tr th:only-of-type {\n",
       "        vertical-align: middle;\n",
       "    }\n",
       "\n",
       "    .dataframe tbody tr th {\n",
       "        vertical-align: top;\n",
       "    }\n",
       "\n",
       "    .dataframe thead th {\n",
       "        text-align: right;\n",
       "    }\n",
       "</style>\n",
       "<table border=\"1\" class=\"dataframe\">\n",
       "  <thead>\n",
       "    <tr style=\"text-align: right;\">\n",
       "      <th></th>\n",
       "      <th>Price</th>\n",
       "      <th>VehicleType</th>\n",
       "      <th>RegistrationYear</th>\n",
       "      <th>Gearbox</th>\n",
       "      <th>Power</th>\n",
       "      <th>Model</th>\n",
       "      <th>Kilometer</th>\n",
       "      <th>FuelType</th>\n",
       "      <th>Brand</th>\n",
       "      <th>NotRepaired</th>\n",
       "    </tr>\n",
       "  </thead>\n",
       "  <tbody>\n",
       "    <tr>\n",
       "      <td>23188</td>\n",
       "      <td>11999</td>\n",
       "      <td>wagon</td>\n",
       "      <td>2002</td>\n",
       "      <td>auto</td>\n",
       "      <td>504</td>\n",
       "      <td>other</td>\n",
       "      <td>150000</td>\n",
       "      <td>petrol</td>\n",
       "      <td>audi</td>\n",
       "      <td>no</td>\n",
       "    </tr>\n",
       "    <tr>\n",
       "      <td>221255</td>\n",
       "      <td>12699</td>\n",
       "      <td>NaN</td>\n",
       "      <td>2017</td>\n",
       "      <td>auto</td>\n",
       "      <td>504</td>\n",
       "      <td>NaN</td>\n",
       "      <td>150000</td>\n",
       "      <td>petrol</td>\n",
       "      <td>audi</td>\n",
       "      <td>yes</td>\n",
       "    </tr>\n",
       "    <tr>\n",
       "      <td>124994</td>\n",
       "      <td>12900</td>\n",
       "      <td>wagon</td>\n",
       "      <td>2003</td>\n",
       "      <td>auto</td>\n",
       "      <td>504</td>\n",
       "      <td>other</td>\n",
       "      <td>150000</td>\n",
       "      <td>petrol</td>\n",
       "      <td>audi</td>\n",
       "      <td>no</td>\n",
       "    </tr>\n",
       "    <tr>\n",
       "      <td>177451</td>\n",
       "      <td>11999</td>\n",
       "      <td>wagon</td>\n",
       "      <td>2002</td>\n",
       "      <td>auto</td>\n",
       "      <td>505</td>\n",
       "      <td>other</td>\n",
       "      <td>150000</td>\n",
       "      <td>petrol</td>\n",
       "      <td>audi</td>\n",
       "      <td>no</td>\n",
       "    </tr>\n",
       "    <tr>\n",
       "      <td>241096</td>\n",
       "      <td>2500</td>\n",
       "      <td>coupe</td>\n",
       "      <td>2005</td>\n",
       "      <td>auto</td>\n",
       "      <td>507</td>\n",
       "      <td>m_reihe</td>\n",
       "      <td>125000</td>\n",
       "      <td>petrol</td>\n",
       "      <td>bmw</td>\n",
       "      <td>yes</td>\n",
       "    </tr>\n",
       "  </tbody>\n",
       "</table>\n",
       "</div>"
      ],
      "text/plain": [
       "        Price VehicleType  RegistrationYear Gearbox  Power    Model  \\\n",
       "23188   11999       wagon              2002    auto    504    other   \n",
       "221255  12699         NaN              2017    auto    504      NaN   \n",
       "124994  12900       wagon              2003    auto    504    other   \n",
       "177451  11999       wagon              2002    auto    505    other   \n",
       "241096   2500       coupe              2005    auto    507  m_reihe   \n",
       "\n",
       "        Kilometer FuelType Brand NotRepaired  \n",
       "23188      150000   petrol  audi          no  \n",
       "221255     150000   petrol  audi         yes  \n",
       "124994     150000   petrol  audi          no  \n",
       "177451     150000   petrol  audi          no  \n",
       "241096     125000   petrol   bmw         yes  "
      ]
     },
     "execution_count": 23,
     "metadata": {},
     "output_type": "execute_result"
    }
   ],
   "source": [
    "df[df['Power']>500].sort_values('Power').head()"
   ]
  },
  {
   "cell_type": "code",
   "execution_count": 24,
   "metadata": {},
   "outputs": [],
   "source": [
    "df = df[(df['Power']>0) & (df['Power']<500)]"
   ]
  },
  {
   "cell_type": "markdown",
   "metadata": {},
   "source": [
    "there is no BMW from 2002 with 504 horse power, data is erroneous"
   ]
  },
  {
   "cell_type": "code",
   "execution_count": 25,
   "metadata": {},
   "outputs": [],
   "source": [
    "def na_describe(df):\n",
    "    na_df = pd.concat([df.isna().sum(), df.isna().sum()/len(df)*100], axis=1)\n",
    "    na_df.columns = [\"missing count\", \"missing %\"]\n",
    "    na_df = na_df[na_df[\"missing count\"] > 0]\n",
    "    na_df = na_df.sort_values(by=\"missing %\", ascending=False)\n",
    "    if na_df.empty:\n",
    "        return f'The dataset has no missing values'\n",
    "    return na_df"
   ]
  },
  {
   "cell_type": "code",
   "execution_count": 26,
   "metadata": {},
   "outputs": [
    {
     "data": {
      "text/html": [
       "<div>\n",
       "<style scoped>\n",
       "    .dataframe tbody tr th:only-of-type {\n",
       "        vertical-align: middle;\n",
       "    }\n",
       "\n",
       "    .dataframe tbody tr th {\n",
       "        vertical-align: top;\n",
       "    }\n",
       "\n",
       "    .dataframe thead th {\n",
       "        text-align: right;\n",
       "    }\n",
       "</style>\n",
       "<table border=\"1\" class=\"dataframe\">\n",
       "  <thead>\n",
       "    <tr style=\"text-align: right;\">\n",
       "      <th></th>\n",
       "      <th>missing count</th>\n",
       "      <th>missing %</th>\n",
       "    </tr>\n",
       "  </thead>\n",
       "  <tbody>\n",
       "    <tr>\n",
       "      <td>NotRepaired</td>\n",
       "      <td>47002</td>\n",
       "      <td>15.324424</td>\n",
       "    </tr>\n",
       "    <tr>\n",
       "      <td>VehicleType</td>\n",
       "      <td>21297</td>\n",
       "      <td>6.943625</td>\n",
       "    </tr>\n",
       "    <tr>\n",
       "      <td>FuelType</td>\n",
       "      <td>19715</td>\n",
       "      <td>6.427833</td>\n",
       "    </tr>\n",
       "    <tr>\n",
       "      <td>Model</td>\n",
       "      <td>12421</td>\n",
       "      <td>4.049714</td>\n",
       "    </tr>\n",
       "    <tr>\n",
       "      <td>Gearbox</td>\n",
       "      <td>6062</td>\n",
       "      <td>1.976441</td>\n",
       "    </tr>\n",
       "  </tbody>\n",
       "</table>\n",
       "</div>"
      ],
      "text/plain": [
       "             missing count  missing %\n",
       "NotRepaired          47002  15.324424\n",
       "VehicleType          21297   6.943625\n",
       "FuelType             19715   6.427833\n",
       "Model                12421   4.049714\n",
       "Gearbox               6062   1.976441"
      ]
     },
     "execution_count": 26,
     "metadata": {},
     "output_type": "execute_result"
    }
   ],
   "source": [
    "na_describe(df)"
   ]
  },
  {
   "cell_type": "markdown",
   "metadata": {},
   "source": [
    "We've got a lot of missing data in the <code> NotRepaired </code> column"
   ]
  },
  {
   "cell_type": "code",
   "execution_count": 27,
   "metadata": {},
   "outputs": [
    {
     "data": {
      "text/html": [
       "<div>\n",
       "<style scoped>\n",
       "    .dataframe tbody tr th:only-of-type {\n",
       "        vertical-align: middle;\n",
       "    }\n",
       "\n",
       "    .dataframe tbody tr th {\n",
       "        vertical-align: top;\n",
       "    }\n",
       "\n",
       "    .dataframe thead th {\n",
       "        text-align: right;\n",
       "    }\n",
       "</style>\n",
       "<table border=\"1\" class=\"dataframe\">\n",
       "  <thead>\n",
       "    <tr style=\"text-align: right;\">\n",
       "      <th></th>\n",
       "      <th>mean</th>\n",
       "      <th>median</th>\n",
       "      <th>min</th>\n",
       "      <th>max</th>\n",
       "      <th>count</th>\n",
       "    </tr>\n",
       "    <tr>\n",
       "      <th>NotRepaired</th>\n",
       "      <th></th>\n",
       "      <th></th>\n",
       "      <th></th>\n",
       "      <th></th>\n",
       "      <th></th>\n",
       "    </tr>\n",
       "  </thead>\n",
       "  <tbody>\n",
       "    <tr>\n",
       "      <td>no</td>\n",
       "      <td>5494.159758</td>\n",
       "      <td>3900</td>\n",
       "      <td>1</td>\n",
       "      <td>20000</td>\n",
       "      <td>230011</td>\n",
       "    </tr>\n",
       "    <tr>\n",
       "      <td>yes</td>\n",
       "      <td>2130.826667</td>\n",
       "      <td>1000</td>\n",
       "      <td>1</td>\n",
       "      <td>20000</td>\n",
       "      <td>29700</td>\n",
       "    </tr>\n",
       "  </tbody>\n",
       "</table>\n",
       "</div>"
      ],
      "text/plain": [
       "                    mean  median  min    max   count\n",
       "NotRepaired                                         \n",
       "no           5494.159758    3900    1  20000  230011\n",
       "yes          2130.826667    1000    1  20000   29700"
      ]
     },
     "execution_count": 27,
     "metadata": {},
     "output_type": "execute_result"
    }
   ],
   "source": [
    "df.groupby('NotRepaired')['Price'].agg(['mean', 'median', 'min', 'max', 'count'])"
   ]
  },
  {
   "cell_type": "markdown",
   "metadata": {},
   "source": [
    "We can't really fill this empty values with for example the median value because we risk to distort  the data, so let's just make them<code> 'unknown' </code>"
   ]
  },
  {
   "cell_type": "code",
   "execution_count": 28,
   "metadata": {},
   "outputs": [],
   "source": [
    "df = df.fillna('unknown')"
   ]
  },
  {
   "cell_type": "code",
   "execution_count": 29,
   "metadata": {},
   "outputs": [
    {
     "data": {
      "text/plain": [
       "'The dataset has no missing values'"
      ]
     },
     "execution_count": 29,
     "metadata": {},
     "output_type": "execute_result"
    }
   ],
   "source": [
    "na_describe(df)"
   ]
  },
  {
   "cell_type": "code",
   "execution_count": 30,
   "metadata": {},
   "outputs": [
    {
     "data": {
      "text/plain": [
       "39771"
      ]
     },
     "execution_count": 30,
     "metadata": {},
     "output_type": "execute_result"
    }
   ],
   "source": [
    "df.duplicated().sum()"
   ]
  },
  {
   "cell_type": "code",
   "execution_count": 31,
   "metadata": {},
   "outputs": [],
   "source": [
    "df = df.drop_duplicates()"
   ]
  },
  {
   "cell_type": "code",
   "execution_count": 32,
   "metadata": {},
   "outputs": [
    {
     "data": {
      "text/plain": [
       "0"
      ]
     },
     "execution_count": 32,
     "metadata": {},
     "output_type": "execute_result"
    }
   ],
   "source": [
    "df.duplicated().sum()"
   ]
  },
  {
   "cell_type": "markdown",
   "metadata": {},
   "source": [
    "# Preprocessing for the models"
   ]
  },
  {
   "cell_type": "markdown",
   "metadata": {},
   "source": [
    "Well test the following models on our data:\n",
    "- Random Forest\n",
    "- XGB\n",
    "- LightGBM\n",
    "- Catboost"
   ]
  },
  {
   "cell_type": "markdown",
   "metadata": {},
   "source": [
    "We won't use any linear models because we've got a lot of categorical data and using OHE we'd get +300 new columns and it would be hard ( and long ) to train \n",
    "\n",
    "LightGBM and Catboost can deal with categorical data, let's make two datasets - one for XGB and RandomForest and the other one for the Catboost and LightGBM"
   ]
  },
  {
   "cell_type": "code",
   "execution_count": 33,
   "metadata": {},
   "outputs": [
    {
     "name": "stdout",
     "output_type": "stream",
     "text": [
      "<class 'pandas.core.frame.DataFrame'>\n",
      "Int64Index: 266942 entries, 1 to 354368\n",
      "Data columns (total 10 columns):\n",
      "Price               266942 non-null int64\n",
      "VehicleType         266942 non-null object\n",
      "RegistrationYear    266942 non-null int64\n",
      "Gearbox             266942 non-null object\n",
      "Power               266942 non-null int64\n",
      "Model               266942 non-null object\n",
      "Kilometer           266942 non-null int64\n",
      "FuelType            266942 non-null object\n",
      "Brand               266942 non-null object\n",
      "NotRepaired         266942 non-null object\n",
      "dtypes: int64(4), object(6)\n",
      "memory usage: 22.4+ MB\n"
     ]
    }
   ],
   "source": [
    "df.info()"
   ]
  },
  {
   "cell_type": "code",
   "execution_count": 34,
   "metadata": {},
   "outputs": [],
   "source": [
    "features = df.drop('Price', axis=1)\n",
    "target = df['Price']"
   ]
  },
  {
   "cell_type": "code",
   "execution_count": 35,
   "metadata": {},
   "outputs": [],
   "source": [
    "features[cat_cols] = features[cat_cols].astype('category')"
   ]
  },
  {
   "cell_type": "code",
   "execution_count": 36,
   "metadata": {},
   "outputs": [],
   "source": [
    "X_train_cat, X_test_cat, y_train_cat, y_test_cat = train_test_split(features, target, test_size=0.2, random_state=42)"
   ]
  },
  {
   "cell_type": "code",
   "execution_count": 37,
   "metadata": {},
   "outputs": [],
   "source": [
    "ordinal_encoder = OrdinalEncoder()\n",
    "encoded_cols = pd.DataFrame(ordinal_encoder.fit_transform(features[cat_cols]), index=features.index)\n",
    "features_encoded = pd.concat([features.drop(cat_cols, axis=1), encoded_cols], axis=1)"
   ]
  },
  {
   "cell_type": "code",
   "execution_count": 38,
   "metadata": {},
   "outputs": [],
   "source": [
    "X_train, X_test, y_train, y_test = train_test_split(features_encoded, target, test_size=0.2, random_state=42)"
   ]
  },
  {
   "cell_type": "code",
   "execution_count": 39,
   "metadata": {},
   "outputs": [
    {
     "data": {
      "text/plain": [
       "((213553, 9), (53389, 9), (213553,), (53389,))"
      ]
     },
     "execution_count": 39,
     "metadata": {},
     "output_type": "execute_result"
    }
   ],
   "source": [
    "X_train.shape, X_test.shape, y_train.shape, y_test.shape"
   ]
  },
  {
   "cell_type": "code",
   "execution_count": 40,
   "metadata": {},
   "outputs": [
    {
     "data": {
      "text/plain": [
       "((213553, 9), (53389, 9), (213553,), (53389,))"
      ]
     },
     "execution_count": 40,
     "metadata": {},
     "output_type": "execute_result"
    }
   ],
   "source": [
    "X_train_cat.shape, X_test_cat.shape, y_train_cat.shape, y_test_cat.shape"
   ]
  },
  {
   "cell_type": "code",
   "execution_count": 41,
   "metadata": {},
   "outputs": [],
   "source": [
    "scaler = StandardScaler()\n",
    "X_train = scaler.fit_transform(X_train)\n",
    "X_test = scaler.transform(X_test)"
   ]
  },
  {
   "cell_type": "code",
   "execution_count": 42,
   "metadata": {},
   "outputs": [],
   "source": [
    "scaler_cat = StandardScaler()\n",
    "X_train_cat[num_cols] = scaler.fit_transform(X_train_cat[num_cols])\n",
    "X_test_cat[num_cols] = scaler.transform(X_test_cat[num_cols])"
   ]
  },
  {
   "cell_type": "code",
   "execution_count": 43,
   "metadata": {},
   "outputs": [
    {
     "data": {
      "text/html": [
       "<div>\n",
       "<style scoped>\n",
       "    .dataframe tbody tr th:only-of-type {\n",
       "        vertical-align: middle;\n",
       "    }\n",
       "\n",
       "    .dataframe tbody tr th {\n",
       "        vertical-align: top;\n",
       "    }\n",
       "\n",
       "    .dataframe thead th {\n",
       "        text-align: right;\n",
       "    }\n",
       "</style>\n",
       "<table border=\"1\" class=\"dataframe\">\n",
       "  <thead>\n",
       "    <tr style=\"text-align: right;\">\n",
       "      <th></th>\n",
       "      <th>VehicleType</th>\n",
       "      <th>RegistrationYear</th>\n",
       "      <th>Gearbox</th>\n",
       "      <th>Power</th>\n",
       "      <th>Model</th>\n",
       "      <th>Kilometer</th>\n",
       "      <th>FuelType</th>\n",
       "      <th>Brand</th>\n",
       "      <th>NotRepaired</th>\n",
       "    </tr>\n",
       "  </thead>\n",
       "  <tbody>\n",
       "    <tr>\n",
       "      <td>270075</td>\n",
       "      <td>coupe</td>\n",
       "      <td>0.368666</td>\n",
       "      <td>manual</td>\n",
       "      <td>0.784954</td>\n",
       "      <td>4_reihe</td>\n",
       "      <td>0.604856</td>\n",
       "      <td>petrol</td>\n",
       "      <td>peugeot</td>\n",
       "      <td>no</td>\n",
       "    </tr>\n",
       "    <tr>\n",
       "      <td>119375</td>\n",
       "      <td>sedan</td>\n",
       "      <td>-1.186810</td>\n",
       "      <td>manual</td>\n",
       "      <td>-0.390652</td>\n",
       "      <td>golf</td>\n",
       "      <td>0.604856</td>\n",
       "      <td>unknown</td>\n",
       "      <td>volkswagen</td>\n",
       "      <td>unknown</td>\n",
       "    </tr>\n",
       "    <tr>\n",
       "      <td>137957</td>\n",
       "      <td>small</td>\n",
       "      <td>-0.338368</td>\n",
       "      <td>manual</td>\n",
       "      <td>-1.137069</td>\n",
       "      <td>2_reihe</td>\n",
       "      <td>-0.064851</td>\n",
       "      <td>petrol</td>\n",
       "      <td>peugeot</td>\n",
       "      <td>no</td>\n",
       "    </tr>\n",
       "    <tr>\n",
       "      <td>53607</td>\n",
       "      <td>coupe</td>\n",
       "      <td>-1.186810</td>\n",
       "      <td>manual</td>\n",
       "      <td>1.344767</td>\n",
       "      <td>3er</td>\n",
       "      <td>-0.064851</td>\n",
       "      <td>petrol</td>\n",
       "      <td>bmw</td>\n",
       "      <td>no</td>\n",
       "    </tr>\n",
       "    <tr>\n",
       "      <td>37741</td>\n",
       "      <td>small</td>\n",
       "      <td>-1.045403</td>\n",
       "      <td>manual</td>\n",
       "      <td>-1.416976</td>\n",
       "      <td>polo</td>\n",
       "      <td>0.604856</td>\n",
       "      <td>petrol</td>\n",
       "      <td>volkswagen</td>\n",
       "      <td>no</td>\n",
       "    </tr>\n",
       "    <tr>\n",
       "      <td>...</td>\n",
       "      <td>...</td>\n",
       "      <td>...</td>\n",
       "      <td>...</td>\n",
       "      <td>...</td>\n",
       "      <td>...</td>\n",
       "      <td>...</td>\n",
       "      <td>...</td>\n",
       "      <td>...</td>\n",
       "      <td>...</td>\n",
       "    </tr>\n",
       "    <tr>\n",
       "      <td>268428</td>\n",
       "      <td>bus</td>\n",
       "      <td>-0.196962</td>\n",
       "      <td>manual</td>\n",
       "      <td>0.542369</td>\n",
       "      <td>sharan</td>\n",
       "      <td>0.604856</td>\n",
       "      <td>petrol</td>\n",
       "      <td>volkswagen</td>\n",
       "      <td>no</td>\n",
       "    </tr>\n",
       "    <tr>\n",
       "      <td>172326</td>\n",
       "      <td>unknown</td>\n",
       "      <td>1.924141</td>\n",
       "      <td>auto</td>\n",
       "      <td>0.542369</td>\n",
       "      <td>zafira</td>\n",
       "      <td>0.604856</td>\n",
       "      <td>unknown</td>\n",
       "      <td>opel</td>\n",
       "      <td>no</td>\n",
       "    </tr>\n",
       "    <tr>\n",
       "      <td>225911</td>\n",
       "      <td>unknown</td>\n",
       "      <td>1.782734</td>\n",
       "      <td>manual</td>\n",
       "      <td>-0.857163</td>\n",
       "      <td>golf</td>\n",
       "      <td>0.604856</td>\n",
       "      <td>unknown</td>\n",
       "      <td>volkswagen</td>\n",
       "      <td>yes</td>\n",
       "    </tr>\n",
       "    <tr>\n",
       "      <td>123542</td>\n",
       "      <td>small</td>\n",
       "      <td>-1.186810</td>\n",
       "      <td>manual</td>\n",
       "      <td>-1.416976</td>\n",
       "      <td>corsa</td>\n",
       "      <td>0.604856</td>\n",
       "      <td>petrol</td>\n",
       "      <td>opel</td>\n",
       "      <td>unknown</td>\n",
       "    </tr>\n",
       "    <tr>\n",
       "      <td>221281</td>\n",
       "      <td>sedan</td>\n",
       "      <td>0.368666</td>\n",
       "      <td>manual</td>\n",
       "      <td>-0.092086</td>\n",
       "      <td>1er</td>\n",
       "      <td>-0.064851</td>\n",
       "      <td>petrol</td>\n",
       "      <td>bmw</td>\n",
       "      <td>no</td>\n",
       "    </tr>\n",
       "  </tbody>\n",
       "</table>\n",
       "<p>53389 rows × 9 columns</p>\n",
       "</div>"
      ],
      "text/plain": [
       "       VehicleType  RegistrationYear Gearbox     Power    Model  Kilometer  \\\n",
       "270075       coupe          0.368666  manual  0.784954  4_reihe   0.604856   \n",
       "119375       sedan         -1.186810  manual -0.390652     golf   0.604856   \n",
       "137957       small         -0.338368  manual -1.137069  2_reihe  -0.064851   \n",
       "53607        coupe         -1.186810  manual  1.344767      3er  -0.064851   \n",
       "37741        small         -1.045403  manual -1.416976     polo   0.604856   \n",
       "...            ...               ...     ...       ...      ...        ...   \n",
       "268428         bus         -0.196962  manual  0.542369   sharan   0.604856   \n",
       "172326     unknown          1.924141    auto  0.542369   zafira   0.604856   \n",
       "225911     unknown          1.782734  manual -0.857163     golf   0.604856   \n",
       "123542       small         -1.186810  manual -1.416976    corsa   0.604856   \n",
       "221281       sedan          0.368666  manual -0.092086      1er  -0.064851   \n",
       "\n",
       "       FuelType       Brand NotRepaired  \n",
       "270075   petrol     peugeot          no  \n",
       "119375  unknown  volkswagen     unknown  \n",
       "137957   petrol     peugeot          no  \n",
       "53607    petrol         bmw          no  \n",
       "37741    petrol  volkswagen          no  \n",
       "...         ...         ...         ...  \n",
       "268428   petrol  volkswagen          no  \n",
       "172326  unknown        opel          no  \n",
       "225911  unknown  volkswagen         yes  \n",
       "123542   petrol        opel     unknown  \n",
       "221281   petrol         bmw          no  \n",
       "\n",
       "[53389 rows x 9 columns]"
      ]
     },
     "execution_count": 43,
     "metadata": {},
     "output_type": "execute_result"
    }
   ],
   "source": [
    "X_test_cat"
   ]
  },
  {
   "cell_type": "markdown",
   "metadata": {},
   "source": [
    "# Testing Models"
   ]
  },
  {
   "cell_type": "code",
   "execution_count": 44,
   "metadata": {},
   "outputs": [],
   "source": [
    "def rmse(target, pred):\n",
    "    return mean_squared_error(target, pred) ** 0.5\n",
    "\n",
    "rmse_ = make_scorer(rmse, greater_is_better=False)"
   ]
  },
  {
   "cell_type": "code",
   "execution_count": 45,
   "metadata": {},
   "outputs": [],
   "source": [
    "def eval_model(model, params, X_train=X_train, y_train=y_train, X_test=X_test, y_test=y_test):\n",
    "    skf = StratifiedKFold(n_splits=5, shuffle=True, random_state=1)\n",
    "    grid = GridSearchCV(model, param_grid=params, cv=skf, scoring=rmse_)\n",
    "    if model in [lgbm, cat]:\n",
    "          X_train = X_train_cat\n",
    "          y_train = y_train_cat\n",
    "          X_test = X_test_cat\n",
    "          y_test = y_test_cat\n",
    "    grid.fit(X_train, y_train)\n",
    "    begin_time = dt.datetime.now()\n",
    "    grid.best_estimator_.fit(X_train, y_train)\n",
    "    learn_time = dt.datetime.now() - begin_time\n",
    "    begin_predict = dt.datetime.now()\n",
    "    pred = grid.predict(X_test)\n",
    "    predict_time = dt.datetime.now() - begin_predict\n",
    "    score = rmse(y_test, pred)\n",
    "    \n",
    "    return score, learn_time, predict_time"
   ]
  },
  {
   "cell_type": "code",
   "execution_count": 46,
   "metadata": {},
   "outputs": [],
   "source": [
    "xgb_params = {\n",
    "    'min_child_weight': [1, 3, 5],\n",
    "    'max_depth': [3, 6, 10],\n",
    "    \n",
    "}\n",
    "\n",
    "rf_params = {\n",
    "    'max_depth': [5, 10, 25],\n",
    "    'n_estimators': [10, 50, 200]\n",
    "    \n",
    "}\n",
    "\n",
    "categorical_features_indices = np.where(X_train_cat.dtypes == 'category')[0]\n",
    "\n",
    "cat_boost_params = {\n",
    "    'silent':[True], \n",
    "    'cat_features': [categorical_features_indices],\n",
    "    'depth': [3, 6, 10],\n",
    "    'iterations': [500, 1000, 1500]\n",
    "}\n",
    "\n",
    "lightgbm_params = {\n",
    "    'max_depth': [15, 30, 50],\n",
    "    'num_leaves': [10, 150, 300]\n",
    "}"
   ]
  },
  {
   "cell_type": "code",
   "execution_count": 47,
   "metadata": {},
   "outputs": [],
   "source": [
    "xgb = XGBRegressor()\n",
    "rf = RandomForestRegressor()\n",
    "cat = CatBoostRegressor(silent=True)\n",
    "lgbm = LGBMRegressor()"
   ]
  },
  {
   "cell_type": "code",
   "execution_count": 48,
   "metadata": {},
   "outputs": [
    {
     "name": "stdout",
     "output_type": "stream",
     "text": [
      "(1669.5060534729346, datetime.timedelta(seconds=98, microseconds=673960), datetime.timedelta(seconds=4, microseconds=86420))\n"
     ]
    }
   ],
   "source": [
    "%%script echo (1669.5060534729346, datetime.timedelta(seconds=98, microseconds=673960), datetime.timedelta(seconds=4, microseconds=86420))\n",
    "eval_model(rf, rf_params, X_train=X_train, y_train=y_train, X_test=X_test, y_test=y_test)"
   ]
  },
  {
   "cell_type": "code",
   "execution_count": 49,
   "metadata": {},
   "outputs": [
    {
     "name": "stdout",
     "output_type": "stream",
     "text": [
      "(1600.755878216347, datetime.timedelta(seconds=8, microseconds=965798), datetime.timedelta(microseconds=43552))\n"
     ]
    }
   ],
   "source": [
    "%%script echo (1600.755878216347, datetime.timedelta(seconds=8, microseconds=965798), datetime.timedelta(microseconds=43552))\n",
    "eval_model(xgb, xgb_params)"
   ]
  },
  {
   "cell_type": "code",
   "execution_count": 50,
   "metadata": {},
   "outputs": [
    {
     "name": "stdout",
     "output_type": "stream",
     "text": [
      "(1569.407988738034, datetime.timedelta(seconds=1, microseconds=844018), datetime.timedelta(microseconds=196565))\n"
     ]
    }
   ],
   "source": [
    "%%script echo (1569.407988738034, datetime.timedelta(seconds=1, microseconds=844018), datetime.timedelta(microseconds=196565))\n",
    "eval_model(lgbm, lightgbm_params)"
   ]
  },
  {
   "cell_type": "code",
   "execution_count": 51,
   "metadata": {},
   "outputs": [
    {
     "name": "stdout",
     "output_type": "stream",
     "text": [
      "(1584.3221276760344, datetime.timedelta(seconds=220, microseconds=258046), datetime.timedelta(microseconds=423979))\n"
     ]
    }
   ],
   "source": [
    "%%script echo (1584.3221276760344, datetime.timedelta(seconds=220, microseconds=258046), datetime.timedelta(microseconds=423979))\n",
    "eval_model(cat, cat_boost_params)"
   ]
  },
  {
   "cell_type": "code",
   "execution_count": 52,
   "metadata": {},
   "outputs": [
    {
     "data": {
      "text/plain": [
       "4610.932408327369"
      ]
     },
     "execution_count": 52,
     "metadata": {},
     "output_type": "execute_result"
    }
   ],
   "source": [
    "dummy = DummyRegressor(strategy='mean')\n",
    "dummy.fit(X_train, y_train)\n",
    "pred = dummy.predict(X_test)\n",
    "rmse(pred, y_test)"
   ]
  },
  {
   "cell_type": "code",
   "execution_count": 53,
   "metadata": {},
   "outputs": [],
   "source": [
    "models = pd.Series(['Catboost', 'XGB', 'LightGBM', 'RandomForest'])"
   ]
  },
  {
   "cell_type": "code",
   "execution_count": 54,
   "metadata": {},
   "outputs": [],
   "source": [
    "results = pd.DataFrame({'rmse' : [1584, 1600, 1569, 1669],\n",
    "              'train_time': [220.26, 8.96, 1.84, 98],\n",
    "              'predict_time': [0.42, 0.96, 0.19, 0.67]\n",
    "               }, index=models)\n"
   ]
  },
  {
   "cell_type": "code",
   "execution_count": 55,
   "metadata": {},
   "outputs": [
    {
     "data": {
      "text/html": [
       "<div>\n",
       "<style scoped>\n",
       "    .dataframe tbody tr th:only-of-type {\n",
       "        vertical-align: middle;\n",
       "    }\n",
       "\n",
       "    .dataframe tbody tr th {\n",
       "        vertical-align: top;\n",
       "    }\n",
       "\n",
       "    .dataframe thead th {\n",
       "        text-align: right;\n",
       "    }\n",
       "</style>\n",
       "<table border=\"1\" class=\"dataframe\">\n",
       "  <thead>\n",
       "    <tr style=\"text-align: right;\">\n",
       "      <th></th>\n",
       "      <th>rmse</th>\n",
       "      <th>train_time</th>\n",
       "      <th>predict_time</th>\n",
       "    </tr>\n",
       "  </thead>\n",
       "  <tbody>\n",
       "    <tr>\n",
       "      <td>LightGBM</td>\n",
       "      <td>1569</td>\n",
       "      <td>1.84</td>\n",
       "      <td>0.19</td>\n",
       "    </tr>\n",
       "    <tr>\n",
       "      <td>Catboost</td>\n",
       "      <td>1584</td>\n",
       "      <td>220.26</td>\n",
       "      <td>0.42</td>\n",
       "    </tr>\n",
       "    <tr>\n",
       "      <td>XGB</td>\n",
       "      <td>1600</td>\n",
       "      <td>8.96</td>\n",
       "      <td>0.96</td>\n",
       "    </tr>\n",
       "    <tr>\n",
       "      <td>RandomForest</td>\n",
       "      <td>1669</td>\n",
       "      <td>98.00</td>\n",
       "      <td>0.67</td>\n",
       "    </tr>\n",
       "  </tbody>\n",
       "</table>\n",
       "</div>"
      ],
      "text/plain": [
       "              rmse  train_time  predict_time\n",
       "LightGBM      1569        1.84          0.19\n",
       "Catboost      1584      220.26          0.42\n",
       "XGB           1600        8.96          0.96\n",
       "RandomForest  1669       98.00          0.67"
      ]
     },
     "execution_count": 55,
     "metadata": {},
     "output_type": "execute_result"
    }
   ],
   "source": [
    "results.sort_values('rmse')"
   ]
  },
  {
   "cell_type": "markdown",
   "metadata": {},
   "source": [
    "# Conclusion"
   ]
  },
  {
   "cell_type": "markdown",
   "metadata": {},
   "source": [
    "Our winner is - <b> LightGBM </b> with a <code> rmse = 1569 </code> it only took <code> 1.84 </code> to train"
   ]
  }
 ],
 "metadata": {
  "ExecuteTimeLog": [
   {
    "duration": 279,
    "start_time": "2021-12-12T12:03:27.224Z"
   },
   {
    "duration": 305,
    "start_time": "2021-12-12T12:03:30.231Z"
   },
   {
    "duration": 240,
    "start_time": "2021-12-12T12:03:30.562Z"
   },
   {
    "duration": 1808,
    "start_time": "2021-12-12T12:03:34.681Z"
   },
   {
    "duration": 2,
    "start_time": "2021-12-12T12:03:36.491Z"
   },
   {
    "duration": 4072,
    "start_time": "2021-12-12T12:03:36.494Z"
   },
   {
    "duration": -51,
    "start_time": "2021-12-12T12:03:40.620Z"
   },
   {
    "duration": -54,
    "start_time": "2021-12-12T12:03:40.625Z"
   },
   {
    "duration": -56,
    "start_time": "2021-12-12T12:03:40.628Z"
   },
   {
    "duration": -61,
    "start_time": "2021-12-12T12:03:40.633Z"
   },
   {
    "duration": -64,
    "start_time": "2021-12-12T12:03:40.637Z"
   },
   {
    "duration": -67,
    "start_time": "2021-12-12T12:03:40.641Z"
   },
   {
    "duration": -70,
    "start_time": "2021-12-12T12:03:40.645Z"
   },
   {
    "duration": -74,
    "start_time": "2021-12-12T12:03:40.650Z"
   },
   {
    "duration": -76,
    "start_time": "2021-12-12T12:03:40.653Z"
   },
   {
    "duration": -83,
    "start_time": "2021-12-12T12:03:40.661Z"
   },
   {
    "duration": -85,
    "start_time": "2021-12-12T12:03:40.664Z"
   },
   {
    "duration": -87,
    "start_time": "2021-12-12T12:03:40.667Z"
   },
   {
    "duration": -89,
    "start_time": "2021-12-12T12:03:40.670Z"
   },
   {
    "duration": -91,
    "start_time": "2021-12-12T12:03:40.673Z"
   },
   {
    "duration": -94,
    "start_time": "2021-12-12T12:03:40.676Z"
   },
   {
    "duration": -96,
    "start_time": "2021-12-12T12:03:40.679Z"
   },
   {
    "duration": -99,
    "start_time": "2021-12-12T12:03:40.683Z"
   },
   {
    "duration": -101,
    "start_time": "2021-12-12T12:03:40.686Z"
   },
   {
    "duration": -103,
    "start_time": "2021-12-12T12:03:40.689Z"
   },
   {
    "duration": -105,
    "start_time": "2021-12-12T12:03:40.692Z"
   },
   {
    "duration": -106,
    "start_time": "2021-12-12T12:03:40.694Z"
   },
   {
    "duration": -109,
    "start_time": "2021-12-12T12:03:40.698Z"
   },
   {
    "duration": -111,
    "start_time": "2021-12-12T12:03:40.701Z"
   },
   {
    "duration": -113,
    "start_time": "2021-12-12T12:03:40.704Z"
   },
   {
    "duration": -115,
    "start_time": "2021-12-12T12:03:40.707Z"
   },
   {
    "duration": -118,
    "start_time": "2021-12-12T12:03:40.710Z"
   },
   {
    "duration": -120,
    "start_time": "2021-12-12T12:03:40.713Z"
   },
   {
    "duration": -122,
    "start_time": "2021-12-12T12:03:40.716Z"
   },
   {
    "duration": -124,
    "start_time": "2021-12-12T12:03:40.719Z"
   },
   {
    "duration": -125,
    "start_time": "2021-12-12T12:03:40.721Z"
   },
   {
    "duration": -128,
    "start_time": "2021-12-12T12:03:40.724Z"
   },
   {
    "duration": -130,
    "start_time": "2021-12-12T12:03:40.727Z"
   },
   {
    "duration": -132,
    "start_time": "2021-12-12T12:03:40.730Z"
   },
   {
    "duration": -134,
    "start_time": "2021-12-12T12:03:40.733Z"
   },
   {
    "duration": -137,
    "start_time": "2021-12-12T12:03:40.736Z"
   },
   {
    "duration": -138,
    "start_time": "2021-12-12T12:03:40.738Z"
   },
   {
    "duration": -140,
    "start_time": "2021-12-12T12:03:40.741Z"
   },
   {
    "duration": -142,
    "start_time": "2021-12-12T12:03:40.744Z"
   },
   {
    "duration": -144,
    "start_time": "2021-12-12T12:03:40.747Z"
   },
   {
    "duration": -147,
    "start_time": "2021-12-12T12:03:40.751Z"
   },
   {
    "duration": -149,
    "start_time": "2021-12-12T12:03:40.753Z"
   },
   {
    "duration": -162,
    "start_time": "2021-12-12T12:03:40.767Z"
   },
   {
    "duration": -164,
    "start_time": "2021-12-12T12:03:40.770Z"
   },
   {
    "duration": 3962,
    "start_time": "2021-12-12T12:04:08.055Z"
   },
   {
    "duration": 979,
    "start_time": "2021-12-12T12:04:21.397Z"
   },
   {
    "duration": 5,
    "start_time": "2021-12-12T12:04:27.980Z"
   },
   {
    "duration": 113,
    "start_time": "2021-12-12T12:04:28.475Z"
   },
   {
    "duration": 3,
    "start_time": "2021-12-12T12:04:28.643Z"
   },
   {
    "duration": 45,
    "start_time": "2021-12-12T12:04:28.720Z"
   },
   {
    "duration": 20,
    "start_time": "2021-12-12T12:04:28.972Z"
   },
   {
    "duration": 19,
    "start_time": "2021-12-12T12:04:29.058Z"
   },
   {
    "duration": 36,
    "start_time": "2021-12-12T12:04:29.137Z"
   },
   {
    "duration": 42,
    "start_time": "2021-12-12T12:04:29.220Z"
   },
   {
    "duration": 28,
    "start_time": "2021-12-12T12:04:29.391Z"
   },
   {
    "duration": 19,
    "start_time": "2021-12-12T12:04:29.477Z"
   },
   {
    "duration": 19,
    "start_time": "2021-12-12T12:04:29.567Z"
   },
   {
    "duration": 17,
    "start_time": "2021-12-12T12:04:29.641Z"
   },
   {
    "duration": 19,
    "start_time": "2021-12-12T12:04:29.736Z"
   },
   {
    "duration": 16,
    "start_time": "2021-12-12T12:04:29.891Z"
   },
   {
    "duration": 19,
    "start_time": "2021-12-12T12:04:29.979Z"
   },
   {
    "duration": 13,
    "start_time": "2021-12-12T12:04:30.059Z"
   },
   {
    "duration": 13,
    "start_time": "2021-12-12T12:04:30.142Z"
   },
   {
    "duration": 28,
    "start_time": "2021-12-12T12:04:30.238Z"
   },
   {
    "duration": 4,
    "start_time": "2021-12-12T12:04:31.988Z"
   },
   {
    "duration": 130,
    "start_time": "2021-12-12T12:04:32.491Z"
   },
   {
    "duration": 48,
    "start_time": "2021-12-12T12:04:32.664Z"
   },
   {
    "duration": 110,
    "start_time": "2021-12-12T12:04:32.818Z"
   },
   {
    "duration": 122,
    "start_time": "2021-12-12T12:04:32.930Z"
   },
   {
    "duration": 96,
    "start_time": "2021-12-12T12:04:33.054Z"
   },
   {
    "duration": 125,
    "start_time": "2021-12-12T12:04:33.152Z"
   },
   {
    "duration": 101,
    "start_time": "2021-12-12T12:04:33.279Z"
   },
   {
    "duration": 58,
    "start_time": "2021-12-12T12:14:54.166Z"
   },
   {
    "duration": 15,
    "start_time": "2021-12-12T12:15:06.907Z"
   },
   {
    "duration": 7360,
    "start_time": "2021-12-12T12:15:12.989Z"
   },
   {
    "duration": 110,
    "start_time": "2021-12-12T12:15:38.761Z"
   },
   {
    "duration": 1150,
    "start_time": "2021-12-12T12:22:40.347Z"
   },
   {
    "duration": 41,
    "start_time": "2021-12-12T12:22:54.144Z"
   },
   {
    "duration": 334,
    "start_time": "2021-12-12T12:22:56.949Z"
   },
   {
    "duration": 51,
    "start_time": "2021-12-12T12:22:59.062Z"
   },
   {
    "duration": 5,
    "start_time": "2021-12-12T12:22:59.668Z"
   },
   {
    "duration": 60,
    "start_time": "2021-12-12T12:23:00.860Z"
   },
   {
    "duration": 5,
    "start_time": "2021-12-12T12:23:17.864Z"
   },
   {
    "duration": 13,
    "start_time": "2021-12-12T12:23:30.301Z"
   },
   {
    "duration": 253,
    "start_time": "2021-12-12T12:23:37.275Z"
   },
   {
    "duration": 83,
    "start_time": "2021-12-12T12:23:51.546Z"
   },
   {
    "duration": 5,
    "start_time": "2021-12-12T12:23:54.632Z"
   },
   {
    "duration": 5,
    "start_time": "2021-12-12T12:39:39.029Z"
   },
   {
    "duration": 4,
    "start_time": "2021-12-12T12:39:41.254Z"
   },
   {
    "duration": 3,
    "start_time": "2021-12-12T12:39:42.531Z"
   },
   {
    "duration": 439,
    "start_time": "2021-12-12T12:39:46.742Z"
   },
   {
    "duration": 3,
    "start_time": "2021-12-12T12:39:53.476Z"
   },
   {
    "duration": 1564,
    "start_time": "2022-01-29T10:56:08.813Z"
   },
   {
    "duration": 5,
    "start_time": "2022-01-29T10:56:36.945Z"
   },
   {
    "duration": 412,
    "start_time": "2022-01-29T10:56:38.214Z"
   },
   {
    "duration": 20,
    "start_time": "2022-01-29T10:56:42.160Z"
   },
   {
    "duration": 3,
    "start_time": "2022-01-29T10:56:42.470Z"
   },
   {
    "duration": 8393,
    "start_time": "2022-01-29T10:56:42.823Z"
   },
   {
    "duration": 8,
    "start_time": "2022-01-29T10:56:54.168Z"
   },
   {
    "duration": 166,
    "start_time": "2022-01-29T10:56:55.108Z"
   },
   {
    "duration": 4,
    "start_time": "2022-01-29T10:56:57.966Z"
   },
   {
    "duration": 67,
    "start_time": "2022-01-29T10:56:58.368Z"
   },
   {
    "duration": 25,
    "start_time": "2022-01-29T10:57:13.345Z"
   },
   {
    "duration": 21,
    "start_time": "2022-01-29T10:57:13.891Z"
   },
   {
    "duration": 59,
    "start_time": "2022-01-29T10:57:15.166Z"
   },
   {
    "duration": 74,
    "start_time": "2022-01-29T10:57:16.107Z"
   },
   {
    "duration": 25,
    "start_time": "2022-01-29T10:57:30.345Z"
   },
   {
    "duration": 37,
    "start_time": "2022-01-29T10:57:31.026Z"
   },
   {
    "duration": 27,
    "start_time": "2022-01-29T10:57:32.012Z"
   },
   {
    "duration": 24,
    "start_time": "2022-01-29T10:57:32.749Z"
   },
   {
    "duration": 48,
    "start_time": "2022-01-29T10:57:34.003Z"
   },
   {
    "duration": 20,
    "start_time": "2022-01-29T10:57:50.487Z"
   },
   {
    "duration": 29,
    "start_time": "2022-01-29T10:57:51.051Z"
   },
   {
    "duration": 20,
    "start_time": "2022-01-29T10:57:52.740Z"
   },
   {
    "duration": 20,
    "start_time": "2022-01-29T10:57:53.006Z"
   },
   {
    "duration": 46,
    "start_time": "2022-01-29T10:57:54.580Z"
   },
   {
    "duration": 5,
    "start_time": "2022-01-29T11:00:02.135Z"
   },
   {
    "duration": 180,
    "start_time": "2022-01-29T11:00:02.747Z"
   },
   {
    "duration": 81,
    "start_time": "2022-01-29T11:00:37.023Z"
   },
   {
    "duration": 149,
    "start_time": "2022-01-29T11:02:22.954Z"
   },
   {
    "duration": 170,
    "start_time": "2022-01-29T11:02:23.269Z"
   },
   {
    "duration": 145,
    "start_time": "2022-01-29T11:02:24.625Z"
   },
   {
    "duration": 198,
    "start_time": "2022-01-29T11:02:26.385Z"
   },
   {
    "duration": 142,
    "start_time": "2022-01-29T11:02:26.586Z"
   },
   {
    "duration": 79,
    "start_time": "2022-01-29T11:05:19.800Z"
   },
   {
    "duration": 22,
    "start_time": "2022-01-29T11:05:20.718Z"
   },
   {
    "duration": 164,
    "start_time": "2022-01-29T11:05:21.122Z"
   },
   {
    "duration": 51,
    "start_time": "2022-01-29T11:05:22.110Z"
   },
   {
    "duration": 510,
    "start_time": "2022-01-29T11:05:22.998Z"
   },
   {
    "duration": 61,
    "start_time": "2022-01-29T11:05:23.511Z"
   },
   {
    "duration": 6,
    "start_time": "2022-01-29T11:05:23.773Z"
   },
   {
    "duration": 9,
    "start_time": "2022-01-29T11:05:25.738Z"
   },
   {
    "duration": 69,
    "start_time": "2022-01-29T11:05:25.999Z"
   },
   {
    "duration": 149,
    "start_time": "2022-01-29T11:05:26.586Z"
   },
   {
    "duration": 43,
    "start_time": "2022-01-29T11:05:28.457Z"
   },
   {
    "duration": 4,
    "start_time": "2022-01-29T11:05:51.790Z"
   },
   {
    "duration": 7,
    "start_time": "2022-01-29T11:05:53.407Z"
   },
   {
    "duration": 8,
    "start_time": "2022-01-29T11:05:55.259Z"
   },
   {
    "duration": 5,
    "start_time": "2022-01-29T11:05:55.807Z"
   },
   {
    "duration": 32,
    "start_time": "2022-01-29T11:06:00.524Z"
   },
   {
    "duration": 27,
    "start_time": "2022-01-29T11:06:00.958Z"
   },
   {
    "duration": 28,
    "start_time": "2022-01-29T11:06:01.171Z"
   },
   {
    "duration": 25,
    "start_time": "2022-01-29T11:06:01.771Z"
   },
   {
    "duration": 10,
    "start_time": "2022-01-29T11:06:09.549Z"
   },
   {
    "duration": 4,
    "start_time": "2022-01-29T11:06:21.998Z"
   },
   {
    "duration": 6,
    "start_time": "2022-01-29T11:06:22.618Z"
   },
   {
    "duration": 14,
    "start_time": "2022-01-29T11:06:23.117Z"
   }
  ],
  "kernelspec": {
   "display_name": "Python 3",
   "language": "python",
   "name": "python3"
  },
  "language_info": {
   "codemirror_mode": {
    "name": "ipython",
    "version": 3
   },
   "file_extension": ".py",
   "mimetype": "text/x-python",
   "name": "python",
   "nbconvert_exporter": "python",
   "pygments_lexer": "ipython3",
   "version": "3.7.8"
  },
  "toc": {
   "base_numbering": 1,
   "nav_menu": {},
   "number_sections": true,
   "sideBar": true,
   "skip_h1_title": true,
   "title_cell": "Table of Contents",
   "title_sidebar": "Contents",
   "toc_cell": false,
   "toc_position": {},
   "toc_section_display": true,
   "toc_window_display": false
  }
 },
 "nbformat": 4,
 "nbformat_minor": 4
}

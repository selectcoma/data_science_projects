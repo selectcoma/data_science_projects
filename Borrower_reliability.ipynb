{
 "cells": [
  {
   "cell_type": "markdown",
   "metadata": {},
   "source": [
    "# Study of borrowers' reliability\n",
    "\n",
    "Is this quick study we analize whether the family status or the children count of a client influence the fact of paying back the credit on time. The data used is client data from a bank - the statictics of client payement ability.\n",
    "\n",
    "\n",
    "The results will be used to build a scoring model - the will automatically analyse data on clients to determine whether they are reliable or not."
   ]
  },
  {
   "cell_type": "code",
   "execution_count": 143,
   "metadata": {},
   "outputs": [],
   "source": [
    "import pandas as pd\n",
    "\n",
    "pd.set_option('display.float_format', '{:,.2f}'.format)\n",
    "\n",
    "df = pd.read_csv('bank_data.csv')"
   ]
  },
  {
   "cell_type": "code",
   "execution_count": 144,
   "metadata": {},
   "outputs": [
    {
     "data": {
      "text/html": [
       "<div>\n",
       "<style scoped>\n",
       "    .dataframe tbody tr th:only-of-type {\n",
       "        vertical-align: middle;\n",
       "    }\n",
       "\n",
       "    .dataframe tbody tr th {\n",
       "        vertical-align: top;\n",
       "    }\n",
       "\n",
       "    .dataframe thead th {\n",
       "        text-align: right;\n",
       "    }\n",
       "</style>\n",
       "<table border=\"1\" class=\"dataframe\">\n",
       "  <thead>\n",
       "    <tr style=\"text-align: right;\">\n",
       "      <th></th>\n",
       "      <th>Unnamed: 0</th>\n",
       "      <th>children</th>\n",
       "      <th>days_employed</th>\n",
       "      <th>dob_years</th>\n",
       "      <th>education</th>\n",
       "      <th>education_id</th>\n",
       "      <th>family_status</th>\n",
       "      <th>family_status_id</th>\n",
       "      <th>gender</th>\n",
       "      <th>income_type</th>\n",
       "      <th>debt</th>\n",
       "      <th>total_income</th>\n",
       "      <th>purpose</th>\n",
       "    </tr>\n",
       "  </thead>\n",
       "  <tbody>\n",
       "    <tr>\n",
       "      <th>0</th>\n",
       "      <td>0</td>\n",
       "      <td>1</td>\n",
       "      <td>-8,437.67</td>\n",
       "      <td>42</td>\n",
       "      <td>college</td>\n",
       "      <td>0</td>\n",
       "      <td>married</td>\n",
       "      <td>0</td>\n",
       "      <td>F</td>\n",
       "      <td>employee</td>\n",
       "      <td>0</td>\n",
       "      <td>253,875.64</td>\n",
       "      <td>home purchase</td>\n",
       "    </tr>\n",
       "    <tr>\n",
       "      <th>1</th>\n",
       "      <td>1</td>\n",
       "      <td>1</td>\n",
       "      <td>-4,024.80</td>\n",
       "      <td>36</td>\n",
       "      <td>high school</td>\n",
       "      <td>1</td>\n",
       "      <td>married</td>\n",
       "      <td>0</td>\n",
       "      <td>F</td>\n",
       "      <td>employee</td>\n",
       "      <td>0</td>\n",
       "      <td>112,080.01</td>\n",
       "      <td>car purchase</td>\n",
       "    </tr>\n",
       "    <tr>\n",
       "      <th>2</th>\n",
       "      <td>2</td>\n",
       "      <td>0</td>\n",
       "      <td>-5,623.42</td>\n",
       "      <td>33</td>\n",
       "      <td>NaN</td>\n",
       "      <td>1</td>\n",
       "      <td>married</td>\n",
       "      <td>0</td>\n",
       "      <td>M</td>\n",
       "      <td>employee</td>\n",
       "      <td>0</td>\n",
       "      <td>145,885.95</td>\n",
       "      <td>home purchase</td>\n",
       "    </tr>\n",
       "    <tr>\n",
       "      <th>3</th>\n",
       "      <td>3</td>\n",
       "      <td>3</td>\n",
       "      <td>-4,124.75</td>\n",
       "      <td>32</td>\n",
       "      <td>high school</td>\n",
       "      <td>1</td>\n",
       "      <td>married</td>\n",
       "      <td>0</td>\n",
       "      <td>M</td>\n",
       "      <td>employee</td>\n",
       "      <td>0</td>\n",
       "      <td>267,628.55</td>\n",
       "      <td>extra education</td>\n",
       "    </tr>\n",
       "    <tr>\n",
       "      <th>4</th>\n",
       "      <td>4</td>\n",
       "      <td>0</td>\n",
       "      <td>340,266.07</td>\n",
       "      <td>53</td>\n",
       "      <td>high school</td>\n",
       "      <td>1</td>\n",
       "      <td>cohabitant</td>\n",
       "      <td>1</td>\n",
       "      <td>F</td>\n",
       "      <td>retired</td>\n",
       "      <td>0</td>\n",
       "      <td>158,616.08</td>\n",
       "      <td>organize wedding</td>\n",
       "    </tr>\n",
       "  </tbody>\n",
       "</table>\n",
       "</div>"
      ],
      "text/plain": [
       "   Unnamed: 0  children  days_employed  dob_years    education  education_id  \\\n",
       "0           0         1      -8,437.67         42      college             0   \n",
       "1           1         1      -4,024.80         36  high school             1   \n",
       "2           2         0      -5,623.42         33          NaN             1   \n",
       "3           3         3      -4,124.75         32  high school             1   \n",
       "4           4         0     340,266.07         53  high school             1   \n",
       "\n",
       "  family_status  family_status_id gender income_type  debt  total_income  \\\n",
       "0       married                 0      F    employee     0    253,875.64   \n",
       "1       married                 0      F    employee     0    112,080.01   \n",
       "2       married                 0      M    employee     0    145,885.95   \n",
       "3       married                 0      M    employee     0    267,628.55   \n",
       "4    cohabitant                 1      F     retired     0    158,616.08   \n",
       "\n",
       "            purpose  \n",
       "0     home purchase  \n",
       "1      car purchase  \n",
       "2     home purchase  \n",
       "3   extra education  \n",
       "4  organize wedding  "
      ]
     },
     "execution_count": 144,
     "metadata": {},
     "output_type": "execute_result"
    }
   ],
   "source": [
    "df.head()"
   ]
  },
  {
   "cell_type": "markdown",
   "metadata": {},
   "source": [
    "### Preprocessing"
   ]
  },
  {
   "cell_type": "markdown",
   "metadata": {},
   "source": [
    "The data has to be processed as we have empty values. Let's explore it further"
   ]
  },
  {
   "cell_type": "code",
   "execution_count": 145,
   "metadata": {},
   "outputs": [
    {
     "name": "stdout",
     "output_type": "stream",
     "text": [
      "<class 'pandas.core.frame.DataFrame'>\n",
      "RangeIndex: 21525 entries, 0 to 21524\n",
      "Data columns (total 13 columns):\n",
      " #   Column            Non-Null Count  Dtype  \n",
      "---  ------            --------------  -----  \n",
      " 0   Unnamed: 0        21525 non-null  int64  \n",
      " 1   children          21525 non-null  int64  \n",
      " 2   days_employed     19351 non-null  float64\n",
      " 3   dob_years         21525 non-null  int64  \n",
      " 4   education         19390 non-null  object \n",
      " 5   education_id      21525 non-null  int64  \n",
      " 6   family_status     21525 non-null  object \n",
      " 7   family_status_id  21525 non-null  int64  \n",
      " 8   gender            21525 non-null  object \n",
      " 9   income_type       21525 non-null  object \n",
      " 10  debt              21525 non-null  int64  \n",
      " 11  total_income      19351 non-null  float64\n",
      " 12  purpose           19319 non-null  object \n",
      "dtypes: float64(2), int64(6), object(5)\n",
      "memory usage: 2.1+ MB\n"
     ]
    }
   ],
   "source": [
    "df.info()"
   ]
  },
  {
   "cell_type": "markdown",
   "metadata": {},
   "source": [
    "empty values are found in 'days_employed' and 'total_income'. Let's check the proportion of missing values"
   ]
  },
  {
   "cell_type": "code",
   "execution_count": 146,
   "metadata": {},
   "outputs": [
    {
     "data": {
      "text/plain": [
       "Unnamed: 0         0.00\n",
       "children           0.00\n",
       "days_employed      0.10\n",
       "dob_years          0.00\n",
       "education          0.10\n",
       "education_id       0.00\n",
       "family_status      0.00\n",
       "family_status_id   0.00\n",
       "gender             0.00\n",
       "income_type        0.00\n",
       "debt               0.00\n",
       "total_income       0.10\n",
       "purpose            0.10\n",
       "dtype: float64"
      ]
     },
     "execution_count": 146,
     "metadata": {},
     "output_type": "execute_result"
    }
   ],
   "source": [
    "df.isna().mean()"
   ]
  },
  {
   "cell_type": "markdown",
   "metadata": {},
   "source": [
    "10% of empty values. Just deleting them would distort our distribution and may influence our further analisys negatively. Let's study the column 'days_employed'"
   ]
  },
  {
   "cell_type": "code",
   "execution_count": 147,
   "metadata": {},
   "outputs": [
    {
     "data": {
      "text/plain": [
       "count    19,351.00\n",
       "mean     63,046.50\n",
       "std     140,827.31\n",
       "min     -18,388.95\n",
       "25%      -2,747.42\n",
       "50%      -1,203.37\n",
       "75%        -291.10\n",
       "max     401,755.40\n",
       "Name: days_employed, dtype: float64"
      ]
     },
     "execution_count": 147,
     "metadata": {},
     "output_type": "execute_result"
    }
   ],
   "source": [
    "df.days_employed.describe()"
   ]
  },
  {
   "cell_type": "markdown",
   "metadata": {},
   "source": [
    "These negative values must be due to an error of some kind, let's remove them."
   ]
  },
  {
   "cell_type": "code",
   "execution_count": 148,
   "metadata": {},
   "outputs": [
    {
     "data": {
      "text/html": [
       "<div>\n",
       "<style scoped>\n",
       "    .dataframe tbody tr th:only-of-type {\n",
       "        vertical-align: middle;\n",
       "    }\n",
       "\n",
       "    .dataframe tbody tr th {\n",
       "        vertical-align: top;\n",
       "    }\n",
       "\n",
       "    .dataframe thead th {\n",
       "        text-align: right;\n",
       "    }\n",
       "</style>\n",
       "<table border=\"1\" class=\"dataframe\">\n",
       "  <thead>\n",
       "    <tr style=\"text-align: right;\">\n",
       "      <th></th>\n",
       "      <th>Unnamed: 0</th>\n",
       "      <th>children</th>\n",
       "      <th>days_employed</th>\n",
       "      <th>dob_years</th>\n",
       "      <th>education</th>\n",
       "      <th>education_id</th>\n",
       "      <th>family_status</th>\n",
       "      <th>family_status_id</th>\n",
       "      <th>gender</th>\n",
       "      <th>income_type</th>\n",
       "      <th>debt</th>\n",
       "      <th>total_income</th>\n",
       "      <th>purpose</th>\n",
       "    </tr>\n",
       "  </thead>\n",
       "  <tbody>\n",
       "    <tr>\n",
       "      <th>0</th>\n",
       "      <td>0</td>\n",
       "      <td>1</td>\n",
       "      <td>8,437.67</td>\n",
       "      <td>42</td>\n",
       "      <td>college</td>\n",
       "      <td>0</td>\n",
       "      <td>married</td>\n",
       "      <td>0</td>\n",
       "      <td>F</td>\n",
       "      <td>employee</td>\n",
       "      <td>0</td>\n",
       "      <td>253,875.64</td>\n",
       "      <td>home purchase</td>\n",
       "    </tr>\n",
       "    <tr>\n",
       "      <th>1</th>\n",
       "      <td>1</td>\n",
       "      <td>1</td>\n",
       "      <td>4,024.80</td>\n",
       "      <td>36</td>\n",
       "      <td>high school</td>\n",
       "      <td>1</td>\n",
       "      <td>married</td>\n",
       "      <td>0</td>\n",
       "      <td>F</td>\n",
       "      <td>employee</td>\n",
       "      <td>0</td>\n",
       "      <td>112,080.01</td>\n",
       "      <td>car purchase</td>\n",
       "    </tr>\n",
       "    <tr>\n",
       "      <th>2</th>\n",
       "      <td>2</td>\n",
       "      <td>0</td>\n",
       "      <td>5,623.42</td>\n",
       "      <td>33</td>\n",
       "      <td>NaN</td>\n",
       "      <td>1</td>\n",
       "      <td>married</td>\n",
       "      <td>0</td>\n",
       "      <td>M</td>\n",
       "      <td>employee</td>\n",
       "      <td>0</td>\n",
       "      <td>145,885.95</td>\n",
       "      <td>home purchase</td>\n",
       "    </tr>\n",
       "    <tr>\n",
       "      <th>3</th>\n",
       "      <td>3</td>\n",
       "      <td>3</td>\n",
       "      <td>4,124.75</td>\n",
       "      <td>32</td>\n",
       "      <td>high school</td>\n",
       "      <td>1</td>\n",
       "      <td>married</td>\n",
       "      <td>0</td>\n",
       "      <td>M</td>\n",
       "      <td>employee</td>\n",
       "      <td>0</td>\n",
       "      <td>267,628.55</td>\n",
       "      <td>extra education</td>\n",
       "    </tr>\n",
       "    <tr>\n",
       "      <th>4</th>\n",
       "      <td>4</td>\n",
       "      <td>0</td>\n",
       "      <td>340,266.07</td>\n",
       "      <td>53</td>\n",
       "      <td>high school</td>\n",
       "      <td>1</td>\n",
       "      <td>cohabitant</td>\n",
       "      <td>1</td>\n",
       "      <td>F</td>\n",
       "      <td>retired</td>\n",
       "      <td>0</td>\n",
       "      <td>158,616.08</td>\n",
       "      <td>organize wedding</td>\n",
       "    </tr>\n",
       "  </tbody>\n",
       "</table>\n",
       "</div>"
      ],
      "text/plain": [
       "   Unnamed: 0  children  days_employed  dob_years    education  education_id  \\\n",
       "0           0         1       8,437.67         42      college             0   \n",
       "1           1         1       4,024.80         36  high school             1   \n",
       "2           2         0       5,623.42         33          NaN             1   \n",
       "3           3         3       4,124.75         32  high school             1   \n",
       "4           4         0     340,266.07         53  high school             1   \n",
       "\n",
       "  family_status  family_status_id gender income_type  debt  total_income  \\\n",
       "0       married                 0      F    employee     0    253,875.64   \n",
       "1       married                 0      F    employee     0    112,080.01   \n",
       "2       married                 0      M    employee     0    145,885.95   \n",
       "3       married                 0      M    employee     0    267,628.55   \n",
       "4    cohabitant                 1      F     retired     0    158,616.08   \n",
       "\n",
       "            purpose  \n",
       "0     home purchase  \n",
       "1      car purchase  \n",
       "2     home purchase  \n",
       "3   extra education  \n",
       "4  organize wedding  "
      ]
     },
     "execution_count": 148,
     "metadata": {},
     "output_type": "execute_result"
    }
   ],
   "source": [
    "df.days_employed = df.days_employed.apply(lambda n: -n if n<0 else n)\n",
    "df.head()"
   ]
  },
  {
   "cell_type": "markdown",
   "metadata": {},
   "source": [
    "There are still some issues with the <code> days employed </code> column, a values like 340,266.07 can't be correct"
   ]
  },
  {
   "cell_type": "code",
   "execution_count": 149,
   "metadata": {},
   "outputs": [
    {
     "data": {
      "text/plain": [
       "count    19,351.00\n",
       "mean     66,914.73\n",
       "std     139,030.88\n",
       "min          24.14\n",
       "25%         927.01\n",
       "50%       2,194.22\n",
       "75%       5,537.88\n",
       "max     401,755.40\n",
       "Name: days_employed, dtype: float64"
      ]
     },
     "execution_count": 149,
     "metadata": {},
     "output_type": "execute_result"
    }
   ],
   "source": [
    "df.days_employed.describe()"
   ]
  },
  {
   "cell_type": "markdown",
   "metadata": {},
   "source": [
    "We see that <b> maximum = 401755 days of work. </b > Check how many years it is: 401755/365 = 1100.7: more than a thousand years! This is clearly a mistake and something needs to be done with such data. Maybe instead of days, people entered the number of hours? Check: 1100.7/24 = 45.8. If a person is aged, it is possible that he worked for 45 years. Let's check what category of employment these data belong to."
   ]
  },
  {
   "cell_type": "code",
   "execution_count": 150,
   "metadata": {},
   "outputs": [
    {
     "data": {
      "text/plain": [
       "retired       3443\n",
       "unemployed       2\n",
       "Name: income_type, dtype: int64"
      ]
     },
     "execution_count": 150,
     "metadata": {},
     "output_type": "execute_result"
    }
   ],
   "source": [
    "df[df['days_employed'] > 20000]['income_type'].value_counts()"
   ]
  },
  {
   "cell_type": "markdown",
   "metadata": {},
   "source": [
    "It became clear that mainly pensioners fall into our category. Probably their experience was recorded in hours. Let's this by applying a function to the column."
   ]
  },
  {
   "cell_type": "code",
   "execution_count": 151,
   "metadata": {},
   "outputs": [
    {
     "data": {
      "text/plain": [
       "count   19,351.00\n",
       "mean     4,641.64\n",
       "std      5,355.96\n",
       "min         24.14\n",
       "25%        927.01\n",
       "50%      2,194.22\n",
       "75%      5,537.88\n",
       "max     18,388.95\n",
       "Name: days_employed, dtype: float64"
      ]
     },
     "execution_count": 151,
     "metadata": {},
     "output_type": "execute_result"
    }
   ],
   "source": [
    "df.days_employed = df.days_employed.apply(lambda n: n/24 if n > 20000 else n)\n",
    "df.days_employed.describe()"
   ]
  },
  {
   "cell_type": "markdown",
   "metadata": {},
   "source": [
    "We see that now we have a maximum value of 18388.95 and if you calculate the value in years it turns out 18389/365 = 50 years, which is quite plausible. Now let's consider the column'dob_years'"
   ]
  },
  {
   "cell_type": "markdown",
   "metadata": {},
   "source": [
    "First we deal with all the empty values"
   ]
  },
  {
   "cell_type": "code",
   "execution_count": 152,
   "metadata": {},
   "outputs": [
    {
     "data": {
      "text/plain": [
       "employee               1105\n",
       "companion               508\n",
       "retired                 413\n",
       "government employee     147\n",
       "entrepreneur              1\n",
       "Name: income_type, dtype: int64"
      ]
     },
     "execution_count": 152,
     "metadata": {},
     "output_type": "execute_result"
    }
   ],
   "source": [
    "df[df['days_employed'].isna()]['income_type'].value_counts()"
   ]
  },
  {
   "cell_type": "code",
   "execution_count": 153,
   "metadata": {},
   "outputs": [
    {
     "data": {
      "text/plain": [
       "employee               1105\n",
       "companion               508\n",
       "retired                 413\n",
       "government employee     147\n",
       "entrepreneur              1\n",
       "Name: income_type, dtype: int64"
      ]
     },
     "execution_count": 153,
     "metadata": {},
     "output_type": "execute_result"
    }
   ],
   "source": [
    "df[df['total_income'].isna()]['income_type'].value_counts()"
   ]
  },
  {
   "cell_type": "markdown",
   "metadata": {},
   "source": [
    "We see that people without the specified income and seniority of work have different types of occupation and most likely an error occurred when entering data. We fill in the empty values of work experience by the average number of work experience of people of the same age category. First we will create several age categories. Before we do this, make sure that in the column 'dob_years' everything is in order"
   ]
  },
  {
   "cell_type": "code",
   "execution_count": 154,
   "metadata": {},
   "outputs": [
    {
     "data": {
      "text/plain": [
       "count   21,525.00\n",
       "mean        43.29\n",
       "std         12.57\n",
       "min          0.00\n",
       "25%         33.00\n",
       "50%         42.00\n",
       "75%         53.00\n",
       "max         75.00\n",
       "Name: dob_years, dtype: float64"
      ]
     },
     "execution_count": 154,
     "metadata": {},
     "output_type": "execute_result"
    }
   ],
   "source": [
    "df.dob_years.describe()"
   ]
  },
  {
   "cell_type": "markdown",
   "metadata": {},
   "source": [
    "Let's deal with empty values by filling them correspondingly to the mean of matching category"
   ]
  },
  {
   "cell_type": "code",
   "execution_count": 155,
   "metadata": {},
   "outputs": [
    {
     "data": {
      "text/html": [
       "<div>\n",
       "<style scoped>\n",
       "    .dataframe tbody tr th:only-of-type {\n",
       "        vertical-align: middle;\n",
       "    }\n",
       "\n",
       "    .dataframe tbody tr th {\n",
       "        vertical-align: top;\n",
       "    }\n",
       "\n",
       "    .dataframe thead th {\n",
       "        text-align: right;\n",
       "    }\n",
       "</style>\n",
       "<table border=\"1\" class=\"dataframe\">\n",
       "  <thead>\n",
       "    <tr style=\"text-align: right;\">\n",
       "      <th></th>\n",
       "      <th>income_type</th>\n",
       "      <th>dob_years</th>\n",
       "    </tr>\n",
       "  </thead>\n",
       "  <tbody>\n",
       "    <tr>\n",
       "      <th>0</th>\n",
       "      <td>companion</td>\n",
       "      <td>39.70</td>\n",
       "    </tr>\n",
       "    <tr>\n",
       "      <th>1</th>\n",
       "      <td>employee</td>\n",
       "      <td>39.82</td>\n",
       "    </tr>\n",
       "    <tr>\n",
       "      <th>2</th>\n",
       "      <td>entrepreneur</td>\n",
       "      <td>42.50</td>\n",
       "    </tr>\n",
       "    <tr>\n",
       "      <th>3</th>\n",
       "      <td>government employee</td>\n",
       "      <td>40.64</td>\n",
       "    </tr>\n",
       "    <tr>\n",
       "      <th>4</th>\n",
       "      <td>on maternity leave</td>\n",
       "      <td>39.00</td>\n",
       "    </tr>\n",
       "    <tr>\n",
       "      <th>5</th>\n",
       "      <td>retired</td>\n",
       "      <td>59.06</td>\n",
       "    </tr>\n",
       "    <tr>\n",
       "      <th>6</th>\n",
       "      <td>student</td>\n",
       "      <td>22.00</td>\n",
       "    </tr>\n",
       "    <tr>\n",
       "      <th>7</th>\n",
       "      <td>unemployed</td>\n",
       "      <td>38.00</td>\n",
       "    </tr>\n",
       "  </tbody>\n",
       "</table>\n",
       "</div>"
      ],
      "text/plain": [
       "           income_type  dob_years\n",
       "0            companion      39.70\n",
       "1             employee      39.82\n",
       "2         entrepreneur      42.50\n",
       "3  government employee      40.64\n",
       "4   on maternity leave      39.00\n",
       "5              retired      59.06\n",
       "6              student      22.00\n",
       "7           unemployed      38.00"
      ]
     },
     "execution_count": 155,
     "metadata": {},
     "output_type": "execute_result"
    }
   ],
   "source": [
    "occupation_cat = df.groupby('income_type').agg({'dob_years': 'mean'}).reset_index()\n",
    "occupation_cat"
   ]
  },
  {
   "cell_type": "code",
   "execution_count": 156,
   "metadata": {},
   "outputs": [
    {
     "data": {
      "text/plain": [
       "count   21,525.00\n",
       "mean        43.29\n",
       "std         12.57\n",
       "min          0.00\n",
       "25%         33.00\n",
       "50%         42.00\n",
       "75%         53.00\n",
       "max         75.00\n",
       "Name: dob_years, dtype: float64"
      ]
     },
     "execution_count": 156,
     "metadata": {},
     "output_type": "execute_result"
    }
   ],
   "source": [
    "occupation_cat['dob_years'] = occupation_cat['dob_years'].astype(int)\n",
    "age_map_dict = {row['income_type']: row['dob_years'] for index, row in occupation_cat.iterrows()}\n",
    "\n",
    "df['dob_years'] = df['dob_years'].fillna(df['income_type'].map(age_map_dict))\n",
    "\n",
    "df.dob_years.describe()"
   ]
  },
  {
   "cell_type": "markdown",
   "metadata": {},
   "source": [
    "Let's now create age groups that will help us fill the empty values in the 'days_employed' column"
   ]
  },
  {
   "cell_type": "code",
   "execution_count": 157,
   "metadata": {},
   "outputs": [
    {
     "data": {
      "text/html": [
       "<div>\n",
       "<style scoped>\n",
       "    .dataframe tbody tr th:only-of-type {\n",
       "        vertical-align: middle;\n",
       "    }\n",
       "\n",
       "    .dataframe tbody tr th {\n",
       "        vertical-align: top;\n",
       "    }\n",
       "\n",
       "    .dataframe thead th {\n",
       "        text-align: right;\n",
       "    }\n",
       "</style>\n",
       "<table border=\"1\" class=\"dataframe\">\n",
       "  <thead>\n",
       "    <tr style=\"text-align: right;\">\n",
       "      <th></th>\n",
       "      <th>dob_years_cat</th>\n",
       "      <th>days_employed</th>\n",
       "    </tr>\n",
       "  </thead>\n",
       "  <tbody>\n",
       "    <tr>\n",
       "      <th>0</th>\n",
       "      <td>adult</td>\n",
       "      <td>1,936.37</td>\n",
       "    </tr>\n",
       "    <tr>\n",
       "      <th>1</th>\n",
       "      <td>elderly</td>\n",
       "      <td>13,636.41</td>\n",
       "    </tr>\n",
       "    <tr>\n",
       "      <th>2</th>\n",
       "      <td>middle age</td>\n",
       "      <td>6,314.09</td>\n",
       "    </tr>\n",
       "    <tr>\n",
       "      <th>3</th>\n",
       "      <td>young</td>\n",
       "      <td>1,262.06</td>\n",
       "    </tr>\n",
       "  </tbody>\n",
       "</table>\n",
       "</div>"
      ],
      "text/plain": [
       "  dob_years_cat  days_employed\n",
       "0         adult       1,936.37\n",
       "1       elderly      13,636.41\n",
       "2    middle age       6,314.09\n",
       "3         young       1,262.06"
      ]
     },
     "execution_count": 157,
     "metadata": {},
     "output_type": "execute_result"
    }
   ],
   "source": [
    "def dob_years_cat(value):\n",
    "    if value < 25:\n",
    "        return \"young\"\n",
    "    elif 25 <= value <= 40:\n",
    "        return \"adult\"\n",
    "    elif 40 < value < 65:\n",
    "        return \"middle age\"\n",
    "    return \"elderly\"\n",
    "\n",
    "df['dob_years_cat'] = df.dob_years.apply(dob_years_cat)\n",
    "age_cat = df.groupby('dob_years_cat').agg({'days_employed': 'mean'}).reset_index()\n",
    "age_cat"
   ]
  },
  {
   "cell_type": "markdown",
   "metadata": {},
   "source": [
    "We got the average number of years of service according to the age category. Now fill in the empty values in the 'days _ employed' column"
   ]
  },
  {
   "cell_type": "code",
   "execution_count": 158,
   "metadata": {},
   "outputs": [],
   "source": [
    "days_map_dict = {row['dob_years_cat']: row['days_employed'] for index, row in age_cat.iterrows()}\n",
    "df['days_employed'] = df['days_employed'].fillna(df['dob_years_cat'].map(days_map_dict))\n"
   ]
  },
  {
   "cell_type": "markdown",
   "metadata": {},
   "source": [
    "Let's replace the float type with the int data type in the 'days_employed' column because it specifies the number of days."
   ]
  },
  {
   "cell_type": "code",
   "execution_count": 159,
   "metadata": {},
   "outputs": [],
   "source": [
    "df.days_employed = df.days_employed.astype(int)"
   ]
  },
  {
   "cell_type": "markdown",
   "metadata": {},
   "source": [
    "With missing values in 'income _ type' we will do the same only instead of age, we will rely on education. We already have the ivision into levels of education we have only to do something about duplicates that will prevent us from further analysis\n",
    "\n",
    "Now we will process the column \"education\""
   ]
  },
  {
   "cell_type": "code",
   "execution_count": 160,
   "metadata": {},
   "outputs": [
    {
     "data": {
      "text/plain": [
       "high school             13750\n",
       "college                  4718\n",
       "college (unfinished)      668\n",
       "primary                   250\n",
       "PhD                         4\n",
       "Name: education, dtype: int64"
      ]
     },
     "execution_count": 160,
     "metadata": {},
     "output_type": "execute_result"
    }
   ],
   "source": [
    "df.education.value_counts()"
   ]
  },
  {
   "cell_type": "markdown",
   "metadata": {},
   "source": [
    "We can already fill in the missing data in the column'total_income' based on education. This time we use the median so that extreme values do not greatly affect the average salary"
   ]
  },
  {
   "cell_type": "code",
   "execution_count": 161,
   "metadata": {},
   "outputs": [
    {
     "data": {
      "text/plain": [
       "education\n",
       "PhD                    185,687.12\n",
       "college                175,625.31\n",
       "college (unfinished)   159,780.92\n",
       "high school            136,643.35\n",
       "primary                117,314.52\n",
       "Name: total_income, dtype: float64"
      ]
     },
     "execution_count": 161,
     "metadata": {},
     "output_type": "execute_result"
    }
   ],
   "source": [
    "education_salary_median = df.groupby('education')['total_income'].median()\n",
    "education_salary_median "
   ]
  },
  {
   "cell_type": "code",
   "execution_count": 162,
   "metadata": {},
   "outputs": [],
   "source": [
    "for value in education_salary_median:\n",
    "    for index in education_salary_median:\n",
    "        df.loc[(df['total_income'].isna()) & (df['education'] == index), 'total_income'] = value\n"
   ]
  },
  {
   "cell_type": "code",
   "execution_count": 176,
   "metadata": {},
   "outputs": [],
   "source": [
    "df = df.dropna(axis=0)"
   ]
  },
  {
   "cell_type": "code",
   "execution_count": 180,
   "metadata": {},
   "outputs": [
    {
     "data": {
      "text/plain": [
       "array(['married', 'cohabitant', 'widow', 'single', 'divorced'],\n",
       "      dtype=object)"
      ]
     },
     "execution_count": 180,
     "metadata": {},
     "output_type": "execute_result"
    }
   ],
   "source": [
    "df.family_status.unique()\n"
   ]
  },
  {
   "cell_type": "code",
   "execution_count": 181,
   "metadata": {},
   "outputs": [
    {
     "data": {
      "text/plain": [
       "array(['F', 'M', 'XNA'], dtype=object)"
      ]
     },
     "execution_count": 181,
     "metadata": {},
     "output_type": "execute_result"
    }
   ],
   "source": [
    "df.gender.unique()"
   ]
  },
  {
   "cell_type": "code",
   "execution_count": 182,
   "metadata": {
    "scrolled": true
   },
   "outputs": [
    {
     "data": {
      "text/html": [
       "<div>\n",
       "<style scoped>\n",
       "    .dataframe tbody tr th:only-of-type {\n",
       "        vertical-align: middle;\n",
       "    }\n",
       "\n",
       "    .dataframe tbody tr th {\n",
       "        vertical-align: top;\n",
       "    }\n",
       "\n",
       "    .dataframe thead th {\n",
       "        text-align: right;\n",
       "    }\n",
       "</style>\n",
       "<table border=\"1\" class=\"dataframe\">\n",
       "  <thead>\n",
       "    <tr style=\"text-align: right;\">\n",
       "      <th></th>\n",
       "      <th>count</th>\n",
       "      <th>mean</th>\n",
       "    </tr>\n",
       "    <tr>\n",
       "      <th>gender</th>\n",
       "      <th></th>\n",
       "      <th></th>\n",
       "    </tr>\n",
       "  </thead>\n",
       "  <tbody>\n",
       "    <tr>\n",
       "      <th>F</th>\n",
       "      <td>10313</td>\n",
       "      <td>0.07</td>\n",
       "    </tr>\n",
       "    <tr>\n",
       "      <th>M</th>\n",
       "      <td>5297</td>\n",
       "      <td>0.11</td>\n",
       "    </tr>\n",
       "    <tr>\n",
       "      <th>XNA</th>\n",
       "      <td>1</td>\n",
       "      <td>0.00</td>\n",
       "    </tr>\n",
       "  </tbody>\n",
       "</table>\n",
       "</div>"
      ],
      "text/plain": [
       "        count  mean\n",
       "gender             \n",
       "F       10313  0.07\n",
       "M        5297  0.11\n",
       "XNA         1  0.00"
      ]
     },
     "execution_count": 182,
     "metadata": {},
     "output_type": "execute_result"
    }
   ],
   "source": [
    "df.groupby('gender')['debt'].agg(['count', 'mean'])"
   ]
  },
  {
   "cell_type": "code",
   "execution_count": 183,
   "metadata": {},
   "outputs": [
    {
     "data": {
      "text/plain": [
       "0"
      ]
     },
     "execution_count": 183,
     "metadata": {},
     "output_type": "execute_result"
    }
   ],
   "source": [
    "df.duplicated().sum()"
   ]
  },
  {
   "cell_type": "code",
   "execution_count": 184,
   "metadata": {},
   "outputs": [
    {
     "data": {
      "text/plain": [
       "0"
      ]
     },
     "execution_count": 184,
     "metadata": {},
     "output_type": "execute_result"
    }
   ],
   "source": [
    "df = df.drop_duplicates().reset_index(drop=True)\n",
    "df.duplicated().sum()"
   ]
  },
  {
   "cell_type": "code",
   "execution_count": 185,
   "metadata": {},
   "outputs": [
    {
     "data": {
      "text/plain": [
       "count   15,611.00\n",
       "mean         0.48\n",
       "std          0.75\n",
       "min          0.00\n",
       "25%          0.00\n",
       "50%          0.00\n",
       "75%          1.00\n",
       "max          5.00\n",
       "Name: children, dtype: float64"
      ]
     },
     "execution_count": 185,
     "metadata": {},
     "output_type": "execute_result"
    }
   ],
   "source": [
    "df.children.describe()"
   ]
  },
  {
   "cell_type": "code",
   "execution_count": 186,
   "metadata": {},
   "outputs": [
    {
     "data": {
      "text/plain": [
       "0    10235\n",
       "1     3565\n",
       "2     1545\n",
       "3      233\n",
       "4       26\n",
       "5        7\n",
       "Name: children, dtype: int64"
      ]
     },
     "execution_count": 186,
     "metadata": {},
     "output_type": "execute_result"
    }
   ],
   "source": [
    "df.children.value_counts()"
   ]
  },
  {
   "cell_type": "code",
   "execution_count": 188,
   "metadata": {},
   "outputs": [
    {
     "data": {
      "text/plain": [
       "0    10235\n",
       "1     3565\n",
       "2     1545\n",
       "3      233\n",
       "4       26\n",
       "5        7\n",
       "Name: children, dtype: int64"
      ]
     },
     "execution_count": 188,
     "metadata": {},
     "output_type": "execute_result"
    }
   ],
   "source": [
    "df.children = df.children.apply(lambda n: abs(n))\n",
    "df.children = df.children.apply(lambda n: 2 if n == 20 else n)\n",
    "df.children.value_counts()"
   ]
  },
  {
   "cell_type": "markdown",
   "metadata": {},
   "source": [
    "### Credit purpose lemmatisation"
   ]
  },
  {
   "cell_type": "markdown",
   "metadata": {},
   "source": [
    "To simplify the task of reading and understanding data, credit goals in the'pupose 'column need to be grouped by topic. For this, we will first find keywords. In order to do this, we write a function that will accept the entire column as the input."
   ]
  },
  {
   "cell_type": "code",
   "execution_count": 189,
   "metadata": {},
   "outputs": [
    {
     "name": "stdout",
     "output_type": "stream",
     "text": [
      "Requirement already satisfied: pymystem3 in /Users/mitya/opt/anaconda3/lib/python3.8/site-packages (0.2.0)\r\n",
      "Requirement already satisfied: requests in /Users/mitya/opt/anaconda3/lib/python3.8/site-packages (from pymystem3) (2.26.0)\r\n",
      "Requirement already satisfied: certifi>=2017.4.17 in /Users/mitya/opt/anaconda3/lib/python3.8/site-packages (from requests->pymystem3) (2021.5.30)\r\n",
      "Requirement already satisfied: idna<4,>=2.5 in /Users/mitya/opt/anaconda3/lib/python3.8/site-packages (from requests->pymystem3) (3.2)\r\n",
      "Requirement already satisfied: urllib3<1.27,>=1.21.1 in /Users/mitya/opt/anaconda3/lib/python3.8/site-packages (from requests->pymystem3) (1.26.7)\r\n",
      "Requirement already satisfied: charset-normalizer~=2.0.0 in /Users/mitya/opt/anaconda3/lib/python3.8/site-packages (from requests->pymystem3) (2.0.6)\r\n"
     ]
    },
    {
     "data": {
      "text/plain": [
       "Counter({'home': 1022,\n",
       "         ' ': 29206,\n",
       "         'purchase': 1297,\n",
       "         '\\n': 9398,\n",
       "         'car': 2754,\n",
       "         'extra': 369,\n",
       "         'education': 2827,\n",
       "         'organize': 627,\n",
       "         'wedding': 1881,\n",
       "         'Housing': 525,\n",
       "         'operations': 525,\n",
       "         'buying': 3099,\n",
       "         'family': 521,\n",
       "         'housing': 1577,\n",
       "         ' \\n': 6213,\n",
       "         'real': 4654,\n",
       "         'estate': 4654,\n",
       "         'commercial': 1071,\n",
       "         'residential': 495,\n",
       "         'construction': 1020,\n",
       "         'of': 907,\n",
       "         'own': 505,\n",
       "         'for': 929,\n",
       "         'the': 402,\n",
       "         'a': 402,\n",
       "         'used': 792,\n",
       "         'transactions': 1579,\n",
       "         'cars': 371,\n",
       "         'to': 1075,\n",
       "         'engage': 315,\n",
       "         'in': 315,\n",
       "         'receive': 350,\n",
       "         'deal': 768,\n",
       "         'obtaining': 358,\n",
       "         'additional': 358,\n",
       "         'your': 1297,\n",
       "         'higher': 730,\n",
       "         'rent': 527,\n",
       "         'buy': 410,\n",
       "         'specific': 337})"
      ]
     },
     "execution_count": 189,
     "metadata": {},
     "output_type": "execute_result"
    }
   ],
   "source": [
    "!pip3 install pymystem3\n",
    "from pymystem3 import Mystem\n",
    "from collections import Counter \n",
    "\n",
    "m = Mystem()\n",
    "\n",
    "def lemmatise(column):\n",
    "    lemmas = []\n",
    "    purpose_lemmatized = [m.lemmatize(phrase) for phrase in column]\n",
    "    for item in purpose_lemmatized:\n",
    "        for word in item:\n",
    "            lemmas.append(word)  \n",
    "    return lemmas\n",
    "\n",
    "words_lemmatized = lemmatise(df.purpose)\n",
    "lemmas_dict = Counter(words_lemmatized)\n",
    "lemmas_dict"
   ]
  },
  {
   "cell_type": "markdown",
   "metadata": {},
   "source": [
    "We got a big dictionary containing separate words. You can thus make a list of the main goals of the loan."
   ]
  },
  {
   "cell_type": "code",
   "execution_count": 194,
   "metadata": {},
   "outputs": [],
   "source": [
    "purposes = ['home', 'property', 'wedding', 'car', 'education']"
   ]
  },
  {
   "cell_type": "code",
   "execution_count": 196,
   "metadata": {},
   "outputs": [
    {
     "data": {
      "text/html": [
       "<div>\n",
       "<style scoped>\n",
       "    .dataframe tbody tr th:only-of-type {\n",
       "        vertical-align: middle;\n",
       "    }\n",
       "\n",
       "    .dataframe tbody tr th {\n",
       "        vertical-align: top;\n",
       "    }\n",
       "\n",
       "    .dataframe thead th {\n",
       "        text-align: right;\n",
       "    }\n",
       "</style>\n",
       "<table border=\"1\" class=\"dataframe\">\n",
       "  <thead>\n",
       "    <tr style=\"text-align: right;\">\n",
       "      <th></th>\n",
       "      <th>Unnamed: 0</th>\n",
       "      <th>children</th>\n",
       "      <th>days_employed</th>\n",
       "      <th>dob_years</th>\n",
       "      <th>education</th>\n",
       "      <th>education_id</th>\n",
       "      <th>family_status</th>\n",
       "      <th>family_status_id</th>\n",
       "      <th>gender</th>\n",
       "      <th>income_type</th>\n",
       "      <th>debt</th>\n",
       "      <th>total_income</th>\n",
       "      <th>purpose</th>\n",
       "      <th>dob_years_cat</th>\n",
       "      <th>purpose_lemmatized</th>\n",
       "    </tr>\n",
       "  </thead>\n",
       "  <tbody>\n",
       "    <tr>\n",
       "      <th>0</th>\n",
       "      <td>0</td>\n",
       "      <td>1</td>\n",
       "      <td>8437</td>\n",
       "      <td>42</td>\n",
       "      <td>college</td>\n",
       "      <td>0</td>\n",
       "      <td>married</td>\n",
       "      <td>0</td>\n",
       "      <td>F</td>\n",
       "      <td>employee</td>\n",
       "      <td>0</td>\n",
       "      <td>253,875.64</td>\n",
       "      <td>home purchase</td>\n",
       "      <td>middle age</td>\n",
       "      <td>home</td>\n",
       "    </tr>\n",
       "    <tr>\n",
       "      <th>1</th>\n",
       "      <td>1</td>\n",
       "      <td>1</td>\n",
       "      <td>4024</td>\n",
       "      <td>36</td>\n",
       "      <td>high school</td>\n",
       "      <td>1</td>\n",
       "      <td>married</td>\n",
       "      <td>0</td>\n",
       "      <td>F</td>\n",
       "      <td>employee</td>\n",
       "      <td>0</td>\n",
       "      <td>112,080.01</td>\n",
       "      <td>car purchase</td>\n",
       "      <td>adult</td>\n",
       "      <td>car</td>\n",
       "    </tr>\n",
       "    <tr>\n",
       "      <th>2</th>\n",
       "      <td>3</td>\n",
       "      <td>3</td>\n",
       "      <td>4124</td>\n",
       "      <td>32</td>\n",
       "      <td>high school</td>\n",
       "      <td>1</td>\n",
       "      <td>married</td>\n",
       "      <td>0</td>\n",
       "      <td>M</td>\n",
       "      <td>employee</td>\n",
       "      <td>0</td>\n",
       "      <td>267,628.55</td>\n",
       "      <td>extra education</td>\n",
       "      <td>adult</td>\n",
       "      <td>education</td>\n",
       "    </tr>\n",
       "    <tr>\n",
       "      <th>3</th>\n",
       "      <td>4</td>\n",
       "      <td>0</td>\n",
       "      <td>14177</td>\n",
       "      <td>53</td>\n",
       "      <td>high school</td>\n",
       "      <td>1</td>\n",
       "      <td>cohabitant</td>\n",
       "      <td>1</td>\n",
       "      <td>F</td>\n",
       "      <td>retired</td>\n",
       "      <td>0</td>\n",
       "      <td>158,616.08</td>\n",
       "      <td>organize wedding</td>\n",
       "      <td>middle age</td>\n",
       "      <td>wedding</td>\n",
       "    </tr>\n",
       "    <tr>\n",
       "      <th>4</th>\n",
       "      <td>5</td>\n",
       "      <td>0</td>\n",
       "      <td>926</td>\n",
       "      <td>27</td>\n",
       "      <td>college</td>\n",
       "      <td>0</td>\n",
       "      <td>cohabitant</td>\n",
       "      <td>1</td>\n",
       "      <td>M</td>\n",
       "      <td>companion</td>\n",
       "      <td>0</td>\n",
       "      <td>255,763.57</td>\n",
       "      <td>home purchase</td>\n",
       "      <td>adult</td>\n",
       "      <td>home</td>\n",
       "    </tr>\n",
       "  </tbody>\n",
       "</table>\n",
       "</div>"
      ],
      "text/plain": [
       "   Unnamed: 0  children  days_employed  dob_years    education  education_id  \\\n",
       "0           0         1           8437         42      college             0   \n",
       "1           1         1           4024         36  high school             1   \n",
       "2           3         3           4124         32  high school             1   \n",
       "3           4         0          14177         53  high school             1   \n",
       "4           5         0            926         27      college             0   \n",
       "\n",
       "  family_status  family_status_id gender income_type  debt  total_income  \\\n",
       "0       married                 0      F    employee     0    253,875.64   \n",
       "1       married                 0      F    employee     0    112,080.01   \n",
       "2       married                 0      M    employee     0    267,628.55   \n",
       "3    cohabitant                 1      F     retired     0    158,616.08   \n",
       "4    cohabitant                 1      M   companion     0    255,763.57   \n",
       "\n",
       "            purpose dob_years_cat purpose_lemmatized  \n",
       "0     home purchase    middle age               home  \n",
       "1      car purchase         adult                car  \n",
       "2   extra education         adult          education  \n",
       "3  organize wedding    middle age            wedding  \n",
       "4     home purchase         adult               home  "
      ]
     },
     "execution_count": 196,
     "metadata": {},
     "output_type": "execute_result"
    }
   ],
   "source": [
    "def column_creation(row):\n",
    "    for word in m.lemmatize(row):\n",
    "        if word in purposes:\n",
    "            return word\n",
    "\n",
    "df['purpose_lemmatized'] = df.purpose.apply(column_creation)\n",
    "df.head()"
   ]
  },
  {
   "cell_type": "markdown",
   "metadata": {},
   "source": [
    "### Data analysis"
   ]
  },
  {
   "cell_type": "markdown",
   "metadata": {},
   "source": [
    "Let's now begin to answer the question about borrowers' reliability."
   ]
  },
  {
   "cell_type": "markdown",
   "metadata": {},
   "source": [
    "#### 1. Is there a dependency between the number of children and being in/out of debt?"
   ]
  },
  {
   "cell_type": "code",
   "execution_count": 197,
   "metadata": {},
   "outputs": [
    {
     "data": {
      "text/html": [
       "<div>\n",
       "<style scoped>\n",
       "    .dataframe tbody tr th:only-of-type {\n",
       "        vertical-align: middle;\n",
       "    }\n",
       "\n",
       "    .dataframe tbody tr th {\n",
       "        vertical-align: top;\n",
       "    }\n",
       "\n",
       "    .dataframe thead th {\n",
       "        text-align: right;\n",
       "    }\n",
       "</style>\n",
       "<table border=\"1\" class=\"dataframe\">\n",
       "  <thead>\n",
       "    <tr style=\"text-align: right;\">\n",
       "      <th></th>\n",
       "      <th>count</th>\n",
       "      <th>mean</th>\n",
       "    </tr>\n",
       "    <tr>\n",
       "      <th>children</th>\n",
       "      <th></th>\n",
       "      <th></th>\n",
       "    </tr>\n",
       "  </thead>\n",
       "  <tbody>\n",
       "    <tr>\n",
       "      <th>0</th>\n",
       "      <td>10235</td>\n",
       "      <td>0.08</td>\n",
       "    </tr>\n",
       "    <tr>\n",
       "      <th>1</th>\n",
       "      <td>3565</td>\n",
       "      <td>0.10</td>\n",
       "    </tr>\n",
       "    <tr>\n",
       "      <th>2</th>\n",
       "      <td>1545</td>\n",
       "      <td>0.10</td>\n",
       "    </tr>\n",
       "    <tr>\n",
       "      <th>3</th>\n",
       "      <td>233</td>\n",
       "      <td>0.08</td>\n",
       "    </tr>\n",
       "    <tr>\n",
       "      <th>4</th>\n",
       "      <td>26</td>\n",
       "      <td>0.08</td>\n",
       "    </tr>\n",
       "    <tr>\n",
       "      <th>5</th>\n",
       "      <td>7</td>\n",
       "      <td>0.00</td>\n",
       "    </tr>\n",
       "  </tbody>\n",
       "</table>\n",
       "</div>"
      ],
      "text/plain": [
       "          count  mean\n",
       "children             \n",
       "0         10235  0.08\n",
       "1          3565  0.10\n",
       "2          1545  0.10\n",
       "3           233  0.08\n",
       "4            26  0.08\n",
       "5             7  0.00"
      ]
     },
     "execution_count": 197,
     "metadata": {},
     "output_type": "execute_result"
    }
   ],
   "source": [
    "df.groupby('children')['debt'].agg(['count', 'mean'])"
   ]
  },
  {
   "cell_type": "markdown",
   "metadata": {},
   "source": [
    "Let's separate the clients in those who have and those who have no kids"
   ]
  },
  {
   "cell_type": "code",
   "execution_count": 198,
   "metadata": {},
   "outputs": [
    {
     "data": {
      "text/html": [
       "<div>\n",
       "<style scoped>\n",
       "    .dataframe tbody tr th:only-of-type {\n",
       "        vertical-align: middle;\n",
       "    }\n",
       "\n",
       "    .dataframe tbody tr th {\n",
       "        vertical-align: top;\n",
       "    }\n",
       "\n",
       "    .dataframe thead th {\n",
       "        text-align: right;\n",
       "    }\n",
       "</style>\n",
       "<table border=\"1\" class=\"dataframe\">\n",
       "  <thead>\n",
       "    <tr style=\"text-align: right;\">\n",
       "      <th></th>\n",
       "      <th>count</th>\n",
       "      <th>mean</th>\n",
       "    </tr>\n",
       "    <tr>\n",
       "      <th>no_children</th>\n",
       "      <th></th>\n",
       "      <th></th>\n",
       "    </tr>\n",
       "  </thead>\n",
       "  <tbody>\n",
       "    <tr>\n",
       "      <th>0</th>\n",
       "      <td>5376</td>\n",
       "      <td>0.10</td>\n",
       "    </tr>\n",
       "    <tr>\n",
       "      <th>1</th>\n",
       "      <td>10235</td>\n",
       "      <td>0.08</td>\n",
       "    </tr>\n",
       "  </tbody>\n",
       "</table>\n",
       "</div>"
      ],
      "text/plain": [
       "             count  mean\n",
       "no_children             \n",
       "0             5376  0.10\n",
       "1            10235  0.08"
      ]
     },
     "execution_count": 198,
     "metadata": {},
     "output_type": "execute_result"
    }
   ],
   "source": [
    "df['no_children'] = (df.children == 0) * 1\n",
    "df.groupby('no_children')['debt'].agg(['count', 'mean'])"
   ]
  },
  {
   "cell_type": "markdown",
   "metadata": {},
   "source": [
    "More debt among people with children. Let's see if education is of nay influence."
   ]
  },
  {
   "cell_type": "code",
   "execution_count": 199,
   "metadata": {},
   "outputs": [
    {
     "data": {
      "text/html": [
       "<div>\n",
       "<style scoped>\n",
       "    .dataframe tbody tr th:only-of-type {\n",
       "        vertical-align: middle;\n",
       "    }\n",
       "\n",
       "    .dataframe tbody tr th {\n",
       "        vertical-align: top;\n",
       "    }\n",
       "\n",
       "    .dataframe thead th {\n",
       "        text-align: right;\n",
       "    }\n",
       "</style>\n",
       "<table border=\"1\" class=\"dataframe\">\n",
       "  <thead>\n",
       "    <tr style=\"text-align: right;\">\n",
       "      <th></th>\n",
       "      <th>count</th>\n",
       "      <th>mean</th>\n",
       "    </tr>\n",
       "    <tr>\n",
       "      <th>education</th>\n",
       "      <th></th>\n",
       "      <th></th>\n",
       "    </tr>\n",
       "  </thead>\n",
       "  <tbody>\n",
       "    <tr>\n",
       "      <th>PhD</th>\n",
       "      <td>3</td>\n",
       "      <td>0.00</td>\n",
       "    </tr>\n",
       "    <tr>\n",
       "      <th>college</th>\n",
       "      <td>3794</td>\n",
       "      <td>0.06</td>\n",
       "    </tr>\n",
       "    <tr>\n",
       "      <th>college (unfinished)</th>\n",
       "      <td>548</td>\n",
       "      <td>0.10</td>\n",
       "    </tr>\n",
       "    <tr>\n",
       "      <th>high school</th>\n",
       "      <td>11063</td>\n",
       "      <td>0.09</td>\n",
       "    </tr>\n",
       "    <tr>\n",
       "      <th>primary</th>\n",
       "      <td>203</td>\n",
       "      <td>0.13</td>\n",
       "    </tr>\n",
       "  </tbody>\n",
       "</table>\n",
       "</div>"
      ],
      "text/plain": [
       "                      count  mean\n",
       "education                        \n",
       "PhD                       3  0.00\n",
       "college                3794  0.06\n",
       "college (unfinished)    548  0.10\n",
       "high school           11063  0.09\n",
       "primary                 203  0.13"
      ]
     },
     "execution_count": 199,
     "metadata": {},
     "output_type": "execute_result"
    }
   ],
   "source": [
    "df.groupby('education')['debt'].agg(['count', 'mean'])"
   ]
  },
  {
   "cell_type": "code",
   "execution_count": 201,
   "metadata": {},
   "outputs": [
    {
     "data": {
      "text/html": [
       "<div>\n",
       "<style scoped>\n",
       "    .dataframe tbody tr th:only-of-type {\n",
       "        vertical-align: middle;\n",
       "    }\n",
       "\n",
       "    .dataframe tbody tr th {\n",
       "        vertical-align: top;\n",
       "    }\n",
       "\n",
       "    .dataframe thead th {\n",
       "        text-align: right;\n",
       "    }\n",
       "</style>\n",
       "<table border=\"1\" class=\"dataframe\">\n",
       "  <thead>\n",
       "    <tr style=\"text-align: right;\">\n",
       "      <th></th>\n",
       "      <th>count</th>\n",
       "      <th>mean</th>\n",
       "    </tr>\n",
       "    <tr>\n",
       "      <th>university_degree</th>\n",
       "      <th></th>\n",
       "      <th></th>\n",
       "    </tr>\n",
       "  </thead>\n",
       "  <tbody>\n",
       "    <tr>\n",
       "      <th>0</th>\n",
       "      <td>11814</td>\n",
       "      <td>0.09</td>\n",
       "    </tr>\n",
       "    <tr>\n",
       "      <th>1</th>\n",
       "      <td>3797</td>\n",
       "      <td>0.06</td>\n",
       "    </tr>\n",
       "  </tbody>\n",
       "</table>\n",
       "</div>"
      ],
      "text/plain": [
       "                   count  mean\n",
       "university_degree             \n",
       "0                  11814  0.09\n",
       "1                   3797  0.06"
      ]
     },
     "execution_count": 201,
     "metadata": {},
     "output_type": "execute_result"
    }
   ],
   "source": [
    "df['university_degree'] = df.education.isin(['college', 'PhD'])*1\n",
    "df.groupby('university_degree')['debt'].agg(['count', 'mean'])"
   ]
  },
  {
   "cell_type": "markdown",
   "metadata": {},
   "source": [
    "A lot less debt among people with a college degree"
   ]
  },
  {
   "cell_type": "code",
   "execution_count": 202,
   "metadata": {},
   "outputs": [
    {
     "data": {
      "text/html": [
       "<div>\n",
       "<style scoped>\n",
       "    .dataframe tbody tr th:only-of-type {\n",
       "        vertical-align: middle;\n",
       "    }\n",
       "\n",
       "    .dataframe tbody tr th {\n",
       "        vertical-align: top;\n",
       "    }\n",
       "\n",
       "    .dataframe thead th {\n",
       "        text-align: right;\n",
       "    }\n",
       "</style>\n",
       "<table border=\"1\" class=\"dataframe\">\n",
       "  <thead>\n",
       "    <tr style=\"text-align: right;\">\n",
       "      <th></th>\n",
       "      <th>count</th>\n",
       "      <th>mean</th>\n",
       "    </tr>\n",
       "    <tr>\n",
       "      <th>score</th>\n",
       "      <th></th>\n",
       "      <th></th>\n",
       "    </tr>\n",
       "  </thead>\n",
       "  <tbody>\n",
       "    <tr>\n",
       "      <th>0</th>\n",
       "      <td>3947</td>\n",
       "      <td>0.11</td>\n",
       "    </tr>\n",
       "    <tr>\n",
       "      <th>1</th>\n",
       "      <td>9296</td>\n",
       "      <td>0.08</td>\n",
       "    </tr>\n",
       "    <tr>\n",
       "      <th>2</th>\n",
       "      <td>2368</td>\n",
       "      <td>0.05</td>\n",
       "    </tr>\n",
       "  </tbody>\n",
       "</table>\n",
       "</div>"
      ],
      "text/plain": [
       "       count  mean\n",
       "score             \n",
       "0       3947  0.11\n",
       "1       9296  0.08\n",
       "2       2368  0.05"
      ]
     },
     "execution_count": 202,
     "metadata": {},
     "output_type": "execute_result"
    }
   ],
   "source": [
    "df['score'] = df['university_degree'] + df['no_children']\n",
    "df.groupby('score')['debt'].agg(['count', 'mean'])"
   ]
  },
  {
   "cell_type": "markdown",
   "metadata": {},
   "source": [
    "We received three customer categories:\n",
    "1. Customers who have children and who have not graduated from high school - for them the probability of not repaying the debt: 11%\n",
    "2. Clients without children and higher education or with children and higher education: probability of debt: 8%\n",
    "3. Customers who do not have children and who have graduated from high school - for them the probability of not repaying the debt is only 5%"
   ]
  },
  {
   "cell_type": "markdown",
   "metadata": {},
   "source": [
    "#### 2. Is there a dependancy between the family status and debt?"
   ]
  },
  {
   "cell_type": "code",
   "execution_count": 203,
   "metadata": {},
   "outputs": [
    {
     "data": {
      "text/html": [
       "<div>\n",
       "<style scoped>\n",
       "    .dataframe tbody tr th:only-of-type {\n",
       "        vertical-align: middle;\n",
       "    }\n",
       "\n",
       "    .dataframe tbody tr th {\n",
       "        vertical-align: top;\n",
       "    }\n",
       "\n",
       "    .dataframe thead th {\n",
       "        text-align: right;\n",
       "    }\n",
       "</style>\n",
       "<table border=\"1\" class=\"dataframe\">\n",
       "  <thead>\n",
       "    <tr style=\"text-align: right;\">\n",
       "      <th></th>\n",
       "      <th>count</th>\n",
       "      <th>mean</th>\n",
       "    </tr>\n",
       "    <tr>\n",
       "      <th>family_status</th>\n",
       "      <th></th>\n",
       "      <th></th>\n",
       "    </tr>\n",
       "  </thead>\n",
       "  <tbody>\n",
       "    <tr>\n",
       "      <th>cohabitant</th>\n",
       "      <td>3182</td>\n",
       "      <td>0.09</td>\n",
       "    </tr>\n",
       "    <tr>\n",
       "      <th>divorced</th>\n",
       "      <td>847</td>\n",
       "      <td>0.07</td>\n",
       "    </tr>\n",
       "    <tr>\n",
       "      <th>married</th>\n",
       "      <td>8891</td>\n",
       "      <td>0.08</td>\n",
       "    </tr>\n",
       "    <tr>\n",
       "      <th>single</th>\n",
       "      <td>2007</td>\n",
       "      <td>0.10</td>\n",
       "    </tr>\n",
       "    <tr>\n",
       "      <th>widow</th>\n",
       "      <td>684</td>\n",
       "      <td>0.06</td>\n",
       "    </tr>\n",
       "  </tbody>\n",
       "</table>\n",
       "</div>"
      ],
      "text/plain": [
       "               count  mean\n",
       "family_status             \n",
       "cohabitant      3182  0.09\n",
       "divorced         847  0.07\n",
       "married         8891  0.08\n",
       "single          2007  0.10\n",
       "widow            684  0.06"
      ]
     },
     "execution_count": 203,
     "metadata": {},
     "output_type": "execute_result"
    }
   ],
   "source": [
    "df.groupby('family_status')['debt'].agg(['count','mean'])"
   ]
  },
  {
   "cell_type": "markdown",
   "metadata": {},
   "source": [
    "there is more debt between the single and the unmarried"
   ]
  },
  {
   "cell_type": "code",
   "execution_count": 205,
   "metadata": {},
   "outputs": [
    {
     "data": {
      "text/html": [
       "<div>\n",
       "<style scoped>\n",
       "    .dataframe tbody tr th:only-of-type {\n",
       "        vertical-align: middle;\n",
       "    }\n",
       "\n",
       "    .dataframe tbody tr th {\n",
       "        vertical-align: top;\n",
       "    }\n",
       "\n",
       "    .dataframe thead th {\n",
       "        text-align: right;\n",
       "    }\n",
       "</style>\n",
       "<table border=\"1\" class=\"dataframe\">\n",
       "  <thead>\n",
       "    <tr style=\"text-align: right;\">\n",
       "      <th></th>\n",
       "      <th>count</th>\n",
       "      <th>mean</th>\n",
       "    </tr>\n",
       "    <tr>\n",
       "      <th>was_not_married</th>\n",
       "      <th></th>\n",
       "      <th></th>\n",
       "    </tr>\n",
       "  </thead>\n",
       "  <tbody>\n",
       "    <tr>\n",
       "      <th>0</th>\n",
       "      <td>10422</td>\n",
       "      <td>0.08</td>\n",
       "    </tr>\n",
       "    <tr>\n",
       "      <th>1</th>\n",
       "      <td>5189</td>\n",
       "      <td>0.10</td>\n",
       "    </tr>\n",
       "  </tbody>\n",
       "</table>\n",
       "</div>"
      ],
      "text/plain": [
       "                 count  mean\n",
       "was_not_married             \n",
       "0                10422  0.08\n",
       "1                 5189  0.10"
      ]
     },
     "execution_count": 205,
     "metadata": {},
     "output_type": "execute_result"
    }
   ],
   "source": [
    "df['was_not_married'] = df.family_status.isin(['single', 'cohabitant']) * 1\n",
    "df.groupby('was_not_married')['debt'].agg(['count', 'mean'])"
   ]
  },
  {
   "cell_type": "code",
   "execution_count": 208,
   "metadata": {},
   "outputs": [
    {
     "data": {
      "text/html": [
       "<div>\n",
       "<style scoped>\n",
       "    .dataframe tbody tr th:only-of-type {\n",
       "        vertical-align: middle;\n",
       "    }\n",
       "\n",
       "    .dataframe tbody tr th {\n",
       "        vertical-align: top;\n",
       "    }\n",
       "\n",
       "    .dataframe thead th {\n",
       "        text-align: right;\n",
       "    }\n",
       "</style>\n",
       "<table border=\"1\" class=\"dataframe\">\n",
       "  <thead>\n",
       "    <tr style=\"text-align: right;\">\n",
       "      <th></th>\n",
       "      <th>count</th>\n",
       "      <th>mean</th>\n",
       "    </tr>\n",
       "    <tr>\n",
       "      <th>dob_years_cat</th>\n",
       "      <th></th>\n",
       "      <th></th>\n",
       "    </tr>\n",
       "  </thead>\n",
       "  <tbody>\n",
       "    <tr>\n",
       "      <th>adult</th>\n",
       "      <td>6265</td>\n",
       "      <td>0.10</td>\n",
       "    </tr>\n",
       "    <tr>\n",
       "      <th>elderly</th>\n",
       "      <td>662</td>\n",
       "      <td>0.05</td>\n",
       "    </tr>\n",
       "    <tr>\n",
       "      <th>middle age</th>\n",
       "      <td>7993</td>\n",
       "      <td>0.07</td>\n",
       "    </tr>\n",
       "    <tr>\n",
       "      <th>young</th>\n",
       "      <td>691</td>\n",
       "      <td>0.10</td>\n",
       "    </tr>\n",
       "  </tbody>\n",
       "</table>\n",
       "</div>"
      ],
      "text/plain": [
       "               count  mean\n",
       "dob_years_cat             \n",
       "adult           6265  0.10\n",
       "elderly          662  0.05\n",
       "middle age      7993  0.07\n",
       "young            691  0.10"
      ]
     },
     "execution_count": 208,
     "metadata": {},
     "output_type": "execute_result"
    }
   ],
   "source": [
    "df.groupby('dob_years_cat')['debt'].agg(['count', 'mean'])"
   ]
  },
  {
   "cell_type": "markdown",
   "metadata": {},
   "source": [
    "With age, customer reliability grows. To include age in our scoring create an additional column of normalized age and then add it to our scoring column"
   ]
  },
  {
   "cell_type": "code",
   "execution_count": 209,
   "metadata": {},
   "outputs": [
    {
     "data": {
      "text/html": [
       "<div>\n",
       "<style scoped>\n",
       "    .dataframe tbody tr th:only-of-type {\n",
       "        vertical-align: middle;\n",
       "    }\n",
       "\n",
       "    .dataframe tbody tr th {\n",
       "        vertical-align: top;\n",
       "    }\n",
       "\n",
       "    .dataframe thead th {\n",
       "        text-align: right;\n",
       "    }\n",
       "</style>\n",
       "<table border=\"1\" class=\"dataframe\">\n",
       "  <thead>\n",
       "    <tr style=\"text-align: right;\">\n",
       "      <th></th>\n",
       "      <th>Unnamed: 0</th>\n",
       "      <th>children</th>\n",
       "      <th>days_employed</th>\n",
       "      <th>dob_years</th>\n",
       "      <th>education</th>\n",
       "      <th>education_id</th>\n",
       "      <th>family_status</th>\n",
       "      <th>family_status_id</th>\n",
       "      <th>gender</th>\n",
       "      <th>income_type</th>\n",
       "      <th>debt</th>\n",
       "      <th>total_income</th>\n",
       "      <th>purpose</th>\n",
       "      <th>dob_years_cat</th>\n",
       "      <th>purpose_lemmatized</th>\n",
       "      <th>no_children</th>\n",
       "      <th>university_degree</th>\n",
       "      <th>score</th>\n",
       "      <th>was_not_married</th>\n",
       "      <th>dob_years_normalized</th>\n",
       "    </tr>\n",
       "  </thead>\n",
       "  <tbody>\n",
       "    <tr>\n",
       "      <th>18</th>\n",
       "      <td>23</td>\n",
       "      <td>0</td>\n",
       "      <td>272</td>\n",
       "      <td>21</td>\n",
       "      <td>college</td>\n",
       "      <td>0</td>\n",
       "      <td>cohabitant</td>\n",
       "      <td>1</td>\n",
       "      <td>M</td>\n",
       "      <td>employee</td>\n",
       "      <td>0</td>\n",
       "      <td>128,265.72</td>\n",
       "      <td>organize wedding</td>\n",
       "      <td>young</td>\n",
       "      <td>wedding</td>\n",
       "      <td>1</td>\n",
       "      <td>1</td>\n",
       "      <td>3</td>\n",
       "      <td>1</td>\n",
       "      <td>0.28</td>\n",
       "    </tr>\n",
       "    <tr>\n",
       "      <th>32</th>\n",
       "      <td>42</td>\n",
       "      <td>0</td>\n",
       "      <td>1257</td>\n",
       "      <td>20</td>\n",
       "      <td>college (unfinished)</td>\n",
       "      <td>2</td>\n",
       "      <td>single</td>\n",
       "      <td>4</td>\n",
       "      <td>F</td>\n",
       "      <td>employee</td>\n",
       "      <td>0</td>\n",
       "      <td>82,065.09</td>\n",
       "      <td>to receive education</td>\n",
       "      <td>young</td>\n",
       "      <td>education</td>\n",
       "      <td>1</td>\n",
       "      <td>0</td>\n",
       "      <td>2</td>\n",
       "      <td>1</td>\n",
       "      <td>0.27</td>\n",
       "    </tr>\n",
       "    <tr>\n",
       "      <th>109</th>\n",
       "      <td>149</td>\n",
       "      <td>0</td>\n",
       "      <td>2664</td>\n",
       "      <td>0</td>\n",
       "      <td>high school</td>\n",
       "      <td>1</td>\n",
       "      <td>divorced</td>\n",
       "      <td>3</td>\n",
       "      <td>F</td>\n",
       "      <td>employee</td>\n",
       "      <td>0</td>\n",
       "      <td>70,176.44</td>\n",
       "      <td>Housing operations</td>\n",
       "      <td>young</td>\n",
       "      <td>None</td>\n",
       "      <td>1</td>\n",
       "      <td>0</td>\n",
       "      <td>1</td>\n",
       "      <td>0</td>\n",
       "      <td>0.00</td>\n",
       "    </tr>\n",
       "    <tr>\n",
       "      <th>113</th>\n",
       "      <td>153</td>\n",
       "      <td>1</td>\n",
       "      <td>132</td>\n",
       "      <td>20</td>\n",
       "      <td>high school</td>\n",
       "      <td>1</td>\n",
       "      <td>married</td>\n",
       "      <td>0</td>\n",
       "      <td>M</td>\n",
       "      <td>companion</td>\n",
       "      <td>1</td>\n",
       "      <td>134,750.75</td>\n",
       "      <td>housing</td>\n",
       "      <td>young</td>\n",
       "      <td>None</td>\n",
       "      <td>0</td>\n",
       "      <td>0</td>\n",
       "      <td>0</td>\n",
       "      <td>0</td>\n",
       "      <td>0.27</td>\n",
       "    </tr>\n",
       "    <tr>\n",
       "      <th>155</th>\n",
       "      <td>208</td>\n",
       "      <td>0</td>\n",
       "      <td>749</td>\n",
       "      <td>22</td>\n",
       "      <td>high school</td>\n",
       "      <td>1</td>\n",
       "      <td>cohabitant</td>\n",
       "      <td>1</td>\n",
       "      <td>M</td>\n",
       "      <td>companion</td>\n",
       "      <td>0</td>\n",
       "      <td>162,492.02</td>\n",
       "      <td>specific education</td>\n",
       "      <td>young</td>\n",
       "      <td>education</td>\n",
       "      <td>1</td>\n",
       "      <td>0</td>\n",
       "      <td>2</td>\n",
       "      <td>1</td>\n",
       "      <td>0.29</td>\n",
       "    </tr>\n",
       "  </tbody>\n",
       "</table>\n",
       "</div>"
      ],
      "text/plain": [
       "     Unnamed: 0  children  days_employed  dob_years             education  \\\n",
       "18           23         0            272         21               college   \n",
       "32           42         0           1257         20  college (unfinished)   \n",
       "109         149         0           2664          0           high school   \n",
       "113         153         1            132         20           high school   \n",
       "155         208         0            749         22           high school   \n",
       "\n",
       "     education_id family_status  family_status_id gender income_type  debt  \\\n",
       "18              0    cohabitant                 1      M    employee     0   \n",
       "32              2        single                 4      F    employee     0   \n",
       "109             1      divorced                 3      F    employee     0   \n",
       "113             1       married                 0      M   companion     1   \n",
       "155             1    cohabitant                 1      M   companion     0   \n",
       "\n",
       "     total_income                 purpose dob_years_cat purpose_lemmatized  \\\n",
       "18     128,265.72        organize wedding         young            wedding   \n",
       "32      82,065.09   to receive education          young          education   \n",
       "109     70,176.44      Housing operations         young               None   \n",
       "113    134,750.75                 housing         young               None   \n",
       "155    162,492.02     specific education          young          education   \n",
       "\n",
       "     no_children  university_degree  score  was_not_married  \\\n",
       "18             1                  1      3                1   \n",
       "32             1                  0      2                1   \n",
       "109            1                  0      1                0   \n",
       "113            0                  0      0                0   \n",
       "155            1                  0      2                1   \n",
       "\n",
       "     dob_years_normalized  \n",
       "18                   0.28  \n",
       "32                   0.27  \n",
       "109                  0.00  \n",
       "113                  0.27  \n",
       "155                  0.29  "
      ]
     },
     "execution_count": 209,
     "metadata": {},
     "output_type": "execute_result"
    }
   ],
   "source": [
    "df['dob_years_normalized'] = df['dob_years'] / df['dob_years'].max()\n",
    "df[df['dob_years_normalized'] < 0.3].head()"
   ]
  },
  {
   "cell_type": "markdown",
   "metadata": {},
   "source": [
    "The higher the indicator - the higher the score"
   ]
  },
  {
   "cell_type": "code",
   "execution_count": 210,
   "metadata": {},
   "outputs": [
    {
     "data": {
      "text/html": [
       "<div>\n",
       "<style scoped>\n",
       "    .dataframe tbody tr th:only-of-type {\n",
       "        vertical-align: middle;\n",
       "    }\n",
       "\n",
       "    .dataframe tbody tr th {\n",
       "        vertical-align: top;\n",
       "    }\n",
       "\n",
       "    .dataframe thead th {\n",
       "        text-align: right;\n",
       "    }\n",
       "</style>\n",
       "<table border=\"1\" class=\"dataframe\">\n",
       "  <thead>\n",
       "    <tr style=\"text-align: right;\">\n",
       "      <th></th>\n",
       "      <th>count</th>\n",
       "      <th>mean</th>\n",
       "    </tr>\n",
       "    <tr>\n",
       "      <th>score_quart</th>\n",
       "      <th></th>\n",
       "      <th></th>\n",
       "    </tr>\n",
       "  </thead>\n",
       "  <tbody>\n",
       "    <tr>\n",
       "      <th>(-0.001, 1.333]</th>\n",
       "      <td>3124</td>\n",
       "      <td>0.10</td>\n",
       "    </tr>\n",
       "    <tr>\n",
       "      <th>(1.333, 1.6]</th>\n",
       "      <td>3211</td>\n",
       "      <td>0.10</td>\n",
       "    </tr>\n",
       "    <tr>\n",
       "      <th>(1.6, 1.827]</th>\n",
       "      <td>3067</td>\n",
       "      <td>0.06</td>\n",
       "    </tr>\n",
       "    <tr>\n",
       "      <th>(1.827, 2.587]</th>\n",
       "      <td>3089</td>\n",
       "      <td>0.09</td>\n",
       "    </tr>\n",
       "    <tr>\n",
       "      <th>(2.587, 3.96]</th>\n",
       "      <td>3120</td>\n",
       "      <td>0.06</td>\n",
       "    </tr>\n",
       "  </tbody>\n",
       "</table>\n",
       "</div>"
      ],
      "text/plain": [
       "                 count  mean\n",
       "score_quart                 \n",
       "(-0.001, 1.333]   3124  0.10\n",
       "(1.333, 1.6]      3211  0.10\n",
       "(1.6, 1.827]      3067  0.06\n",
       "(1.827, 2.587]    3089  0.09\n",
       "(2.587, 3.96]     3120  0.06"
      ]
     },
     "execution_count": 210,
     "metadata": {},
     "output_type": "execute_result"
    }
   ],
   "source": [
    "df['score'] = df['score'] + df['dob_years_normalized']\n",
    "df['score_quart'] = pd.qcut(df['score'], 5)\n",
    "df.groupby('score_quart')['debt'].agg(['count', 'mean'])"
   ]
  },
  {
   "cell_type": "markdown",
   "metadata": {},
   "source": [
    "Thus, we divided our scoring into 5 parts having received different categories of customers, at the beginning of the table - the most unreliable and below - vice versa"
   ]
  },
  {
   "cell_type": "code",
   "execution_count": 211,
   "metadata": {},
   "outputs": [
    {
     "data": {
      "text/html": [
       "<div>\n",
       "<style scoped>\n",
       "    .dataframe tbody tr th:only-of-type {\n",
       "        vertical-align: middle;\n",
       "    }\n",
       "\n",
       "    .dataframe tbody tr th {\n",
       "        vertical-align: top;\n",
       "    }\n",
       "\n",
       "    .dataframe thead th {\n",
       "        text-align: right;\n",
       "    }\n",
       "</style>\n",
       "<table border=\"1\" class=\"dataframe\">\n",
       "  <thead>\n",
       "    <tr style=\"text-align: right;\">\n",
       "      <th></th>\n",
       "      <th>mean</th>\n",
       "      <th>count</th>\n",
       "    </tr>\n",
       "    <tr>\n",
       "      <th>score_rounded</th>\n",
       "      <th></th>\n",
       "      <th></th>\n",
       "    </tr>\n",
       "  </thead>\n",
       "  <tbody>\n",
       "    <tr>\n",
       "      <th>0.00</th>\n",
       "      <td>0.11</td>\n",
       "      <td>1474</td>\n",
       "    </tr>\n",
       "    <tr>\n",
       "      <th>1.00</th>\n",
       "      <td>0.10</td>\n",
       "      <td>3417</td>\n",
       "    </tr>\n",
       "    <tr>\n",
       "      <th>2.00</th>\n",
       "      <td>0.08</td>\n",
       "      <td>6870</td>\n",
       "    </tr>\n",
       "    <tr>\n",
       "      <th>3.00</th>\n",
       "      <td>0.06</td>\n",
       "      <td>3389</td>\n",
       "    </tr>\n",
       "    <tr>\n",
       "      <th>4.00</th>\n",
       "      <td>0.06</td>\n",
       "      <td>461</td>\n",
       "    </tr>\n",
       "  </tbody>\n",
       "</table>\n",
       "</div>"
      ],
      "text/plain": [
       "               mean  count\n",
       "score_rounded             \n",
       "0.00           0.11   1474\n",
       "1.00           0.10   3417\n",
       "2.00           0.08   6870\n",
       "3.00           0.06   3389\n",
       "4.00           0.06    461"
      ]
     },
     "execution_count": 211,
     "metadata": {},
     "output_type": "execute_result"
    }
   ],
   "source": [
    "df['score_rounded'] = df['score'].round()\n",
    "df.groupby('score_rounded')['debt'].agg(['mean', 'count'])"
   ]
  },
  {
   "cell_type": "markdown",
   "metadata": {},
   "source": [
    "Now it is quite easy to determine the reliability of the borrower by scoring\n",
    "\n",
    "#### 3. Is there a relationship between income level and loan repayment on time?\n",
    "\n",
    "It remains to see how the income level affects the probability of debt"
   ]
  },
  {
   "cell_type": "code",
   "execution_count": 212,
   "metadata": {},
   "outputs": [
    {
     "data": {
      "text/html": [
       "<div>\n",
       "<style scoped>\n",
       "    .dataframe tbody tr th:only-of-type {\n",
       "        vertical-align: middle;\n",
       "    }\n",
       "\n",
       "    .dataframe tbody tr th {\n",
       "        vertical-align: top;\n",
       "    }\n",
       "\n",
       "    .dataframe thead th {\n",
       "        text-align: right;\n",
       "    }\n",
       "</style>\n",
       "<table border=\"1\" class=\"dataframe\">\n",
       "  <thead>\n",
       "    <tr style=\"text-align: right;\">\n",
       "      <th></th>\n",
       "      <th>mean</th>\n",
       "      <th>count</th>\n",
       "    </tr>\n",
       "    <tr>\n",
       "      <th>total_income_q</th>\n",
       "      <th></th>\n",
       "      <th></th>\n",
       "    </tr>\n",
       "  </thead>\n",
       "  <tbody>\n",
       "    <tr>\n",
       "      <th>(20667.263, 94868.486]</th>\n",
       "      <td>0.08</td>\n",
       "      <td>3123</td>\n",
       "    </tr>\n",
       "    <tr>\n",
       "      <th>(94868.486, 128418.675]</th>\n",
       "      <td>0.09</td>\n",
       "      <td>3122</td>\n",
       "    </tr>\n",
       "    <tr>\n",
       "      <th>(128418.675, 164320.213]</th>\n",
       "      <td>0.09</td>\n",
       "      <td>3122</td>\n",
       "    </tr>\n",
       "    <tr>\n",
       "      <th>(164320.213, 223383.426]</th>\n",
       "      <td>0.09</td>\n",
       "      <td>3122</td>\n",
       "    </tr>\n",
       "    <tr>\n",
       "      <th>(223383.426, 2200852.21]</th>\n",
       "      <td>0.07</td>\n",
       "      <td>3122</td>\n",
       "    </tr>\n",
       "  </tbody>\n",
       "</table>\n",
       "</div>"
      ],
      "text/plain": [
       "                          mean  count\n",
       "total_income_q                       \n",
       "(20667.263, 94868.486]    0.08   3123\n",
       "(94868.486, 128418.675]   0.09   3122\n",
       "(128418.675, 164320.213]  0.09   3122\n",
       "(164320.213, 223383.426]  0.09   3122\n",
       "(223383.426, 2200852.21]  0.07   3122"
      ]
     },
     "execution_count": 212,
     "metadata": {},
     "output_type": "execute_result"
    }
   ],
   "source": [
    "df['total_income_q'] = pd.qcut(df['total_income'], 5)\n",
    "df.groupby('total_income_q')['debt'].agg(['mean', 'count'])"
   ]
  },
  {
   "cell_type": "markdown",
   "metadata": {},
   "source": [
    "This time, the data shows a non-linear relationship. People with low incomes (up to about 130,000) are less prone to debt - 8% than people whose income is between 130 and 160 thousand - 9%.\n",
    "\n",
    "Starting with an income of 160,000, the higher the income the less arrears.\n",
    "\n",
    "8% - among those with income between 160,000 and 214,000 and\n",
    "7% - among those with an income above 214 thousand"
   ]
  },
  {
   "cell_type": "markdown",
   "metadata": {},
   "source": [
    "#### 3. How do different goals of a loan affect its return on time?"
   ]
  },
  {
   "cell_type": "code",
   "execution_count": 213,
   "metadata": {},
   "outputs": [
    {
     "data": {
      "text/html": [
       "<div>\n",
       "<style scoped>\n",
       "    .dataframe tbody tr th:only-of-type {\n",
       "        vertical-align: middle;\n",
       "    }\n",
       "\n",
       "    .dataframe tbody tr th {\n",
       "        vertical-align: top;\n",
       "    }\n",
       "\n",
       "    .dataframe thead th {\n",
       "        text-align: right;\n",
       "    }\n",
       "</style>\n",
       "<table border=\"1\" class=\"dataframe\">\n",
       "  <thead>\n",
       "    <tr style=\"text-align: right;\">\n",
       "      <th></th>\n",
       "      <th>count</th>\n",
       "      <th>mean</th>\n",
       "    </tr>\n",
       "    <tr>\n",
       "      <th>purpose_lemmatized</th>\n",
       "      <th></th>\n",
       "      <th></th>\n",
       "    </tr>\n",
       "  </thead>\n",
       "  <tbody>\n",
       "    <tr>\n",
       "      <th>car</th>\n",
       "      <td>2754</td>\n",
       "      <td>0.10</td>\n",
       "    </tr>\n",
       "    <tr>\n",
       "      <th>education</th>\n",
       "      <td>2827</td>\n",
       "      <td>0.09</td>\n",
       "    </tr>\n",
       "    <tr>\n",
       "      <th>home</th>\n",
       "      <td>1022</td>\n",
       "      <td>0.07</td>\n",
       "    </tr>\n",
       "    <tr>\n",
       "      <th>wedding</th>\n",
       "      <td>1881</td>\n",
       "      <td>0.07</td>\n",
       "    </tr>\n",
       "  </tbody>\n",
       "</table>\n",
       "</div>"
      ],
      "text/plain": [
       "                    count  mean\n",
       "purpose_lemmatized             \n",
       "car                  2754  0.10\n",
       "education            2827  0.09\n",
       "home                 1022  0.07\n",
       "wedding              1881  0.07"
      ]
     },
     "execution_count": 213,
     "metadata": {},
     "output_type": "execute_result"
    }
   ],
   "source": [
    "df.groupby('purpose_lemmatized')['debt'].agg(['count', 'mean'])"
   ]
  },
  {
   "cell_type": "markdown",
   "metadata": {},
   "source": [
    "We see that the purpose of a loan affects the percentage of debts, most of the debt shows when the pupropse is to buy a car.\n",
    "9% for education\n",
    "7% of debt on loans for the purchase of house or organising a wedding"
   ]
  },
  {
   "cell_type": "markdown",
   "metadata": {},
   "source": [
    "### 4. Conclusion"
   ]
  },
  {
   "cell_type": "markdown",
   "metadata": {},
   "source": [
    "- People who have children with a probability of 9% will not repay the loan on time while people without children will not repay the loan with a probability of 8%\n",
    "\n",
    "\n",
    "- People who have never been married have a better chance of not returning money on time - 9-10% Although people married as well as divorced or widows/widowers will not repay the loan with a probability of 7-8%\n",
    "\n",
    "\n",
    "- Salary also affects credit repayment on time. People with low incomes (up to about 130,000) are less prone to debt - 8% than people whose income is between 130 and 160 thousand - 9%. Starting with an income of 160,000, the higher the income the less arrears. 8% - among those with income between 160,000 and 214,000 and 7% - among those with income above 214 thousand.\n",
    "\n",
    "\n",
    "- We see that the purpose of the loan affects the percentage of arrears, the larger the goal the less arrears. 8-9% of loans for weddings, car purchases and education. 7% of debt on loans for the purchase of housing or real estate\n",
    "\n",
    "\n",
    "- Education also affects the probability of debt: 9% of the chance not to return money for those who have not graduated from university and only 5% for those who have completed higher education.\n",
    "\n",
    "\n",
    "- The age of the client also affects its reliability. The older the client, the more reliable he is. Up to forty years, the probability of not returning the loan is 10%, while among pensioners of debtors only 5% and among people aged between 40 and 65 - only 7%\n",
    "\n",
    "<code> The ideal client </code> will be a person who has graduated from a university, who for 40 is married, without children, with an income of either up to 130,000 or above 214,000 who need money for real estate or housing.\n",
    "\n",
    "\n",
    "<code> The most unreliable </code> client is a person who has not completed a university, who is under 40 years old (the less unreliable) with a salary of between 130 and 214 thousand with the purpose of a loan such as buying a car or paying for an education that has children and has never been married\n",
    "\n"
   ]
  }
 ],
 "metadata": {
  "ExecuteTimeLog": [
   {
    "duration": 833,
    "start_time": "2021-08-14T05:04:09.669Z"
   },
   {
    "duration": 29,
    "start_time": "2021-08-14T05:04:10.505Z"
   },
   {
    "duration": 14,
    "start_time": "2021-08-14T05:04:10.537Z"
   },
   {
    "duration": 39,
    "start_time": "2021-08-14T05:04:10.554Z"
   },
   {
    "duration": 26,
    "start_time": "2021-08-14T05:04:10.595Z"
   },
   {
    "duration": 4,
    "start_time": "2021-08-14T05:04:10.623Z"
   },
   {
    "duration": 57,
    "start_time": "2021-08-14T05:04:10.630Z"
   },
   {
    "duration": 11,
    "start_time": "2021-08-14T05:04:10.691Z"
   },
   {
    "duration": 13,
    "start_time": "2021-08-14T05:04:10.705Z"
   },
   {
    "duration": 22,
    "start_time": "2021-08-14T05:04:10.720Z"
   },
   {
    "duration": 12,
    "start_time": "2021-08-14T05:04:10.782Z"
   },
   {
    "duration": 20,
    "start_time": "2021-08-14T05:04:10.796Z"
   },
   {
    "duration": 10,
    "start_time": "2021-08-14T05:04:10.819Z"
   },
   {
    "duration": 119,
    "start_time": "2021-08-14T05:04:10.831Z"
   },
   {
    "duration": 12,
    "start_time": "2021-08-14T05:04:10.952Z"
   },
   {
    "duration": 23,
    "start_time": "2021-08-14T05:04:10.967Z"
   },
   {
    "duration": 7,
    "start_time": "2021-08-14T05:04:10.993Z"
   },
   {
    "duration": 24,
    "start_time": "2021-08-14T05:04:11.002Z"
   },
   {
    "duration": 62,
    "start_time": "2021-08-14T05:04:11.029Z"
   },
   {
    "duration": 9,
    "start_time": "2021-08-14T05:04:11.094Z"
   },
   {
    "duration": 22,
    "start_time": "2021-08-14T05:04:11.106Z"
   },
   {
    "duration": 57,
    "start_time": "2021-08-14T05:04:11.131Z"
   },
   {
    "duration": 44,
    "start_time": "2021-08-14T05:04:11.192Z"
   },
   {
    "duration": 8391,
    "start_time": "2021-08-14T05:04:11.238Z"
   },
   {
    "duration": 4,
    "start_time": "2021-08-14T05:04:19.631Z"
   },
   {
    "duration": 3593,
    "start_time": "2021-08-14T05:04:19.637Z"
   },
   {
    "duration": 18,
    "start_time": "2021-08-14T05:04:23.233Z"
   },
   {
    "duration": 41,
    "start_time": "2021-08-14T05:04:23.254Z"
   },
   {
    "duration": 14,
    "start_time": "2021-08-14T05:04:23.297Z"
   },
   {
    "duration": 11,
    "start_time": "2021-08-14T05:04:23.313Z"
   },
   {
    "duration": 11,
    "start_time": "2021-08-14T05:04:23.326Z"
   },
   {
    "duration": 59,
    "start_time": "2021-08-14T05:04:23.340Z"
   },
   {
    "duration": 40,
    "start_time": "2021-08-14T05:04:23.401Z"
   },
   {
    "duration": 859,
    "start_time": "2021-08-14T07:32:04.704Z"
   },
   {
    "duration": 30,
    "start_time": "2021-08-14T07:32:08.174Z"
   },
   {
    "duration": 471,
    "start_time": "2021-08-14T07:34:10.100Z"
   },
   {
    "duration": 15,
    "start_time": "2021-08-14T07:34:22.514Z"
   },
   {
    "duration": 405,
    "start_time": "2021-08-14T07:36:49.362Z"
   },
   {
    "duration": 395,
    "start_time": "2021-08-14T07:37:19.994Z"
   },
   {
    "duration": 6,
    "start_time": "2021-08-14T07:37:24.253Z"
   },
   {
    "duration": 16,
    "start_time": "2021-08-14T07:37:31.413Z"
   },
   {
    "duration": 26,
    "start_time": "2021-08-14T07:37:42.873Z"
   },
   {
    "duration": 373,
    "start_time": "2021-08-14T07:38:09.254Z"
   },
   {
    "duration": 371,
    "start_time": "2021-08-14T07:38:17.245Z"
   },
   {
    "duration": 9798,
    "start_time": "2021-08-14T07:39:18.744Z"
   },
   {
    "duration": 370,
    "start_time": "2021-08-14T07:39:36.375Z"
   },
   {
    "duration": 406,
    "start_time": "2021-08-14T07:39:43.855Z"
   },
   {
    "duration": 385,
    "start_time": "2021-08-14T07:39:59.813Z"
   },
   {
    "duration": 7,
    "start_time": "2021-08-14T07:40:22.011Z"
   },
   {
    "duration": 6084,
    "start_time": "2021-08-14T07:42:10.021Z"
   },
   {
    "duration": 5085,
    "start_time": "2021-08-14T07:42:28.474Z"
   },
   {
    "duration": 6,
    "start_time": "2021-08-14T07:45:10.056Z"
   },
   {
    "duration": 10,
    "start_time": "2021-08-14T07:45:19.712Z"
   },
   {
    "duration": 10,
    "start_time": "2021-08-14T07:46:06.021Z"
   },
   {
    "duration": 460,
    "start_time": "2021-08-14T07:46:33.630Z"
   },
   {
    "duration": 8,
    "start_time": "2021-08-14T07:46:41.046Z"
   },
   {
    "duration": 134,
    "start_time": "2021-08-14T07:47:13.953Z"
   },
   {
    "duration": 407,
    "start_time": "2021-08-14T07:47:24.464Z"
   },
   {
    "duration": 10,
    "start_time": "2021-08-14T07:47:31.723Z"
   },
   {
    "duration": 9,
    "start_time": "2021-08-14T07:47:49.515Z"
   },
   {
    "duration": 10,
    "start_time": "2021-08-14T07:47:55.986Z"
   },
   {
    "duration": 10,
    "start_time": "2021-08-14T07:48:21.301Z"
   },
   {
    "duration": 11,
    "start_time": "2021-08-14T07:50:29.438Z"
   },
   {
    "duration": 11,
    "start_time": "2021-08-14T07:50:55.705Z"
   },
   {
    "duration": 66,
    "start_time": "2021-08-14T07:55:39.364Z"
   },
   {
    "duration": 64,
    "start_time": "2021-08-14T07:55:43.973Z"
   },
   {
    "duration": 18,
    "start_time": "2021-08-14T07:55:44.040Z"
   },
   {
    "duration": 16,
    "start_time": "2021-08-14T07:55:44.085Z"
   },
   {
    "duration": 11,
    "start_time": "2021-08-14T07:55:44.104Z"
   },
   {
    "duration": 10,
    "start_time": "2021-08-14T07:55:44.118Z"
   },
   {
    "duration": 58,
    "start_time": "2021-08-14T07:55:44.131Z"
   },
   {
    "duration": 22,
    "start_time": "2021-08-14T07:55:44.191Z"
   },
   {
    "duration": 21,
    "start_time": "2021-08-14T07:55:44.217Z"
   },
   {
    "duration": 6,
    "start_time": "2021-08-14T07:55:44.241Z"
   },
   {
    "duration": 60,
    "start_time": "2021-08-14T07:55:44.249Z"
   },
   {
    "duration": 11,
    "start_time": "2021-08-14T07:55:44.311Z"
   },
   {
    "duration": 12,
    "start_time": "2021-08-14T07:55:44.325Z"
   },
   {
    "duration": 56,
    "start_time": "2021-08-14T07:55:44.339Z"
   },
   {
    "duration": 10,
    "start_time": "2021-08-14T07:55:44.398Z"
   },
   {
    "duration": 18,
    "start_time": "2021-08-14T07:55:44.411Z"
   },
   {
    "duration": 9,
    "start_time": "2021-08-14T07:55:44.431Z"
   },
   {
    "duration": 124,
    "start_time": "2021-08-14T07:55:44.442Z"
   },
   {
    "duration": 23,
    "start_time": "2021-08-14T07:55:44.569Z"
   },
   {
    "duration": 10,
    "start_time": "2021-08-14T07:55:44.595Z"
   },
   {
    "duration": 8,
    "start_time": "2021-08-14T07:55:44.607Z"
   },
   {
    "duration": 23,
    "start_time": "2021-08-14T07:55:44.617Z"
   },
   {
    "duration": 63,
    "start_time": "2021-08-14T07:55:44.642Z"
   },
   {
    "duration": 10,
    "start_time": "2021-08-14T07:55:44.710Z"
   },
   {
    "duration": 24,
    "start_time": "2021-08-14T07:55:44.723Z"
   },
   {
    "duration": 59,
    "start_time": "2021-08-14T07:55:44.750Z"
   },
   {
    "duration": 73,
    "start_time": "2021-08-14T07:55:44.812Z"
   },
   {
    "duration": 8360,
    "start_time": "2021-08-14T07:55:44.888Z"
   },
   {
    "duration": 4,
    "start_time": "2021-08-14T07:55:53.250Z"
   },
   {
    "duration": 3677,
    "start_time": "2021-08-14T07:55:53.257Z"
   },
   {
    "duration": 18,
    "start_time": "2021-08-14T07:55:56.936Z"
   },
   {
    "duration": 37,
    "start_time": "2021-08-14T07:55:56.956Z"
   },
   {
    "duration": 15,
    "start_time": "2021-08-14T07:55:56.995Z"
   },
   {
    "duration": 8,
    "start_time": "2021-08-14T07:55:57.013Z"
   },
   {
    "duration": 12,
    "start_time": "2021-08-14T07:55:57.024Z"
   },
   {
    "duration": 57,
    "start_time": "2021-08-14T07:55:57.038Z"
   },
   {
    "duration": 41,
    "start_time": "2021-08-14T07:55:57.098Z"
   },
   {
    "duration": 8,
    "start_time": "2021-08-14T07:58:05.282Z"
   },
   {
    "duration": 8,
    "start_time": "2021-08-14T07:58:12.723Z"
   },
   {
    "duration": 12,
    "start_time": "2021-08-14T07:58:54.010Z"
   },
   {
    "duration": 65,
    "start_time": "2021-08-14T07:59:09.103Z"
   },
   {
    "duration": 18,
    "start_time": "2021-08-14T07:59:09.171Z"
   },
   {
    "duration": 26,
    "start_time": "2021-08-14T07:59:09.192Z"
   },
   {
    "duration": 15,
    "start_time": "2021-08-14T07:59:09.221Z"
   },
   {
    "duration": 16,
    "start_time": "2021-08-14T07:59:09.239Z"
   },
   {
    "duration": 30,
    "start_time": "2021-08-14T07:59:09.258Z"
   },
   {
    "duration": 31,
    "start_time": "2021-08-14T07:59:09.291Z"
   },
   {
    "duration": 12,
    "start_time": "2021-08-14T07:59:09.326Z"
   },
   {
    "duration": 59,
    "start_time": "2021-08-14T07:59:09.341Z"
   },
   {
    "duration": 4,
    "start_time": "2021-08-14T07:59:09.403Z"
   },
   {
    "duration": 49,
    "start_time": "2021-08-14T07:59:09.409Z"
   },
   {
    "duration": 11,
    "start_time": "2021-08-14T07:59:09.460Z"
   },
   {
    "duration": 20,
    "start_time": "2021-08-14T07:59:09.474Z"
   },
   {
    "duration": 42,
    "start_time": "2021-08-14T07:59:09.496Z"
   },
   {
    "duration": 24,
    "start_time": "2021-08-14T07:59:09.540Z"
   },
   {
    "duration": 31,
    "start_time": "2021-08-14T07:59:09.566Z"
   },
   {
    "duration": 10,
    "start_time": "2021-08-14T07:59:09.599Z"
   },
   {
    "duration": 99,
    "start_time": "2021-08-14T07:59:09.611Z"
   },
   {
    "duration": 11,
    "start_time": "2021-08-14T07:59:09.713Z"
   },
   {
    "duration": 13,
    "start_time": "2021-08-14T07:59:09.726Z"
   },
   {
    "duration": 30,
    "start_time": "2021-08-14T07:59:09.741Z"
   },
   {
    "duration": 43,
    "start_time": "2021-08-14T07:59:09.773Z"
   },
   {
    "duration": 30,
    "start_time": "2021-08-14T07:59:09.820Z"
   },
   {
    "duration": 20,
    "start_time": "2021-08-14T07:59:09.853Z"
   },
   {
    "duration": 40,
    "start_time": "2021-08-14T07:59:09.875Z"
   },
   {
    "duration": 35,
    "start_time": "2021-08-14T07:59:09.917Z"
   },
   {
    "duration": 65,
    "start_time": "2021-08-14T07:59:09.954Z"
   },
   {
    "duration": 8051,
    "start_time": "2021-08-14T07:59:10.022Z"
   },
   {
    "duration": 4,
    "start_time": "2021-08-14T07:59:18.084Z"
   },
   {
    "duration": 3727,
    "start_time": "2021-08-14T07:59:18.090Z"
   },
   {
    "duration": 21,
    "start_time": "2021-08-14T07:59:21.820Z"
   },
   {
    "duration": 43,
    "start_time": "2021-08-14T07:59:21.844Z"
   },
   {
    "duration": 18,
    "start_time": "2021-08-14T07:59:21.889Z"
   },
   {
    "duration": 12,
    "start_time": "2021-08-14T07:59:21.909Z"
   },
   {
    "duration": 15,
    "start_time": "2021-08-14T07:59:21.923Z"
   },
   {
    "duration": 56,
    "start_time": "2021-08-14T07:59:21.941Z"
   },
   {
    "duration": 35,
    "start_time": "2021-08-14T07:59:21.999Z"
   },
   {
    "duration": 126,
    "start_time": "2021-08-14T08:04:47.805Z"
   },
   {
    "duration": 1832,
    "start_time": "2021-08-14T08:04:53.124Z"
   },
   {
    "duration": 16,
    "start_time": "2021-08-14T08:05:45.853Z"
   },
   {
    "duration": 23,
    "start_time": "2021-08-14T08:07:19.214Z"
   },
   {
    "duration": 21,
    "start_time": "2021-08-14T08:07:29.965Z"
   },
   {
    "duration": 64,
    "start_time": "2021-08-14T08:10:17.162Z"
   },
   {
    "duration": 18,
    "start_time": "2021-08-14T08:10:17.228Z"
   },
   {
    "duration": 36,
    "start_time": "2021-08-14T08:10:17.249Z"
   },
   {
    "duration": 12,
    "start_time": "2021-08-14T08:10:17.288Z"
   },
   {
    "duration": 418,
    "start_time": "2021-08-14T08:10:17.303Z"
   },
   {
    "duration": 56,
    "start_time": "2021-08-14T08:10:17.668Z"
   },
   {
    "duration": 51,
    "start_time": "2021-08-14T08:10:17.674Z"
   },
   {
    "duration": 43,
    "start_time": "2021-08-14T08:10:17.684Z"
   },
   {
    "duration": 40,
    "start_time": "2021-08-14T08:10:17.688Z"
   },
   {
    "duration": 32,
    "start_time": "2021-08-14T08:10:17.697Z"
   },
   {
    "duration": 26,
    "start_time": "2021-08-14T08:10:17.705Z"
   },
   {
    "duration": -3,
    "start_time": "2021-08-14T08:10:17.735Z"
   },
   {
    "duration": -7,
    "start_time": "2021-08-14T08:10:17.740Z"
   },
   {
    "duration": -16,
    "start_time": "2021-08-14T08:10:17.750Z"
   },
   {
    "duration": -20,
    "start_time": "2021-08-14T08:10:17.756Z"
   },
   {
    "duration": -29,
    "start_time": "2021-08-14T08:10:17.766Z"
   },
   {
    "duration": -32,
    "start_time": "2021-08-14T08:10:17.771Z"
   },
   {
    "duration": -41,
    "start_time": "2021-08-14T08:10:17.781Z"
   },
   {
    "duration": -44,
    "start_time": "2021-08-14T08:10:17.785Z"
   },
   {
    "duration": -54,
    "start_time": "2021-08-14T08:10:17.796Z"
   },
   {
    "duration": -57,
    "start_time": "2021-08-14T08:10:17.800Z"
   },
   {
    "duration": -61,
    "start_time": "2021-08-14T08:10:17.806Z"
   },
   {
    "duration": -68,
    "start_time": "2021-08-14T08:10:17.815Z"
   },
   {
    "duration": -73,
    "start_time": "2021-08-14T08:10:17.822Z"
   },
   {
    "duration": -81,
    "start_time": "2021-08-14T08:10:17.832Z"
   },
   {
    "duration": -82,
    "start_time": "2021-08-14T08:10:17.836Z"
   },
   {
    "duration": -89,
    "start_time": "2021-08-14T08:10:17.845Z"
   },
   {
    "duration": -92,
    "start_time": "2021-08-14T08:10:17.850Z"
   },
   {
    "duration": -71,
    "start_time": "2021-08-14T08:10:17.856Z"
   },
   {
    "duration": -79,
    "start_time": "2021-08-14T08:10:17.866Z"
   },
   {
    "duration": -82,
    "start_time": "2021-08-14T08:10:17.871Z"
   },
   {
    "duration": -90,
    "start_time": "2021-08-14T08:10:17.881Z"
   },
   {
    "duration": -93,
    "start_time": "2021-08-14T08:10:17.885Z"
   },
   {
    "duration": -96,
    "start_time": "2021-08-14T08:10:17.890Z"
   },
   {
    "duration": -104,
    "start_time": "2021-08-14T08:10:17.899Z"
   },
   {
    "duration": 11,
    "start_time": "2021-08-14T08:11:38.224Z"
   },
   {
    "duration": 63,
    "start_time": "2021-08-14T08:11:43.842Z"
   },
   {
    "duration": 18,
    "start_time": "2021-08-14T08:11:43.909Z"
   },
   {
    "duration": 18,
    "start_time": "2021-08-14T08:11:43.930Z"
   },
   {
    "duration": 15,
    "start_time": "2021-08-14T08:11:44.811Z"
   },
   {
    "duration": 27,
    "start_time": "2021-08-14T08:11:44.830Z"
   },
   {
    "duration": 13,
    "start_time": "2021-08-14T08:11:44.861Z"
   },
   {
    "duration": 13,
    "start_time": "2021-08-14T08:11:44.886Z"
   },
   {
    "duration": 25,
    "start_time": "2021-08-14T08:11:45.301Z"
   },
   {
    "duration": 432,
    "start_time": "2021-08-14T08:11:45.329Z"
   },
   {
    "duration": -70,
    "start_time": "2021-08-14T08:11:45.835Z"
   },
   {
    "duration": -73,
    "start_time": "2021-08-14T08:11:45.840Z"
   },
   {
    "duration": -77,
    "start_time": "2021-08-14T08:11:45.846Z"
   },
   {
    "duration": -79,
    "start_time": "2021-08-14T08:11:45.851Z"
   },
   {
    "duration": -87,
    "start_time": "2021-08-14T08:11:45.861Z"
   },
   {
    "duration": -89,
    "start_time": "2021-08-14T08:11:45.865Z"
   },
   {
    "duration": 86,
    "start_time": "2021-08-14T08:11:46.159Z"
   },
   {
    "duration": 13,
    "start_time": "2021-08-14T08:11:46.248Z"
   },
   {
    "duration": 29,
    "start_time": "2021-08-14T08:11:46.265Z"
   },
   {
    "duration": 9,
    "start_time": "2021-08-14T08:11:46.298Z"
   },
   {
    "duration": 22,
    "start_time": "2021-08-14T08:11:46.399Z"
   },
   {
    "duration": 32,
    "start_time": "2021-08-14T08:11:46.425Z"
   },
   {
    "duration": 27,
    "start_time": "2021-08-14T08:11:46.461Z"
   },
   {
    "duration": 28,
    "start_time": "2021-08-14T08:11:46.491Z"
   },
   {
    "duration": 30,
    "start_time": "2021-08-14T08:11:46.522Z"
   },
   {
    "duration": 53,
    "start_time": "2021-08-14T08:11:47.044Z"
   },
   {
    "duration": 7961,
    "start_time": "2021-08-14T08:11:48.085Z"
   },
   {
    "duration": 4,
    "start_time": "2021-08-14T08:11:56.049Z"
   },
   {
    "duration": 3708,
    "start_time": "2021-08-14T08:11:56.056Z"
   },
   {
    "duration": 40,
    "start_time": "2021-08-14T08:11:59.767Z"
   },
   {
    "duration": 17,
    "start_time": "2021-08-14T08:11:59.809Z"
   },
   {
    "duration": 17,
    "start_time": "2021-08-14T08:11:59.829Z"
   },
   {
    "duration": 41,
    "start_time": "2021-08-14T08:11:59.849Z"
   },
   {
    "duration": 12,
    "start_time": "2021-08-14T08:11:59.895Z"
   },
   {
    "duration": 23,
    "start_time": "2021-08-14T08:11:59.910Z"
   },
   {
    "duration": 75,
    "start_time": "2021-08-14T08:11:59.936Z"
   },
   {
    "duration": 65,
    "start_time": "2021-08-14T08:15:25.225Z"
   },
   {
    "duration": 19,
    "start_time": "2021-08-14T08:15:25.293Z"
   },
   {
    "duration": 15,
    "start_time": "2021-08-14T08:15:25.315Z"
   },
   {
    "duration": 12,
    "start_time": "2021-08-14T08:15:25.337Z"
   },
   {
    "duration": 58,
    "start_time": "2021-08-14T08:15:25.352Z"
   },
   {
    "duration": 11,
    "start_time": "2021-08-14T08:15:25.414Z"
   },
   {
    "duration": 14,
    "start_time": "2021-08-14T08:15:25.427Z"
   },
   {
    "duration": 22,
    "start_time": "2021-08-14T08:15:25.486Z"
   },
   {
    "duration": 13,
    "start_time": "2021-08-14T08:15:25.511Z"
   },
   {
    "duration": 12,
    "start_time": "2021-08-14T08:15:25.528Z"
   },
   {
    "duration": 64,
    "start_time": "2021-08-14T08:15:25.543Z"
   },
   {
    "duration": 393,
    "start_time": "2021-08-14T08:15:25.609Z"
   },
   {
    "duration": -53,
    "start_time": "2021-08-14T08:15:26.058Z"
   },
   {
    "duration": -55,
    "start_time": "2021-08-14T08:15:26.062Z"
   },
   {
    "duration": -58,
    "start_time": "2021-08-14T08:15:26.067Z"
   },
   {
    "duration": -66,
    "start_time": "2021-08-14T08:15:26.076Z"
   },
   {
    "duration": -69,
    "start_time": "2021-08-14T08:15:26.080Z"
   },
   {
    "duration": -77,
    "start_time": "2021-08-14T08:15:26.090Z"
   },
   {
    "duration": -80,
    "start_time": "2021-08-14T08:15:26.094Z"
   },
   {
    "duration": -83,
    "start_time": "2021-08-14T08:15:26.099Z"
   },
   {
    "duration": -91,
    "start_time": "2021-08-14T08:15:26.108Z"
   },
   {
    "duration": -95,
    "start_time": "2021-08-14T08:15:26.113Z"
   },
   {
    "duration": -97,
    "start_time": "2021-08-14T08:15:26.117Z"
   },
   {
    "duration": -105,
    "start_time": "2021-08-14T08:15:26.126Z"
   },
   {
    "duration": -109,
    "start_time": "2021-08-14T08:15:26.132Z"
   },
   {
    "duration": -116,
    "start_time": "2021-08-14T08:15:26.141Z"
   },
   {
    "duration": -118,
    "start_time": "2021-08-14T08:15:26.144Z"
   },
   {
    "duration": -121,
    "start_time": "2021-08-14T08:15:26.149Z"
   },
   {
    "duration": -127,
    "start_time": "2021-08-14T08:15:26.157Z"
   },
   {
    "duration": -129,
    "start_time": "2021-08-14T08:15:26.161Z"
   },
   {
    "duration": -133,
    "start_time": "2021-08-14T08:15:26.166Z"
   },
   {
    "duration": -142,
    "start_time": "2021-08-14T08:15:26.176Z"
   },
   {
    "duration": -144,
    "start_time": "2021-08-14T08:15:26.180Z"
   },
   {
    "duration": -149,
    "start_time": "2021-08-14T08:15:26.188Z"
   },
   {
    "duration": 418,
    "start_time": "2021-08-14T08:15:26.085Z"
   },
   {
    "duration": 21,
    "start_time": "2021-08-14T08:16:37.997Z"
   },
   {
    "duration": 11,
    "start_time": "2021-08-14T08:25:46.695Z"
   },
   {
    "duration": 9,
    "start_time": "2021-08-14T08:26:14.625Z"
   },
   {
    "duration": 475,
    "start_time": "2021-08-14T08:28:44.562Z"
   },
   {
    "duration": 423,
    "start_time": "2021-08-14T08:29:04.454Z"
   },
   {
    "duration": 45,
    "start_time": "2021-08-14T08:29:23.464Z"
   },
   {
    "duration": 421,
    "start_time": "2021-08-14T08:30:30.855Z"
   },
   {
    "duration": 425,
    "start_time": "2021-08-14T08:30:44.301Z"
   },
   {
    "duration": 61,
    "start_time": "2021-08-14T08:30:53.504Z"
   },
   {
    "duration": 44,
    "start_time": "2021-08-14T08:31:10.293Z"
   },
   {
    "duration": 27,
    "start_time": "2021-08-14T08:37:43.939Z"
   },
   {
    "duration": 127,
    "start_time": "2021-08-14T08:37:58.428Z"
   },
   {
    "duration": 38,
    "start_time": "2021-08-14T08:38:02.349Z"
   },
   {
    "duration": 50,
    "start_time": "2021-08-14T08:39:12.566Z"
   },
   {
    "duration": 63,
    "start_time": "2021-08-14T08:39:33.999Z"
   },
   {
    "duration": 87,
    "start_time": "2021-08-14T08:39:52.960Z"
   },
   {
    "duration": 67,
    "start_time": "2021-08-14T08:39:57.668Z"
   },
   {
    "duration": 18,
    "start_time": "2021-08-14T08:39:57.738Z"
   },
   {
    "duration": 34,
    "start_time": "2021-08-14T08:39:57.760Z"
   },
   {
    "duration": 12,
    "start_time": "2021-08-14T08:39:57.797Z"
   },
   {
    "duration": 26,
    "start_time": "2021-08-14T08:39:57.811Z"
   },
   {
    "duration": 52,
    "start_time": "2021-08-14T08:39:57.839Z"
   },
   {
    "duration": 10,
    "start_time": "2021-08-14T08:39:57.894Z"
   },
   {
    "duration": 21,
    "start_time": "2021-08-14T08:39:57.907Z"
   },
   {
    "duration": 10,
    "start_time": "2021-08-14T08:39:57.932Z"
   },
   {
    "duration": 12,
    "start_time": "2021-08-14T08:39:57.987Z"
   },
   {
    "duration": 24,
    "start_time": "2021-08-14T08:39:58.002Z"
   },
   {
    "duration": 120,
    "start_time": "2021-08-14T08:39:58.029Z"
   },
   {
    "duration": 4,
    "start_time": "2021-08-14T08:39:58.152Z"
   },
   {
    "duration": 28,
    "start_time": "2021-08-14T08:39:58.159Z"
   },
   {
    "duration": 24,
    "start_time": "2021-08-14T08:39:58.190Z"
   },
   {
    "duration": 10,
    "start_time": "2021-08-14T08:39:58.217Z"
   },
   {
    "duration": 113,
    "start_time": "2021-08-14T08:39:58.229Z"
   },
   {
    "duration": 12,
    "start_time": "2021-08-14T08:39:58.344Z"
   },
   {
    "duration": 33,
    "start_time": "2021-08-14T08:39:58.358Z"
   },
   {
    "duration": 18,
    "start_time": "2021-08-14T08:39:58.394Z"
   },
   {
    "duration": 38,
    "start_time": "2021-08-14T08:39:58.415Z"
   },
   {
    "duration": 41,
    "start_time": "2021-08-14T08:39:58.456Z"
   },
   {
    "duration": 15,
    "start_time": "2021-08-14T08:39:58.500Z"
   },
   {
    "duration": 50,
    "start_time": "2021-08-14T08:39:58.518Z"
   },
   {
    "duration": 42,
    "start_time": "2021-08-14T08:39:58.570Z"
   },
   {
    "duration": 55,
    "start_time": "2021-08-14T08:39:58.615Z"
   },
   {
    "duration": 6182,
    "start_time": "2021-08-14T08:39:58.689Z"
   },
   {
    "duration": 74,
    "start_time": "2021-08-14T08:40:04.800Z"
   },
   {
    "duration": 68,
    "start_time": "2021-08-14T08:40:04.808Z"
   },
   {
    "duration": 65,
    "start_time": "2021-08-14T08:40:04.812Z"
   },
   {
    "duration": 62,
    "start_time": "2021-08-14T08:40:04.817Z"
   },
   {
    "duration": 54,
    "start_time": "2021-08-14T08:40:04.826Z"
   },
   {
    "duration": 50,
    "start_time": "2021-08-14T08:40:04.831Z"
   },
   {
    "duration": 44,
    "start_time": "2021-08-14T08:40:04.839Z"
   },
   {
    "duration": 41,
    "start_time": "2021-08-14T08:40:04.844Z"
   },
   {
    "duration": 40,
    "start_time": "2021-08-14T08:40:04.848Z"
   },
   {
    "duration": 67,
    "start_time": "2021-08-14T08:40:30.539Z"
   },
   {
    "duration": 20,
    "start_time": "2021-08-14T08:40:30.609Z"
   },
   {
    "duration": 27,
    "start_time": "2021-08-14T08:40:30.632Z"
   },
   {
    "duration": 33,
    "start_time": "2021-08-14T08:40:30.662Z"
   },
   {
    "duration": 27,
    "start_time": "2021-08-14T08:40:30.698Z"
   },
   {
    "duration": 13,
    "start_time": "2021-08-14T08:40:30.727Z"
   },
   {
    "duration": 49,
    "start_time": "2021-08-14T08:40:30.742Z"
   },
   {
    "duration": 22,
    "start_time": "2021-08-14T08:40:30.795Z"
   },
   {
    "duration": 13,
    "start_time": "2021-08-14T08:40:30.821Z"
   },
   {
    "duration": 55,
    "start_time": "2021-08-14T08:40:30.837Z"
   },
   {
    "duration": 27,
    "start_time": "2021-08-14T08:40:30.896Z"
   },
   {
    "duration": 73,
    "start_time": "2021-08-14T08:40:30.925Z"
   },
   {
    "duration": 5,
    "start_time": "2021-08-14T08:40:31.001Z"
   },
   {
    "duration": 23,
    "start_time": "2021-08-14T08:40:31.008Z"
   },
   {
    "duration": 28,
    "start_time": "2021-08-14T08:40:31.033Z"
   },
   {
    "duration": 32,
    "start_time": "2021-08-14T08:40:31.064Z"
   },
   {
    "duration": 145,
    "start_time": "2021-08-14T08:40:31.099Z"
   },
   {
    "duration": 16,
    "start_time": "2021-08-14T08:40:31.247Z"
   },
   {
    "duration": 32,
    "start_time": "2021-08-14T08:40:31.266Z"
   },
   {
    "duration": 27,
    "start_time": "2021-08-14T08:40:31.302Z"
   },
   {
    "duration": 42,
    "start_time": "2021-08-14T08:40:31.332Z"
   },
   {
    "duration": 54,
    "start_time": "2021-08-14T08:40:31.377Z"
   },
   {
    "duration": 14,
    "start_time": "2021-08-14T08:40:31.438Z"
   },
   {
    "duration": 75,
    "start_time": "2021-08-14T08:40:31.455Z"
   },
   {
    "duration": 44,
    "start_time": "2021-08-14T08:40:31.533Z"
   },
   {
    "duration": 54,
    "start_time": "2021-08-14T08:40:31.579Z"
   },
   {
    "duration": 8305,
    "start_time": "2021-08-14T08:40:31.635Z"
   },
   {
    "duration": 5,
    "start_time": "2021-08-14T08:40:39.943Z"
   },
   {
    "duration": 3788,
    "start_time": "2021-08-14T08:40:39.951Z"
   },
   {
    "duration": 23,
    "start_time": "2021-08-14T08:40:43.742Z"
   },
   {
    "duration": 35,
    "start_time": "2021-08-14T08:40:43.767Z"
   },
   {
    "duration": 19,
    "start_time": "2021-08-14T08:40:43.804Z"
   },
   {
    "duration": 10,
    "start_time": "2021-08-14T08:40:43.825Z"
   },
   {
    "duration": 50,
    "start_time": "2021-08-14T08:40:43.838Z"
   },
   {
    "duration": 29,
    "start_time": "2021-08-14T08:40:43.890Z"
   },
   {
    "duration": 79,
    "start_time": "2021-08-14T08:40:43.922Z"
   },
   {
    "duration": 11,
    "start_time": "2021-08-14T09:18:31.536Z"
   },
   {
    "duration": 396,
    "start_time": "2021-08-14T09:23:54.829Z"
   },
   {
    "duration": 625,
    "start_time": "2021-08-14T09:25:14.087Z"
   },
   {
    "duration": 382,
    "start_time": "2021-08-14T09:25:48.980Z"
   },
   {
    "duration": 390,
    "start_time": "2021-08-14T09:28:26.379Z"
   },
   {
    "duration": 391,
    "start_time": "2021-08-14T09:28:58.859Z"
   },
   {
    "duration": 24,
    "start_time": "2021-08-14T09:33:17.535Z"
   },
   {
    "duration": 32,
    "start_time": "2021-08-14T09:33:39.466Z"
   },
   {
    "duration": 69,
    "start_time": "2021-08-14T09:33:57.462Z"
   },
   {
    "duration": 20,
    "start_time": "2021-08-14T09:33:57.534Z"
   },
   {
    "duration": 40,
    "start_time": "2021-08-14T09:33:57.558Z"
   },
   {
    "duration": 15,
    "start_time": "2021-08-14T09:33:57.602Z"
   },
   {
    "duration": 67,
    "start_time": "2021-08-14T09:33:57.620Z"
   },
   {
    "duration": 14,
    "start_time": "2021-08-14T09:33:57.691Z"
   },
   {
    "duration": 12,
    "start_time": "2021-08-14T09:33:57.708Z"
   },
   {
    "duration": 72,
    "start_time": "2021-08-14T09:33:57.726Z"
   },
   {
    "duration": 12,
    "start_time": "2021-08-14T09:33:57.802Z"
   },
   {
    "duration": 17,
    "start_time": "2021-08-14T09:33:57.817Z"
   },
   {
    "duration": 54,
    "start_time": "2021-08-14T09:33:57.838Z"
   },
   {
    "duration": 12,
    "start_time": "2021-08-14T09:33:57.895Z"
   },
   {
    "duration": 36,
    "start_time": "2021-08-14T09:33:57.910Z"
   },
   {
    "duration": 48,
    "start_time": "2021-08-14T09:33:57.948Z"
   },
   {
    "duration": 36,
    "start_time": "2021-08-14T09:33:57.998Z"
   },
   {
    "duration": 4,
    "start_time": "2021-08-14T09:33:58.037Z"
   },
   {
    "duration": 46,
    "start_time": "2021-08-14T09:33:58.044Z"
   },
   {
    "duration": 15,
    "start_time": "2021-08-14T09:33:58.093Z"
   },
   {
    "duration": 21,
    "start_time": "2021-08-14T09:33:58.110Z"
   },
   {
    "duration": 14,
    "start_time": "2021-08-14T09:33:58.134Z"
   },
   {
    "duration": 34,
    "start_time": "2021-08-14T09:33:58.151Z"
   },
   {
    "duration": 21,
    "start_time": "2021-08-14T09:33:58.188Z"
   },
   {
    "duration": 30,
    "start_time": "2021-08-14T09:33:58.215Z"
   },
   {
    "duration": 41,
    "start_time": "2021-08-14T09:33:58.248Z"
   },
   {
    "duration": 27,
    "start_time": "2021-08-14T09:33:58.292Z"
   },
   {
    "duration": 31,
    "start_time": "2021-08-14T09:33:58.322Z"
   },
   {
    "duration": 76,
    "start_time": "2021-08-14T09:33:58.355Z"
   },
   {
    "duration": 8020,
    "start_time": "2021-08-14T09:33:58.434Z"
   },
   {
    "duration": 4,
    "start_time": "2021-08-14T09:34:06.457Z"
   },
   {
    "duration": 3737,
    "start_time": "2021-08-14T09:34:06.464Z"
   },
   {
    "duration": 22,
    "start_time": "2021-08-14T09:34:10.203Z"
   },
   {
    "duration": 17,
    "start_time": "2021-08-14T09:34:10.228Z"
   },
   {
    "duration": 48,
    "start_time": "2021-08-14T09:34:10.248Z"
   },
   {
    "duration": 9,
    "start_time": "2021-08-14T09:34:10.299Z"
   },
   {
    "duration": 15,
    "start_time": "2021-08-14T09:34:10.311Z"
   },
   {
    "duration": 58,
    "start_time": "2021-08-14T09:34:10.328Z"
   },
   {
    "duration": 34,
    "start_time": "2021-08-14T09:34:10.389Z"
   },
   {
    "duration": 14,
    "start_time": "2021-08-14T09:40:58.449Z"
   },
   {
    "duration": 13,
    "start_time": "2021-08-14T09:42:57.962Z"
   },
   {
    "duration": 39,
    "start_time": "2021-08-14T09:44:52.136Z"
   },
   {
    "duration": 37,
    "start_time": "2021-08-14T09:45:45.186Z"
   },
   {
    "duration": 382,
    "start_time": "2021-08-14T09:45:58.712Z"
   },
   {
    "duration": 377,
    "start_time": "2021-08-14T09:46:03.384Z"
   },
   {
    "duration": 16,
    "start_time": "2021-08-14T09:46:08.761Z"
   },
   {
    "duration": 34,
    "start_time": "2021-08-14T09:46:41.617Z"
   },
   {
    "duration": 17,
    "start_time": "2021-08-14T09:46:42.913Z"
   },
   {
    "duration": 375,
    "start_time": "2021-08-14T09:48:55.430Z"
   },
   {
    "duration": 6,
    "start_time": "2021-08-14T09:49:11.778Z"
   },
   {
    "duration": 7,
    "start_time": "2021-08-14T09:49:17.959Z"
   },
   {
    "duration": 7,
    "start_time": "2021-08-14T09:50:12.243Z"
   },
   {
    "duration": 388,
    "start_time": "2021-08-14T09:51:11.703Z"
   },
   {
    "duration": 402,
    "start_time": "2021-08-14T09:51:18.215Z"
   },
   {
    "duration": 16,
    "start_time": "2021-08-14T09:51:33.215Z"
   },
   {
    "duration": 17,
    "start_time": "2021-08-14T09:53:32.531Z"
   },
   {
    "duration": 13,
    "start_time": "2021-08-14T09:53:39.373Z"
   },
   {
    "duration": 546,
    "start_time": "2021-08-14T09:54:25.322Z"
   },
   {
    "duration": 7,
    "start_time": "2021-08-14T09:54:30.934Z"
   },
   {
    "duration": 30,
    "start_time": "2021-08-14T09:55:35.561Z"
   },
   {
    "duration": 67,
    "start_time": "2021-08-14T09:55:40.065Z"
   },
   {
    "duration": 121,
    "start_time": "2021-08-14T10:10:44.194Z"
   },
   {
    "duration": 17,
    "start_time": "2021-08-14T10:12:01.675Z"
   },
   {
    "duration": 6,
    "start_time": "2021-08-14T10:28:39.889Z"
   },
   {
    "duration": 67,
    "start_time": "2021-08-14T10:28:44.720Z"
   },
   {
    "duration": 19,
    "start_time": "2021-08-14T10:28:44.790Z"
   },
   {
    "duration": 16,
    "start_time": "2021-08-14T10:28:44.813Z"
   },
   {
    "duration": 13,
    "start_time": "2021-08-14T10:28:44.832Z"
   },
   {
    "duration": 62,
    "start_time": "2021-08-14T10:28:44.848Z"
   },
   {
    "duration": 13,
    "start_time": "2021-08-14T10:28:44.913Z"
   },
   {
    "duration": 56,
    "start_time": "2021-08-14T10:28:44.929Z"
   },
   {
    "duration": 22,
    "start_time": "2021-08-14T10:28:44.989Z"
   },
   {
    "duration": 15,
    "start_time": "2021-08-14T10:28:45.016Z"
   },
   {
    "duration": 55,
    "start_time": "2021-08-14T10:28:45.034Z"
   },
   {
    "duration": 10,
    "start_time": "2021-08-14T10:28:45.092Z"
   },
   {
    "duration": 12,
    "start_time": "2021-08-14T10:28:45.106Z"
   },
   {
    "duration": 75,
    "start_time": "2021-08-14T10:28:45.121Z"
   },
   {
    "duration": 25,
    "start_time": "2021-08-14T10:28:45.198Z"
   },
   {
    "duration": 60,
    "start_time": "2021-08-14T10:28:45.225Z"
   },
   {
    "duration": 5,
    "start_time": "2021-08-14T10:28:45.289Z"
   },
   {
    "duration": 11,
    "start_time": "2021-08-14T10:28:45.296Z"
   },
   {
    "duration": 28,
    "start_time": "2021-08-14T10:28:45.310Z"
   },
   {
    "duration": 47,
    "start_time": "2021-08-14T10:28:45.341Z"
   },
   {
    "duration": 31,
    "start_time": "2021-08-14T10:28:45.390Z"
   },
   {
    "duration": 14,
    "start_time": "2021-08-14T10:28:45.424Z"
   },
   {
    "duration": 47,
    "start_time": "2021-08-14T10:28:45.440Z"
   },
   {
    "duration": 15,
    "start_time": "2021-08-14T10:28:45.490Z"
   },
   {
    "duration": 14,
    "start_time": "2021-08-14T10:28:45.508Z"
   },
   {
    "duration": 8,
    "start_time": "2021-08-14T10:28:45.525Z"
   },
   {
    "duration": 17,
    "start_time": "2021-08-14T10:28:45.535Z"
   },
   {
    "duration": 25,
    "start_time": "2021-08-14T10:28:45.590Z"
   },
   {
    "duration": 73,
    "start_time": "2021-08-14T10:28:45.618Z"
   },
   {
    "duration": 11,
    "start_time": "2021-08-14T10:28:45.694Z"
   },
   {
    "duration": 7,
    "start_time": "2021-08-14T10:28:45.708Z"
   },
   {
    "duration": 21,
    "start_time": "2021-08-14T10:28:45.717Z"
   },
   {
    "duration": 70,
    "start_time": "2021-08-14T10:28:45.740Z"
   },
   {
    "duration": 8041,
    "start_time": "2021-08-14T10:28:45.813Z"
   },
   {
    "duration": 4,
    "start_time": "2021-08-14T10:28:53.856Z"
   },
   {
    "duration": 3835,
    "start_time": "2021-08-14T10:28:53.863Z"
   },
   {
    "duration": 23,
    "start_time": "2021-08-14T10:28:57.701Z"
   },
   {
    "duration": 6,
    "start_time": "2021-08-14T10:28:57.726Z"
   },
   {
    "duration": 52,
    "start_time": "2021-08-14T10:28:57.735Z"
   },
   {
    "duration": 17,
    "start_time": "2021-08-14T10:28:57.789Z"
   },
   {
    "duration": 21,
    "start_time": "2021-08-14T10:28:57.809Z"
   },
   {
    "duration": 12,
    "start_time": "2021-08-14T10:28:57.832Z"
   },
   {
    "duration": 49,
    "start_time": "2021-08-14T10:28:57.846Z"
   },
   {
    "duration": 27,
    "start_time": "2021-08-14T10:28:57.898Z"
   },
   {
    "duration": 76,
    "start_time": "2021-08-14T10:28:57.927Z"
   },
   {
    "duration": 6,
    "start_time": "2021-08-14T10:29:24.069Z"
   },
   {
    "duration": 6,
    "start_time": "2021-08-14T10:31:31.092Z"
   },
   {
    "duration": 19,
    "start_time": "2021-08-14T10:32:11.634Z"
   },
   {
    "duration": 66,
    "start_time": "2021-08-14T10:33:42.809Z"
   },
   {
    "duration": 20,
    "start_time": "2021-08-14T10:33:42.878Z"
   },
   {
    "duration": 20,
    "start_time": "2021-08-14T10:33:42.902Z"
   },
   {
    "duration": 14,
    "start_time": "2021-08-14T10:33:42.926Z"
   },
   {
    "duration": 70,
    "start_time": "2021-08-14T10:33:42.942Z"
   },
   {
    "duration": 15,
    "start_time": "2021-08-14T10:33:43.015Z"
   },
   {
    "duration": 57,
    "start_time": "2021-08-14T10:33:43.033Z"
   },
   {
    "duration": 24,
    "start_time": "2021-08-14T10:33:43.093Z"
   },
   {
    "duration": 12,
    "start_time": "2021-08-14T10:33:43.124Z"
   },
   {
    "duration": 13,
    "start_time": "2021-08-14T10:33:43.187Z"
   },
   {
    "duration": 15,
    "start_time": "2021-08-14T10:33:43.203Z"
   },
   {
    "duration": 12,
    "start_time": "2021-08-14T10:33:43.221Z"
   },
   {
    "duration": 76,
    "start_time": "2021-08-14T10:33:43.236Z"
   },
   {
    "duration": 25,
    "start_time": "2021-08-14T10:33:43.315Z"
   },
   {
    "duration": 65,
    "start_time": "2021-08-14T10:33:43.343Z"
   },
   {
    "duration": 6,
    "start_time": "2021-08-14T10:33:43.411Z"
   },
   {
    "duration": 13,
    "start_time": "2021-08-14T10:33:43.420Z"
   },
   {
    "duration": 57,
    "start_time": "2021-08-14T10:33:43.436Z"
   },
   {
    "duration": 17,
    "start_time": "2021-08-14T10:33:43.496Z"
   },
   {
    "duration": 36,
    "start_time": "2021-08-14T10:33:43.516Z"
   },
   {
    "duration": 15,
    "start_time": "2021-08-14T10:33:43.586Z"
   },
   {
    "duration": 16,
    "start_time": "2021-08-14T10:33:43.603Z"
   },
   {
    "duration": 135,
    "start_time": "2021-08-14T10:33:43.621Z"
   },
   {
    "duration": -37,
    "start_time": "2021-08-14T10:33:43.796Z"
   },
   {
    "duration": -63,
    "start_time": "2021-08-14T10:33:43.824Z"
   },
   {
    "duration": -68,
    "start_time": "2021-08-14T10:33:43.830Z"
   },
   {
    "duration": -109,
    "start_time": "2021-08-14T10:33:43.873Z"
   },
   {
    "duration": -114,
    "start_time": "2021-08-14T10:33:43.879Z"
   },
   {
    "duration": -125,
    "start_time": "2021-08-14T10:33:43.891Z"
   },
   {
    "duration": -155,
    "start_time": "2021-08-14T10:33:43.923Z"
   },
   {
    "duration": -160,
    "start_time": "2021-08-14T10:33:43.929Z"
   },
   {
    "duration": -173,
    "start_time": "2021-08-14T10:33:43.944Z"
   },
   {
    "duration": -184,
    "start_time": "2021-08-14T10:33:43.956Z"
   },
   {
    "duration": -187,
    "start_time": "2021-08-14T10:33:43.961Z"
   },
   {
    "duration": -198,
    "start_time": "2021-08-14T10:33:43.973Z"
   },
   {
    "duration": -202,
    "start_time": "2021-08-14T10:33:43.979Z"
   },
   {
    "duration": -211,
    "start_time": "2021-08-14T10:33:43.989Z"
   },
   {
    "duration": -216,
    "start_time": "2021-08-14T10:33:43.995Z"
   },
   {
    "duration": -223,
    "start_time": "2021-08-14T10:33:44.004Z"
   },
   {
    "duration": -227,
    "start_time": "2021-08-14T10:33:44.009Z"
   },
   {
    "duration": -235,
    "start_time": "2021-08-14T10:33:44.019Z"
   },
   {
    "duration": -239,
    "start_time": "2021-08-14T10:33:44.024Z"
   },
   {
    "duration": -257,
    "start_time": "2021-08-14T10:33:44.044Z"
   },
   {
    "duration": -143,
    "start_time": "2021-08-14T10:33:44.056Z"
   },
   {
    "duration": 64,
    "start_time": "2021-08-14T10:34:03.292Z"
   },
   {
    "duration": 17,
    "start_time": "2021-08-14T10:34:03.359Z"
   },
   {
    "duration": 28,
    "start_time": "2021-08-14T10:34:03.386Z"
   },
   {
    "duration": 15,
    "start_time": "2021-08-14T10:34:03.417Z"
   },
   {
    "duration": 50,
    "start_time": "2021-08-14T10:34:03.435Z"
   },
   {
    "duration": 15,
    "start_time": "2021-08-14T10:34:03.488Z"
   },
   {
    "duration": 14,
    "start_time": "2021-08-14T10:34:03.506Z"
   },
   {
    "duration": 67,
    "start_time": "2021-08-14T10:34:03.525Z"
   },
   {
    "duration": 12,
    "start_time": "2021-08-14T10:34:03.595Z"
   },
   {
    "duration": 34,
    "start_time": "2021-08-14T10:34:03.609Z"
   },
   {
    "duration": 26,
    "start_time": "2021-08-14T10:34:03.646Z"
   },
   {
    "duration": 17,
    "start_time": "2021-08-14T10:34:03.675Z"
   },
   {
    "duration": 40,
    "start_time": "2021-08-14T10:34:03.695Z"
   },
   {
    "duration": 46,
    "start_time": "2021-08-14T10:34:03.738Z"
   },
   {
    "duration": 38,
    "start_time": "2021-08-14T10:34:03.787Z"
   },
   {
    "duration": 6,
    "start_time": "2021-08-14T10:34:03.828Z"
   },
   {
    "duration": 13,
    "start_time": "2021-08-14T10:34:03.837Z"
   },
   {
    "duration": 55,
    "start_time": "2021-08-14T10:34:03.853Z"
   },
   {
    "duration": 20,
    "start_time": "2021-08-14T10:34:03.911Z"
   },
   {
    "duration": 73,
    "start_time": "2021-08-14T10:34:03.934Z"
   },
   {
    "duration": 15,
    "start_time": "2021-08-14T10:34:04.010Z"
   },
   {
    "duration": 11,
    "start_time": "2021-08-14T10:34:04.027Z"
   },
   {
    "duration": 49,
    "start_time": "2021-08-14T10:34:04.043Z"
   },
   {
    "duration": 10,
    "start_time": "2021-08-14T10:34:04.095Z"
   },
   {
    "duration": 11,
    "start_time": "2021-08-14T10:34:04.108Z"
   },
   {
    "duration": 17,
    "start_time": "2021-08-14T10:34:04.121Z"
   },
   {
    "duration": 59,
    "start_time": "2021-08-14T10:34:04.140Z"
   },
   {
    "duration": 53,
    "start_time": "2021-08-14T10:34:04.202Z"
   },
   {
    "duration": 31,
    "start_time": "2021-08-14T10:34:04.257Z"
   },
   {
    "duration": 9,
    "start_time": "2021-08-14T10:34:04.290Z"
   },
   {
    "duration": 30,
    "start_time": "2021-08-14T10:34:04.301Z"
   },
   {
    "duration": 56,
    "start_time": "2021-08-14T10:34:04.334Z"
   },
   {
    "duration": 7924,
    "start_time": "2021-08-14T10:34:04.393Z"
   },
   {
    "duration": 4,
    "start_time": "2021-08-14T10:34:12.319Z"
   },
   {
    "duration": 3800,
    "start_time": "2021-08-14T10:34:12.326Z"
   },
   {
    "duration": 23,
    "start_time": "2021-08-14T10:34:16.128Z"
   },
   {
    "duration": 42,
    "start_time": "2021-08-14T10:34:16.154Z"
   },
   {
    "duration": 19,
    "start_time": "2021-08-14T10:34:16.198Z"
   },
   {
    "duration": 18,
    "start_time": "2021-08-14T10:34:16.219Z"
   },
   {
    "duration": 50,
    "start_time": "2021-08-14T10:34:16.239Z"
   },
   {
    "duration": 11,
    "start_time": "2021-08-14T10:34:16.291Z"
   },
   {
    "duration": 17,
    "start_time": "2021-08-14T10:34:16.304Z"
   },
   {
    "duration": 29,
    "start_time": "2021-08-14T10:34:16.323Z"
   },
   {
    "duration": 37,
    "start_time": "2021-08-14T10:34:16.387Z"
   },
   {
    "duration": 17,
    "start_time": "2021-08-14T10:36:42.343Z"
   },
   {
    "duration": 66,
    "start_time": "2021-08-14T10:39:55.881Z"
   },
   {
    "duration": 18,
    "start_time": "2021-08-14T10:39:55.949Z"
   },
   {
    "duration": 30,
    "start_time": "2021-08-14T10:39:55.970Z"
   },
   {
    "duration": 13,
    "start_time": "2021-08-14T10:39:56.003Z"
   },
   {
    "duration": 34,
    "start_time": "2021-08-14T10:39:56.018Z"
   },
   {
    "duration": 39,
    "start_time": "2021-08-14T10:39:56.054Z"
   },
   {
    "duration": 13,
    "start_time": "2021-08-14T10:39:56.095Z"
   },
   {
    "duration": 19,
    "start_time": "2021-08-14T10:39:56.111Z"
   },
   {
    "duration": 14,
    "start_time": "2021-08-14T10:39:56.133Z"
   },
   {
    "duration": 11,
    "start_time": "2021-08-14T10:39:56.185Z"
   },
   {
    "duration": 11,
    "start_time": "2021-08-14T10:39:56.198Z"
   },
   {
    "duration": 11,
    "start_time": "2021-08-14T10:39:56.212Z"
   },
   {
    "duration": 77,
    "start_time": "2021-08-14T10:39:56.226Z"
   },
   {
    "duration": 21,
    "start_time": "2021-08-14T10:39:56.306Z"
   },
   {
    "duration": 70,
    "start_time": "2021-08-14T10:39:56.329Z"
   },
   {
    "duration": 4,
    "start_time": "2021-08-14T10:39:56.402Z"
   },
   {
    "duration": 21,
    "start_time": "2021-08-14T10:39:56.408Z"
   },
   {
    "duration": 31,
    "start_time": "2021-08-14T10:39:56.432Z"
   },
   {
    "duration": 27,
    "start_time": "2021-08-14T10:39:56.465Z"
   },
   {
    "duration": 31,
    "start_time": "2021-08-14T10:39:56.495Z"
   },
   {
    "duration": 13,
    "start_time": "2021-08-14T10:39:56.529Z"
   },
   {
    "duration": 42,
    "start_time": "2021-08-14T10:39:56.544Z"
   },
   {
    "duration": 17,
    "start_time": "2021-08-14T10:39:56.591Z"
   },
   {
    "duration": 25,
    "start_time": "2021-08-14T10:39:56.612Z"
   },
   {
    "duration": 11,
    "start_time": "2021-08-14T10:39:56.640Z"
   },
   {
    "duration": 33,
    "start_time": "2021-08-14T10:39:56.653Z"
   },
   {
    "duration": 24,
    "start_time": "2021-08-14T10:39:56.689Z"
   },
   {
    "duration": 69,
    "start_time": "2021-08-14T10:39:56.716Z"
   },
   {
    "duration": 10,
    "start_time": "2021-08-14T10:39:56.788Z"
   },
   {
    "duration": 8,
    "start_time": "2021-08-14T10:39:56.800Z"
   },
   {
    "duration": 21,
    "start_time": "2021-08-14T10:39:56.811Z"
   },
   {
    "duration": 65,
    "start_time": "2021-08-14T10:39:56.834Z"
   },
   {
    "duration": 8171,
    "start_time": "2021-08-14T10:39:56.901Z"
   },
   {
    "duration": 14,
    "start_time": "2021-08-14T10:40:05.075Z"
   },
   {
    "duration": 3869,
    "start_time": "2021-08-14T10:40:05.092Z"
   },
   {
    "duration": 36,
    "start_time": "2021-08-14T10:40:08.964Z"
   },
   {
    "duration": 18,
    "start_time": "2021-08-14T10:40:09.003Z"
   },
   {
    "duration": 18,
    "start_time": "2021-08-14T10:40:09.024Z"
   },
   {
    "duration": 134,
    "start_time": "2021-08-14T10:40:09.044Z"
   },
   {
    "duration": -94,
    "start_time": "2021-08-14T10:40:09.274Z"
   },
   {
    "duration": -100,
    "start_time": "2021-08-14T10:40:09.282Z"
   },
   {
    "duration": -113,
    "start_time": "2021-08-14T10:40:09.296Z"
   },
   {
    "duration": -131,
    "start_time": "2021-08-14T10:40:09.316Z"
   },
   {
    "duration": -142,
    "start_time": "2021-08-14T10:40:09.328Z"
   },
   {
    "duration": -144,
    "start_time": "2021-08-14T10:40:09.332Z"
   },
   {
    "duration": -152,
    "start_time": "2021-08-14T10:40:09.342Z"
   },
   {
    "duration": 17,
    "start_time": "2021-08-14T10:40:54.071Z"
   },
   {
    "duration": 7,
    "start_time": "2021-08-14T10:41:46.221Z"
   },
   {
    "duration": 18,
    "start_time": "2021-08-14T10:42:13.653Z"
   },
   {
    "duration": 20,
    "start_time": "2021-08-14T10:42:21.004Z"
   },
   {
    "duration": 138,
    "start_time": "2021-08-14T10:43:12.782Z"
   },
   {
    "duration": 20,
    "start_time": "2021-08-14T10:45:28.742Z"
   },
   {
    "duration": 431,
    "start_time": "2021-08-14T11:07:13.904Z"
   },
   {
    "duration": 18,
    "start_time": "2021-08-14T11:07:21.275Z"
   },
   {
    "duration": 16,
    "start_time": "2021-08-14T11:08:34.989Z"
   },
   {
    "duration": 16,
    "start_time": "2021-08-14T11:11:50.895Z"
   },
   {
    "duration": 15,
    "start_time": "2021-08-14T11:18:25.447Z"
   },
   {
    "duration": 125,
    "start_time": "2021-08-14T11:36:14.362Z"
   },
   {
    "duration": 478,
    "start_time": "2021-08-14T11:36:18.469Z"
   },
   {
    "duration": 18,
    "start_time": "2021-08-14T11:36:30.694Z"
   },
   {
    "duration": 482,
    "start_time": "2021-08-14T11:38:14.720Z"
   },
   {
    "duration": 19,
    "start_time": "2021-08-14T11:38:21.866Z"
   },
   {
    "duration": 20,
    "start_time": "2021-08-14T11:40:43.099Z"
   },
   {
    "duration": 18,
    "start_time": "2021-08-14T11:41:44.636Z"
   },
   {
    "duration": 7,
    "start_time": "2021-08-14T11:43:46.880Z"
   },
   {
    "duration": 21,
    "start_time": "2021-08-14T11:44:11.680Z"
   },
   {
    "duration": 44,
    "start_time": "2021-08-14T11:46:20.518Z"
   },
   {
    "duration": 26,
    "start_time": "2021-08-14T11:46:31.269Z"
   },
   {
    "duration": 20,
    "start_time": "2021-08-14T11:48:07.422Z"
   },
   {
    "duration": 393,
    "start_time": "2021-08-14T11:49:39.259Z"
   },
   {
    "duration": 484,
    "start_time": "2021-08-14T11:50:09.232Z"
   },
   {
    "duration": 14,
    "start_time": "2021-08-14T11:51:13.562Z"
   },
   {
    "duration": 120,
    "start_time": "2021-08-14T11:51:41.157Z"
   },
   {
    "duration": 36,
    "start_time": "2021-08-14T11:51:55.009Z"
   },
   {
    "duration": 35,
    "start_time": "2021-08-14T11:52:16.341Z"
   },
   {
    "duration": 64,
    "start_time": "2021-08-14T12:56:37.497Z"
   },
   {
    "duration": 21,
    "start_time": "2021-08-14T12:56:37.564Z"
   },
   {
    "duration": 17,
    "start_time": "2021-08-14T12:56:37.589Z"
   },
   {
    "duration": 13,
    "start_time": "2021-08-14T12:56:37.608Z"
   },
   {
    "duration": 62,
    "start_time": "2021-08-14T12:56:37.623Z"
   },
   {
    "duration": 12,
    "start_time": "2021-08-14T12:56:37.688Z"
   },
   {
    "duration": 11,
    "start_time": "2021-08-14T12:56:37.703Z"
   },
   {
    "duration": 21,
    "start_time": "2021-08-14T12:56:37.717Z"
   },
   {
    "duration": 54,
    "start_time": "2021-08-14T12:56:37.741Z"
   },
   {
    "duration": 16,
    "start_time": "2021-08-14T12:56:37.797Z"
   },
   {
    "duration": 11,
    "start_time": "2021-08-14T12:56:37.816Z"
   },
   {
    "duration": 12,
    "start_time": "2021-08-14T12:56:37.829Z"
   },
   {
    "duration": 33,
    "start_time": "2021-08-14T12:56:37.886Z"
   },
   {
    "duration": 23,
    "start_time": "2021-08-14T12:56:37.921Z"
   },
   {
    "duration": 66,
    "start_time": "2021-08-14T12:56:37.947Z"
   },
   {
    "duration": 5,
    "start_time": "2021-08-14T12:56:38.016Z"
   },
   {
    "duration": 15,
    "start_time": "2021-08-14T12:56:38.024Z"
   },
   {
    "duration": 48,
    "start_time": "2021-08-14T12:56:38.041Z"
   },
   {
    "duration": 22,
    "start_time": "2021-08-14T12:56:38.091Z"
   },
   {
    "duration": 30,
    "start_time": "2021-08-14T12:56:38.115Z"
   },
   {
    "duration": 39,
    "start_time": "2021-08-14T12:56:38.148Z"
   },
   {
    "duration": 7,
    "start_time": "2021-08-14T12:56:38.190Z"
   },
   {
    "duration": 21,
    "start_time": "2021-08-14T12:56:38.202Z"
   },
   {
    "duration": 16,
    "start_time": "2021-08-14T12:56:38.227Z"
   },
   {
    "duration": 10,
    "start_time": "2021-08-14T12:56:38.245Z"
   },
   {
    "duration": 15,
    "start_time": "2021-08-14T12:56:38.286Z"
   },
   {
    "duration": 25,
    "start_time": "2021-08-14T12:56:38.303Z"
   },
   {
    "duration": 88,
    "start_time": "2021-08-14T12:56:38.331Z"
   },
   {
    "duration": 10,
    "start_time": "2021-08-14T12:56:38.422Z"
   },
   {
    "duration": 9,
    "start_time": "2021-08-14T12:56:38.434Z"
   },
   {
    "duration": 45,
    "start_time": "2021-08-14T12:56:38.446Z"
   },
   {
    "duration": 40,
    "start_time": "2021-08-14T12:56:38.494Z"
   },
   {
    "duration": 7997,
    "start_time": "2021-08-14T12:56:38.537Z"
   },
   {
    "duration": 4,
    "start_time": "2021-08-14T12:56:46.537Z"
   },
   {
    "duration": 3764,
    "start_time": "2021-08-14T12:56:46.544Z"
   },
   {
    "duration": 19,
    "start_time": "2021-08-14T12:56:50.311Z"
   },
   {
    "duration": 16,
    "start_time": "2021-08-14T12:56:50.333Z"
   },
   {
    "duration": 44,
    "start_time": "2021-08-14T12:56:50.351Z"
   },
   {
    "duration": 19,
    "start_time": "2021-08-14T12:56:50.398Z"
   },
   {
    "duration": 15,
    "start_time": "2021-08-14T12:56:50.420Z"
   },
   {
    "duration": 49,
    "start_time": "2021-08-14T12:56:50.438Z"
   },
   {
    "duration": 21,
    "start_time": "2021-08-14T12:56:50.489Z"
   },
   {
    "duration": 14,
    "start_time": "2021-08-14T12:56:50.512Z"
   },
   {
    "duration": 13,
    "start_time": "2021-08-14T12:56:50.528Z"
   },
   {
    "duration": 63,
    "start_time": "2021-08-14T12:56:50.544Z"
   },
   {
    "duration": 26,
    "start_time": "2021-08-14T12:56:50.610Z"
   },
   {
    "duration": 19,
    "start_time": "2021-08-14T12:56:50.638Z"
   },
   {
    "duration": 34,
    "start_time": "2021-08-14T12:56:50.686Z"
   },
   {
    "duration": 24,
    "start_time": "2021-08-14T12:59:39.302Z"
   },
   {
    "duration": 441,
    "start_time": "2021-08-14T13:26:30.659Z"
   },
   {
    "duration": 25,
    "start_time": "2021-08-14T13:26:40.975Z"
   },
   {
    "duration": 13,
    "start_time": "2021-08-14T13:27:49.888Z"
   },
   {
    "duration": 26,
    "start_time": "2021-08-14T13:28:22.277Z"
   },
   {
    "duration": 24,
    "start_time": "2021-08-14T13:28:53.177Z"
   },
   {
    "duration": 25,
    "start_time": "2021-08-14T13:29:29.685Z"
   },
   {
    "duration": 25,
    "start_time": "2021-08-14T13:35:44.202Z"
   },
   {
    "duration": 25,
    "start_time": "2021-08-14T13:35:48.691Z"
   },
   {
    "duration": 17,
    "start_time": "2021-08-14T13:52:18.407Z"
   },
   {
    "duration": 1553,
    "start_time": "2021-08-14T14:05:22.738Z"
   },
   {
    "duration": 433,
    "start_time": "2021-08-14T14:05:32.526Z"
   },
   {
    "duration": 48,
    "start_time": "2021-08-14T14:05:46.850Z"
   },
   {
    "duration": 61,
    "start_time": "2021-08-14T14:06:09.579Z"
   },
   {
    "duration": 6,
    "start_time": "2021-08-14T14:07:46.598Z"
   },
   {
    "duration": 18,
    "start_time": "2021-08-14T14:08:11.869Z"
   },
   {
    "duration": 65,
    "start_time": "2021-08-14T14:10:24.729Z"
   },
   {
    "duration": 18,
    "start_time": "2021-08-14T14:10:24.796Z"
   },
   {
    "duration": 26,
    "start_time": "2021-08-14T14:10:24.817Z"
   },
   {
    "duration": 20,
    "start_time": "2021-08-14T14:10:24.846Z"
   },
   {
    "duration": 27,
    "start_time": "2021-08-14T14:10:24.885Z"
   },
   {
    "duration": 24,
    "start_time": "2021-08-14T14:10:24.915Z"
   },
   {
    "duration": 27,
    "start_time": "2021-08-14T14:10:24.942Z"
   },
   {
    "duration": 21,
    "start_time": "2021-08-14T14:10:24.987Z"
   },
   {
    "duration": 18,
    "start_time": "2021-08-14T14:10:25.012Z"
   },
   {
    "duration": 18,
    "start_time": "2021-08-14T14:10:25.034Z"
   },
   {
    "duration": 13,
    "start_time": "2021-08-14T14:10:25.087Z"
   },
   {
    "duration": 15,
    "start_time": "2021-08-14T14:10:25.103Z"
   },
   {
    "duration": 45,
    "start_time": "2021-08-14T14:10:25.121Z"
   },
   {
    "duration": 26,
    "start_time": "2021-08-14T14:10:25.186Z"
   },
   {
    "duration": 37,
    "start_time": "2021-08-14T14:10:25.214Z"
   },
   {
    "duration": 34,
    "start_time": "2021-08-14T14:10:25.254Z"
   },
   {
    "duration": 23,
    "start_time": "2021-08-14T14:10:25.290Z"
   },
   {
    "duration": 35,
    "start_time": "2021-08-14T14:10:25.315Z"
   },
   {
    "duration": 26,
    "start_time": "2021-08-14T14:10:25.353Z"
   },
   {
    "duration": 35,
    "start_time": "2021-08-14T14:10:25.381Z"
   },
   {
    "duration": 14,
    "start_time": "2021-08-14T14:10:25.418Z"
   },
   {
    "duration": 14,
    "start_time": "2021-08-14T14:10:25.435Z"
   },
   {
    "duration": 44,
    "start_time": "2021-08-14T14:10:25.454Z"
   },
   {
    "duration": 10,
    "start_time": "2021-08-14T14:10:25.501Z"
   },
   {
    "duration": 13,
    "start_time": "2021-08-14T14:10:25.514Z"
   },
   {
    "duration": 21,
    "start_time": "2021-08-14T14:10:25.530Z"
   },
   {
    "duration": 51,
    "start_time": "2021-08-14T14:10:25.554Z"
   },
   {
    "duration": 57,
    "start_time": "2021-08-14T14:10:25.607Z"
   },
   {
    "duration": 31,
    "start_time": "2021-08-14T14:10:25.666Z"
   },
   {
    "duration": 11,
    "start_time": "2021-08-14T14:10:25.700Z"
   },
   {
    "duration": 30,
    "start_time": "2021-08-14T14:10:25.714Z"
   },
   {
    "duration": 60,
    "start_time": "2021-08-14T14:10:25.747Z"
   },
   {
    "duration": 8248,
    "start_time": "2021-08-14T14:10:25.809Z"
   },
   {
    "duration": 5,
    "start_time": "2021-08-14T14:10:34.060Z"
   },
   {
    "duration": 3959,
    "start_time": "2021-08-14T14:10:34.067Z"
   },
   {
    "duration": 23,
    "start_time": "2021-08-14T14:10:38.029Z"
   },
   {
    "duration": 41,
    "start_time": "2021-08-14T14:10:38.054Z"
   },
   {
    "duration": 16,
    "start_time": "2021-08-14T14:10:38.097Z"
   },
   {
    "duration": 21,
    "start_time": "2021-08-14T14:10:38.115Z"
   },
   {
    "duration": 58,
    "start_time": "2021-08-14T14:10:38.139Z"
   },
   {
    "duration": 17,
    "start_time": "2021-08-14T14:10:38.199Z"
   },
   {
    "duration": 29,
    "start_time": "2021-08-14T14:10:38.218Z"
   },
   {
    "duration": 48,
    "start_time": "2021-08-14T14:10:38.250Z"
   },
   {
    "duration": 15,
    "start_time": "2021-08-14T14:10:38.300Z"
   },
   {
    "duration": 28,
    "start_time": "2021-08-14T14:10:38.318Z"
   },
   {
    "duration": 63,
    "start_time": "2021-08-14T14:10:38.349Z"
   },
   {
    "duration": 17,
    "start_time": "2021-08-14T14:10:38.414Z"
   },
   {
    "duration": 54,
    "start_time": "2021-08-14T14:10:38.433Z"
   },
   {
    "duration": 19,
    "start_time": "2021-08-14T14:10:38.489Z"
   },
   {
    "duration": 41,
    "start_time": "2021-08-14T14:16:40.755Z"
   },
   {
    "duration": 70,
    "start_time": "2021-08-14T14:47:23.415Z"
   },
   {
    "duration": 18,
    "start_time": "2021-08-14T14:47:23.487Z"
   },
   {
    "duration": 20,
    "start_time": "2021-08-14T14:47:23.508Z"
   },
   {
    "duration": 13,
    "start_time": "2021-08-14T14:47:23.531Z"
   },
   {
    "duration": 60,
    "start_time": "2021-08-14T14:47:23.546Z"
   },
   {
    "duration": 11,
    "start_time": "2021-08-14T14:47:23.608Z"
   },
   {
    "duration": 10,
    "start_time": "2021-08-14T14:47:23.621Z"
   },
   {
    "duration": 54,
    "start_time": "2021-08-14T14:47:23.635Z"
   },
   {
    "duration": 11,
    "start_time": "2021-08-14T14:47:23.692Z"
   },
   {
    "duration": 15,
    "start_time": "2021-08-14T14:47:23.705Z"
   },
   {
    "duration": 10,
    "start_time": "2021-08-14T14:47:23.723Z"
   },
   {
    "duration": 55,
    "start_time": "2021-08-14T14:47:23.736Z"
   },
   {
    "duration": 31,
    "start_time": "2021-08-14T14:47:23.793Z"
   },
   {
    "duration": 22,
    "start_time": "2021-08-14T14:47:23.826Z"
   },
   {
    "duration": 69,
    "start_time": "2021-08-14T14:47:23.851Z"
   },
   {
    "duration": 5,
    "start_time": "2021-08-14T14:47:23.923Z"
   },
   {
    "duration": 12,
    "start_time": "2021-08-14T14:47:23.930Z"
   },
   {
    "duration": 62,
    "start_time": "2021-08-14T14:47:23.945Z"
   },
   {
    "duration": 16,
    "start_time": "2021-08-14T14:47:24.010Z"
   },
   {
    "duration": 56,
    "start_time": "2021-08-14T14:47:24.029Z"
   },
   {
    "duration": 15,
    "start_time": "2021-08-14T14:47:24.088Z"
   },
   {
    "duration": 7,
    "start_time": "2021-08-14T14:47:24.105Z"
   },
   {
    "duration": 16,
    "start_time": "2021-08-14T14:47:24.118Z"
   },
   {
    "duration": 14,
    "start_time": "2021-08-14T14:47:24.137Z"
   },
   {
    "duration": 7,
    "start_time": "2021-08-14T14:47:24.186Z"
   },
   {
    "duration": 15,
    "start_time": "2021-08-14T14:47:24.196Z"
   },
   {
    "duration": 29,
    "start_time": "2021-08-14T14:47:24.213Z"
   },
   {
    "duration": 93,
    "start_time": "2021-08-14T14:47:24.245Z"
   },
   {
    "duration": 11,
    "start_time": "2021-08-14T14:47:24.340Z"
   },
   {
    "duration": 34,
    "start_time": "2021-08-14T14:47:24.353Z"
   },
   {
    "duration": 21,
    "start_time": "2021-08-14T14:47:24.389Z"
   },
   {
    "duration": 38,
    "start_time": "2021-08-14T14:47:24.412Z"
   },
   {
    "duration": 8143,
    "start_time": "2021-08-14T14:47:24.453Z"
   },
   {
    "duration": 4,
    "start_time": "2021-08-14T14:47:32.598Z"
   },
   {
    "duration": 3724,
    "start_time": "2021-08-14T14:47:32.605Z"
   },
   {
    "duration": 22,
    "start_time": "2021-08-14T14:47:36.332Z"
   },
   {
    "duration": 40,
    "start_time": "2021-08-14T14:47:36.358Z"
   },
   {
    "duration": 24,
    "start_time": "2021-08-14T14:47:36.401Z"
   },
   {
    "duration": 24,
    "start_time": "2021-08-14T14:47:36.428Z"
   },
   {
    "duration": 19,
    "start_time": "2021-08-14T14:47:36.487Z"
   },
   {
    "duration": 23,
    "start_time": "2021-08-14T14:47:36.508Z"
   },
   {
    "duration": 19,
    "start_time": "2021-08-14T14:47:36.533Z"
   },
   {
    "duration": 43,
    "start_time": "2021-08-14T14:47:36.555Z"
   },
   {
    "duration": 22,
    "start_time": "2021-08-14T14:47:36.600Z"
   },
   {
    "duration": 33,
    "start_time": "2021-08-14T14:47:36.625Z"
   },
   {
    "duration": 48,
    "start_time": "2021-08-14T14:47:36.661Z"
   },
   {
    "duration": 16,
    "start_time": "2021-08-14T14:47:36.712Z"
   },
   {
    "duration": 48,
    "start_time": "2021-08-14T14:47:36.731Z"
   },
   {
    "duration": 19,
    "start_time": "2021-08-14T14:47:36.781Z"
   },
   {
    "duration": 850,
    "start_time": "2021-08-15T06:29:11.652Z"
   },
   {
    "duration": 29,
    "start_time": "2021-08-15T06:29:12.504Z"
   },
   {
    "duration": 31,
    "start_time": "2021-08-15T06:29:12.536Z"
   },
   {
    "duration": 14,
    "start_time": "2021-08-15T06:29:12.570Z"
   },
   {
    "duration": 26,
    "start_time": "2021-08-15T06:29:12.587Z"
   },
   {
    "duration": 50,
    "start_time": "2021-08-15T06:29:12.617Z"
   },
   {
    "duration": 12,
    "start_time": "2021-08-15T06:29:12.670Z"
   },
   {
    "duration": 21,
    "start_time": "2021-08-15T06:29:12.688Z"
   },
   {
    "duration": 53,
    "start_time": "2021-08-15T06:29:12.714Z"
   },
   {
    "duration": 14,
    "start_time": "2021-08-15T06:29:12.770Z"
   },
   {
    "duration": 20,
    "start_time": "2021-08-15T06:29:12.787Z"
   },
   {
    "duration": 45,
    "start_time": "2021-08-15T06:29:12.811Z"
   },
   {
    "duration": 34,
    "start_time": "2021-08-15T06:29:12.859Z"
   },
   {
    "duration": 26,
    "start_time": "2021-08-15T06:29:12.896Z"
   },
   {
    "duration": 60,
    "start_time": "2021-08-15T06:29:12.924Z"
   },
   {
    "duration": 6,
    "start_time": "2021-08-15T06:29:12.987Z"
   },
   {
    "duration": 21,
    "start_time": "2021-08-15T06:29:12.995Z"
   },
   {
    "duration": 47,
    "start_time": "2021-08-15T06:29:13.020Z"
   },
   {
    "duration": 12,
    "start_time": "2021-08-15T06:29:13.070Z"
   },
   {
    "duration": 31,
    "start_time": "2021-08-15T06:29:13.084Z"
   },
   {
    "duration": 14,
    "start_time": "2021-08-15T06:29:13.117Z"
   },
   {
    "duration": 7,
    "start_time": "2021-08-15T06:29:13.156Z"
   },
   {
    "duration": 24,
    "start_time": "2021-08-15T06:29:13.168Z"
   },
   {
    "duration": 27,
    "start_time": "2021-08-15T06:29:13.196Z"
   },
   {
    "duration": 20,
    "start_time": "2021-08-15T06:29:13.225Z"
   },
   {
    "duration": 19,
    "start_time": "2021-08-15T06:29:13.247Z"
   },
   {
    "duration": 27,
    "start_time": "2021-08-15T06:29:13.268Z"
   },
   {
    "duration": 67,
    "start_time": "2021-08-15T06:29:13.297Z"
   },
   {
    "duration": 13,
    "start_time": "2021-08-15T06:29:13.367Z"
   },
   {
    "duration": 13,
    "start_time": "2021-08-15T06:29:13.383Z"
   },
   {
    "duration": 34,
    "start_time": "2021-08-15T06:29:13.399Z"
   },
   {
    "duration": 46,
    "start_time": "2021-08-15T06:29:13.435Z"
   },
   {
    "duration": 8524,
    "start_time": "2021-08-15T06:29:13.483Z"
   },
   {
    "duration": 4,
    "start_time": "2021-08-15T06:29:22.010Z"
   },
   {
    "duration": 3589,
    "start_time": "2021-08-15T06:29:22.016Z"
   },
   {
    "duration": 118,
    "start_time": "2021-08-15T06:29:25.607Z"
   },
   {
    "duration": -2278,
    "start_time": "2021-08-15T06:29:28.006Z"
   },
   {
    "duration": -2279,
    "start_time": "2021-08-15T06:29:28.009Z"
   },
   {
    "duration": -2284,
    "start_time": "2021-08-15T06:29:28.015Z"
   },
   {
    "duration": -2285,
    "start_time": "2021-08-15T06:29:28.018Z"
   },
   {
    "duration": -2288,
    "start_time": "2021-08-15T06:29:28.022Z"
   },
   {
    "duration": -2288,
    "start_time": "2021-08-15T06:29:28.024Z"
   },
   {
    "duration": -2288,
    "start_time": "2021-08-15T06:29:28.026Z"
   },
   {
    "duration": -2288,
    "start_time": "2021-08-15T06:29:28.028Z"
   },
   {
    "duration": -2293,
    "start_time": "2021-08-15T06:29:28.035Z"
   },
   {
    "duration": -2296,
    "start_time": "2021-08-15T06:29:28.040Z"
   },
   {
    "duration": -2302,
    "start_time": "2021-08-15T06:29:28.047Z"
   },
   {
    "duration": -2302,
    "start_time": "2021-08-15T06:29:28.049Z"
   },
   {
    "duration": -2302,
    "start_time": "2021-08-15T06:29:28.051Z"
   },
   {
    "duration": -2304,
    "start_time": "2021-08-15T06:29:28.055Z"
   },
   {
    "duration": -2305,
    "start_time": "2021-08-15T06:29:28.058Z"
   },
   {
    "duration": 5,
    "start_time": "2021-08-15T06:29:42.577Z"
   },
   {
    "duration": 1103,
    "start_time": "2021-08-15T06:29:44.087Z"
   },
   {
    "duration": 214,
    "start_time": "2021-08-15T06:30:27.080Z"
   },
   {
    "duration": 19,
    "start_time": "2021-08-15T06:30:27.440Z"
   },
   {
    "duration": 5,
    "start_time": "2021-08-15T06:30:31.134Z"
   },
   {
    "duration": 14,
    "start_time": "2021-08-15T06:30:31.889Z"
   },
   {
    "duration": 5,
    "start_time": "2021-08-15T06:32:10.190Z"
   },
   {
    "duration": 23,
    "start_time": "2021-08-15T06:32:10.850Z"
   },
   {
    "duration": 6,
    "start_time": "2021-08-15T06:32:27.748Z"
   },
   {
    "duration": 21,
    "start_time": "2021-08-15T06:32:28.121Z"
   },
   {
    "duration": 5,
    "start_time": "2021-08-15T06:32:47.446Z"
   },
   {
    "duration": 21,
    "start_time": "2021-08-15T06:32:47.888Z"
   },
   {
    "duration": 6,
    "start_time": "2021-08-15T06:34:47.620Z"
   },
   {
    "duration": 21,
    "start_time": "2021-08-15T06:34:48.239Z"
   },
   {
    "duration": 104,
    "start_time": "2021-08-15T06:36:34.047Z"
   },
   {
    "duration": 6,
    "start_time": "2021-08-15T06:36:57.181Z"
   },
   {
    "duration": 23,
    "start_time": "2021-08-15T06:36:57.609Z"
   },
   {
    "duration": 809,
    "start_time": "2021-08-15T06:43:18.196Z"
   },
   {
    "duration": 30,
    "start_time": "2021-08-15T06:43:19.008Z"
   },
   {
    "duration": 22,
    "start_time": "2021-08-15T06:43:19.042Z"
   },
   {
    "duration": 12,
    "start_time": "2021-08-15T06:43:19.067Z"
   },
   {
    "duration": 27,
    "start_time": "2021-08-15T06:43:19.081Z"
   },
   {
    "duration": 47,
    "start_time": "2021-08-15T06:43:19.110Z"
   },
   {
    "duration": 12,
    "start_time": "2021-08-15T06:43:19.160Z"
   },
   {
    "duration": 20,
    "start_time": "2021-08-15T06:43:19.176Z"
   },
   {
    "duration": 10,
    "start_time": "2021-08-15T06:43:19.199Z"
   },
   {
    "duration": 49,
    "start_time": "2021-08-15T06:43:19.211Z"
   },
   {
    "duration": 10,
    "start_time": "2021-08-15T06:43:19.263Z"
   },
   {
    "duration": 9,
    "start_time": "2021-08-15T06:43:19.276Z"
   },
   {
    "duration": 30,
    "start_time": "2021-08-15T06:43:19.288Z"
   },
   {
    "duration": 26,
    "start_time": "2021-08-15T06:43:19.357Z"
   },
   {
    "duration": 35,
    "start_time": "2021-08-15T06:43:19.385Z"
   },
   {
    "duration": 33,
    "start_time": "2021-08-15T06:43:19.423Z"
   },
   {
    "duration": 9,
    "start_time": "2021-08-15T06:43:19.458Z"
   },
   {
    "duration": 23,
    "start_time": "2021-08-15T06:43:19.470Z"
   },
   {
    "duration": 16,
    "start_time": "2021-08-15T06:43:19.495Z"
   },
   {
    "duration": 62,
    "start_time": "2021-08-15T06:43:19.513Z"
   },
   {
    "duration": 15,
    "start_time": "2021-08-15T06:43:19.577Z"
   },
   {
    "duration": 9,
    "start_time": "2021-08-15T06:43:19.595Z"
   },
   {
    "duration": 49,
    "start_time": "2021-08-15T06:43:19.612Z"
   },
   {
    "duration": 14,
    "start_time": "2021-08-15T06:43:19.665Z"
   },
   {
    "duration": 8,
    "start_time": "2021-08-15T06:43:19.682Z"
   },
   {
    "duration": 16,
    "start_time": "2021-08-15T06:43:19.693Z"
   },
   {
    "duration": 67,
    "start_time": "2021-08-15T06:43:19.712Z"
   },
   {
    "duration": 49,
    "start_time": "2021-08-15T06:43:19.782Z"
   },
   {
    "duration": 10,
    "start_time": "2021-08-15T06:43:19.857Z"
   },
   {
    "duration": 13,
    "start_time": "2021-08-15T06:43:19.869Z"
   },
   {
    "duration": 27,
    "start_time": "2021-08-15T06:43:19.884Z"
   },
   {
    "duration": 57,
    "start_time": "2021-08-15T06:43:19.914Z"
   },
   {
    "duration": 7927,
    "start_time": "2021-08-15T06:43:19.973Z"
   },
   {
    "duration": 4,
    "start_time": "2021-08-15T06:43:27.902Z"
   },
   {
    "duration": 3614,
    "start_time": "2021-08-15T06:43:27.908Z"
   },
   {
    "duration": 38,
    "start_time": "2021-08-15T06:43:31.525Z"
   },
   {
    "duration": 25,
    "start_time": "2021-08-15T06:43:31.566Z"
   },
   {
    "duration": 15,
    "start_time": "2021-08-15T06:43:31.593Z"
   },
   {
    "duration": 46,
    "start_time": "2021-08-15T06:43:31.610Z"
   },
   {
    "duration": 19,
    "start_time": "2021-08-15T06:43:31.659Z"
   },
   {
    "duration": 15,
    "start_time": "2021-08-15T06:43:31.680Z"
   },
   {
    "duration": 28,
    "start_time": "2021-08-15T06:43:31.697Z"
   },
   {
    "duration": 42,
    "start_time": "2021-08-15T06:43:31.728Z"
   },
   {
    "duration": 17,
    "start_time": "2021-08-15T06:43:31.773Z"
   },
   {
    "duration": 24,
    "start_time": "2021-08-15T06:43:31.792Z"
   },
   {
    "duration": 62,
    "start_time": "2021-08-15T06:43:31.819Z"
   },
   {
    "duration": 16,
    "start_time": "2021-08-15T06:43:31.883Z"
   },
   {
    "duration": 23,
    "start_time": "2021-08-15T06:43:31.902Z"
   },
   {
    "duration": 43,
    "start_time": "2021-08-15T06:43:31.927Z"
   },
   {
    "duration": 312,
    "start_time": "2021-08-15T07:20:05.152Z"
   },
   {
    "duration": 611,
    "start_time": "2021-08-15T07:20:10.560Z"
   },
   {
    "duration": 16,
    "start_time": "2021-08-15T07:20:11.173Z"
   },
   {
    "duration": 11,
    "start_time": "2021-08-15T07:20:11.190Z"
   },
   {
    "duration": 7,
    "start_time": "2021-08-15T07:20:11.203Z"
   },
   {
    "duration": 13,
    "start_time": "2021-08-15T07:20:11.212Z"
   },
   {
    "duration": 8,
    "start_time": "2021-08-15T07:20:11.227Z"
   },
   {
    "duration": 6,
    "start_time": "2021-08-15T07:20:11.237Z"
   },
   {
    "duration": 13,
    "start_time": "2021-08-15T07:20:11.244Z"
   },
   {
    "duration": 38,
    "start_time": "2021-08-15T07:20:11.259Z"
   },
   {
    "duration": 9,
    "start_time": "2021-08-15T07:20:11.300Z"
   },
   {
    "duration": 8,
    "start_time": "2021-08-15T07:20:11.310Z"
   },
   {
    "duration": 7,
    "start_time": "2021-08-15T07:20:11.320Z"
   },
   {
    "duration": 18,
    "start_time": "2021-08-15T07:20:11.329Z"
   },
   {
    "duration": 49,
    "start_time": "2021-08-15T07:20:11.349Z"
   },
   {
    "duration": 22,
    "start_time": "2021-08-15T07:20:11.399Z"
   },
   {
    "duration": 3,
    "start_time": "2021-08-15T07:20:11.423Z"
   },
   {
    "duration": 7,
    "start_time": "2021-08-15T07:20:11.428Z"
   },
   {
    "duration": 17,
    "start_time": "2021-08-15T07:20:11.437Z"
   },
   {
    "duration": 37,
    "start_time": "2021-08-15T07:20:11.455Z"
   },
   {
    "duration": 20,
    "start_time": "2021-08-15T07:20:11.494Z"
   },
   {
    "duration": 10,
    "start_time": "2021-08-15T07:20:11.515Z"
   },
   {
    "duration": 5,
    "start_time": "2021-08-15T07:20:11.527Z"
   },
   {
    "duration": 12,
    "start_time": "2021-08-15T07:20:11.534Z"
   },
   {
    "duration": 10,
    "start_time": "2021-08-15T07:20:11.548Z"
   },
   {
    "duration": 32,
    "start_time": "2021-08-15T07:20:11.559Z"
   },
   {
    "duration": 9,
    "start_time": "2021-08-15T07:20:11.592Z"
   },
   {
    "duration": 15,
    "start_time": "2021-08-15T07:20:11.604Z"
   },
   {
    "duration": 29,
    "start_time": "2021-08-15T07:20:11.621Z"
   },
   {
    "duration": 7,
    "start_time": "2021-08-15T07:20:11.651Z"
   },
   {
    "duration": 5,
    "start_time": "2021-08-15T07:20:11.659Z"
   },
   {
    "duration": 12,
    "start_time": "2021-08-15T07:20:11.691Z"
   },
   {
    "duration": 16,
    "start_time": "2021-08-15T07:20:11.705Z"
   },
   {
    "duration": 5645,
    "start_time": "2021-08-15T07:20:11.722Z"
   },
   {
    "duration": 3,
    "start_time": "2021-08-15T07:20:17.369Z"
   },
   {
    "duration": 2444,
    "start_time": "2021-08-15T07:20:17.373Z"
   },
   {
    "duration": 15,
    "start_time": "2021-08-15T07:20:19.819Z"
   },
   {
    "duration": 14,
    "start_time": "2021-08-15T07:20:19.835Z"
   },
   {
    "duration": 8,
    "start_time": "2021-08-15T07:20:19.851Z"
   },
   {
    "duration": 35,
    "start_time": "2021-08-15T07:20:19.861Z"
   },
   {
    "duration": 11,
    "start_time": "2021-08-15T07:20:19.897Z"
   },
   {
    "duration": 11,
    "start_time": "2021-08-15T07:20:19.909Z"
   },
   {
    "duration": 12,
    "start_time": "2021-08-15T07:20:19.922Z"
   },
   {
    "duration": 14,
    "start_time": "2021-08-15T07:20:19.936Z"
   },
   {
    "duration": 8,
    "start_time": "2021-08-15T07:20:19.951Z"
   },
   {
    "duration": 39,
    "start_time": "2021-08-15T07:20:19.961Z"
   },
   {
    "duration": 17,
    "start_time": "2021-08-15T07:20:20.001Z"
   },
   {
    "duration": 10,
    "start_time": "2021-08-15T07:20:20.020Z"
   },
   {
    "duration": 14,
    "start_time": "2021-08-15T07:20:20.032Z"
   },
   {
    "duration": 12,
    "start_time": "2021-08-15T07:20:20.047Z"
   },
   {
    "duration": 598,
    "start_time": "2021-08-17T10:46:19.015Z"
   },
   {
    "duration": 16,
    "start_time": "2021-08-17T10:46:19.615Z"
   },
   {
    "duration": 9,
    "start_time": "2021-08-17T10:46:19.633Z"
   },
   {
    "duration": 8,
    "start_time": "2021-08-17T10:46:19.644Z"
   },
   {
    "duration": 16,
    "start_time": "2021-08-17T10:46:19.654Z"
   },
   {
    "duration": 23,
    "start_time": "2021-08-17T10:46:19.672Z"
   },
   {
    "duration": 19,
    "start_time": "2021-08-17T10:46:19.696Z"
   },
   {
    "duration": 18,
    "start_time": "2021-08-17T10:46:19.717Z"
   },
   {
    "duration": 7,
    "start_time": "2021-08-17T10:46:19.737Z"
   },
   {
    "duration": 6,
    "start_time": "2021-08-17T10:46:19.745Z"
   },
   {
    "duration": 8,
    "start_time": "2021-08-17T10:46:19.752Z"
   },
   {
    "duration": 6,
    "start_time": "2021-08-17T10:46:19.762Z"
   },
   {
    "duration": 39,
    "start_time": "2021-08-17T10:46:19.769Z"
   },
   {
    "duration": 13,
    "start_time": "2021-08-17T10:46:19.810Z"
   },
   {
    "duration": 271,
    "start_time": "2021-08-17T10:46:19.824Z"
   },
   {
    "duration": -2271,
    "start_time": "2021-08-17T10:46:22.368Z"
   },
   {
    "duration": -2276,
    "start_time": "2021-08-17T10:46:22.374Z"
   },
   {
    "duration": -2285,
    "start_time": "2021-08-17T10:46:22.384Z"
   },
   {
    "duration": -2290,
    "start_time": "2021-08-17T10:46:22.390Z"
   },
   {
    "duration": -2297,
    "start_time": "2021-08-17T10:46:22.398Z"
   },
   {
    "duration": -2301,
    "start_time": "2021-08-17T10:46:22.403Z"
   },
   {
    "duration": -2306,
    "start_time": "2021-08-17T10:46:22.409Z"
   },
   {
    "duration": -2315,
    "start_time": "2021-08-17T10:46:22.419Z"
   },
   {
    "duration": -2321,
    "start_time": "2021-08-17T10:46:22.426Z"
   },
   {
    "duration": -2329,
    "start_time": "2021-08-17T10:46:22.435Z"
   },
   {
    "duration": -2334,
    "start_time": "2021-08-17T10:46:22.441Z"
   },
   {
    "duration": -2343,
    "start_time": "2021-08-17T10:46:22.451Z"
   },
   {
    "duration": -2348,
    "start_time": "2021-08-17T10:46:22.457Z"
   },
   {
    "duration": -2355,
    "start_time": "2021-08-17T10:46:22.465Z"
   },
   {
    "duration": -2358,
    "start_time": "2021-08-17T10:46:22.469Z"
   },
   {
    "duration": -2363,
    "start_time": "2021-08-17T10:46:22.475Z"
   },
   {
    "duration": -2371,
    "start_time": "2021-08-17T10:46:22.484Z"
   },
   {
    "duration": -2375,
    "start_time": "2021-08-17T10:46:22.489Z"
   },
   {
    "duration": -2382,
    "start_time": "2021-08-17T10:46:22.497Z"
   },
   {
    "duration": -2388,
    "start_time": "2021-08-17T10:46:22.504Z"
   },
   {
    "duration": -2391,
    "start_time": "2021-08-17T10:46:22.509Z"
   },
   {
    "duration": -2398,
    "start_time": "2021-08-17T10:46:22.517Z"
   },
   {
    "duration": -2403,
    "start_time": "2021-08-17T10:46:22.522Z"
   },
   {
    "duration": -2411,
    "start_time": "2021-08-17T10:46:22.531Z"
   },
   {
    "duration": -2416,
    "start_time": "2021-08-17T10:46:22.537Z"
   },
   {
    "duration": -2420,
    "start_time": "2021-08-17T10:46:22.542Z"
   },
   {
    "duration": -2427,
    "start_time": "2021-08-17T10:46:22.550Z"
   },
   {
    "duration": -2432,
    "start_time": "2021-08-17T10:46:22.556Z"
   },
   {
    "duration": -2439,
    "start_time": "2021-08-17T10:46:22.564Z"
   },
   {
    "duration": -2444,
    "start_time": "2021-08-17T10:46:22.570Z"
   },
   {
    "duration": -2449,
    "start_time": "2021-08-17T10:46:22.576Z"
   },
   {
    "duration": -2457,
    "start_time": "2021-08-17T10:46:22.585Z"
   },
   {
    "duration": -2462,
    "start_time": "2021-08-17T10:46:22.591Z"
   },
   {
    "duration": -2474,
    "start_time": "2021-08-17T10:46:22.604Z"
   },
   {
    "duration": 441,
    "start_time": "2021-08-17T10:47:00.249Z"
   },
   {
    "duration": 100,
    "start_time": "2021-08-17T10:54:29.556Z"
   },
   {
    "duration": 261,
    "start_time": "2021-08-17T10:55:06.569Z"
   },
   {
    "duration": 64,
    "start_time": "2021-08-17T10:55:14.518Z"
   },
   {
    "duration": 15,
    "start_time": "2021-08-17T10:55:14.584Z"
   },
   {
    "duration": 16,
    "start_time": "2021-08-17T10:55:14.602Z"
   },
   {
    "duration": 12,
    "start_time": "2021-08-17T10:55:14.620Z"
   },
   {
    "duration": 15,
    "start_time": "2021-08-17T10:55:14.634Z"
   },
   {
    "duration": 42,
    "start_time": "2021-08-17T10:55:14.650Z"
   },
   {
    "duration": 7,
    "start_time": "2021-08-17T10:55:14.694Z"
   },
   {
    "duration": 15,
    "start_time": "2021-08-17T10:55:14.702Z"
   },
   {
    "duration": 6,
    "start_time": "2021-08-17T10:55:14.720Z"
   },
   {
    "duration": 6,
    "start_time": "2021-08-17T10:55:14.728Z"
   },
   {
    "duration": 6,
    "start_time": "2021-08-17T10:55:14.736Z"
   },
   {
    "duration": 8,
    "start_time": "2021-08-17T10:55:14.744Z"
   },
   {
    "duration": 48,
    "start_time": "2021-08-17T10:55:14.753Z"
   },
   {
    "duration": 11,
    "start_time": "2021-08-17T10:55:14.802Z"
   },
   {
    "duration": 48,
    "start_time": "2021-08-17T10:55:14.815Z"
   },
   {
    "duration": 26,
    "start_time": "2021-08-17T10:55:14.865Z"
   },
   {
    "duration": 10,
    "start_time": "2021-08-17T10:55:14.893Z"
   },
   {
    "duration": 17,
    "start_time": "2021-08-17T10:55:14.905Z"
   },
   {
    "duration": 10,
    "start_time": "2021-08-17T10:55:14.923Z"
   },
   {
    "duration": 19,
    "start_time": "2021-08-17T10:55:14.935Z"
   },
   {
    "duration": 38,
    "start_time": "2021-08-17T10:55:14.956Z"
   },
   {
    "duration": 5,
    "start_time": "2021-08-17T10:55:14.996Z"
   },
   {
    "duration": 21,
    "start_time": "2021-08-17T10:55:15.002Z"
   },
   {
    "duration": 16,
    "start_time": "2021-08-17T10:55:15.024Z"
   },
   {
    "duration": 12,
    "start_time": "2021-08-17T10:55:15.041Z"
   },
   {
    "duration": 14,
    "start_time": "2021-08-17T10:55:15.056Z"
   },
   {
    "duration": 23,
    "start_time": "2021-08-17T10:55:15.073Z"
   },
   {
    "duration": 29,
    "start_time": "2021-08-17T10:55:15.098Z"
   },
   {
    "duration": 6,
    "start_time": "2021-08-17T10:55:15.129Z"
   },
   {
    "duration": 8,
    "start_time": "2021-08-17T10:55:15.136Z"
   },
   {
    "duration": 23,
    "start_time": "2021-08-17T10:55:15.146Z"
   },
   {
    "duration": 49,
    "start_time": "2021-08-17T10:55:15.171Z"
   },
   {
    "duration": 5898,
    "start_time": "2021-08-17T10:55:15.222Z"
   },
   {
    "duration": 3,
    "start_time": "2021-08-17T10:55:21.121Z"
   },
   {
    "duration": 2846,
    "start_time": "2021-08-17T10:55:21.125Z"
   },
   {
    "duration": 30,
    "start_time": "2021-08-17T10:55:23.973Z"
   },
   {
    "duration": 19,
    "start_time": "2021-08-17T10:55:24.005Z"
   },
   {
    "duration": 10,
    "start_time": "2021-08-17T10:55:24.025Z"
   },
   {
    "duration": 12,
    "start_time": "2021-08-17T10:55:24.036Z"
   },
   {
    "duration": 11,
    "start_time": "2021-08-17T10:55:24.049Z"
   },
   {
    "duration": 36,
    "start_time": "2021-08-17T10:55:24.061Z"
   },
   {
    "duration": 14,
    "start_time": "2021-08-17T10:55:24.098Z"
   },
   {
    "duration": 8,
    "start_time": "2021-08-17T10:55:24.113Z"
   },
   {
    "duration": 21,
    "start_time": "2021-08-17T10:55:24.122Z"
   },
   {
    "duration": 22,
    "start_time": "2021-08-17T10:55:24.144Z"
   },
   {
    "duration": 30,
    "start_time": "2021-08-17T10:55:24.168Z"
   },
   {
    "duration": 10,
    "start_time": "2021-08-17T10:55:24.200Z"
   },
   {
    "duration": 14,
    "start_time": "2021-08-17T10:55:24.211Z"
   },
   {
    "duration": 11,
    "start_time": "2021-08-17T10:55:24.227Z"
   },
   {
    "duration": 13,
    "start_time": "2021-08-17T11:01:59.933Z"
   }
  ],
  "kernelspec": {
   "display_name": "Python 3",
   "language": "python",
   "name": "python3"
  },
  "language_info": {
   "codemirror_mode": {
    "name": "ipython",
    "version": 3
   },
   "file_extension": ".py",
   "mimetype": "text/x-python",
   "name": "python",
   "nbconvert_exporter": "python",
   "pygments_lexer": "ipython3",
   "version": "3.8.5"
  },
  "toc": {
   "base_numbering": 1,
   "nav_menu": {},
   "number_sections": true,
   "sideBar": true,
   "skip_h1_title": true,
   "title_cell": "Table of Contents",
   "title_sidebar": "Contents",
   "toc_cell": false,
   "toc_position": {},
   "toc_section_display": true,
   "toc_window_display": false
  }
 },
 "nbformat": 4,
 "nbformat_minor": 5
}
